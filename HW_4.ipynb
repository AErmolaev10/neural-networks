{
  "cells": [
    {
      "cell_type": "code",
      "execution_count": 2,
      "id": "83e5d128",
      "metadata": {
        "id": "83e5d128"
      },
      "outputs": [],
      "source": [
        "import tensorflow.keras as keras\n",
        "import numpy as np\n",
        "import os\n",
        "\n",
        "from __future__ import print_function\n",
        "from tensorflow.keras.datasets import cifar10\n",
        "from tensorflow.keras.preprocessing.image import ImageDataGenerator\n",
        "from tensorflow.keras.models import Sequential\n",
        "from tensorflow.keras.layers import Dense, Dropout, Activation, Flatten\n",
        "from tensorflow.keras.layers import Conv2D, MaxPooling2D\n",
        "from matplotlib import pyplot as plt\n",
        "from keras.layers import Input, Concatenate\n",
        "from tensorflow.keras.utils import plot_model\n",
        "from keras.models import Model"
      ]
    },
    {
      "cell_type": "code",
      "execution_count": 3,
      "id": "a987d847",
      "metadata": {
        "id": "a987d847"
      },
      "outputs": [],
      "source": [
        "classes=['самолет', 'автомобиль', 'птица', 'кот', 'олень', 'собака', 'лягушка', 'лошадь', 'корабль', 'грузовик']"
      ]
    },
    {
      "cell_type": "code",
      "execution_count": 4,
      "id": "c5908872",
      "metadata": {
        "colab": {
          "base_uri": "https://localhost:8080/"
        },
        "id": "c5908872",
        "outputId": "cc772e10-6b02-4dbb-9104-c7af5616b7fa"
      },
      "outputs": [
        {
          "output_type": "stream",
          "name": "stdout",
          "text": [
            "Downloading data from https://www.cs.toronto.edu/~kriz/cifar-10-python.tar.gz\n",
            "170500096/170498071 [==============================] - 2s 0us/step\n",
            "170508288/170498071 [==============================] - 2s 0us/step\n",
            "x_train shape: (50000, 32, 32, 3)\n",
            "50000 тренировочные примеры\n",
            "10000 тестовые примеры\n"
          ]
        }
      ],
      "source": [
        "# установка параметров нейросети\n",
        "batch_size = 32\n",
        "num_classes = 10\n",
        "epochs = 1\n",
        "data_augmentation = False\n",
        "num_predictions = 20\n",
        "save_dir = os.path.join(os.getcwd(), 'saved_models')\n",
        "model_name = 'keras_cifar10_trained_model.h5'\n",
        "\n",
        "# разделение тренировочной и тестовой выборки\n",
        "(x_train, y_train), (x_test, y_test) = cifar10.load_data()\n",
        "print('x_train shape:', x_train.shape)\n",
        "print(x_train.shape[0], 'тренировочные примеры')\n",
        "print(x_test.shape[0], 'тестовые примеры')\n",
        "\n",
        "# преобразование матрицы чисел 0-9 в бинарную матрицу чисел 0-1\n",
        "y_train = keras.utils.to_categorical(y_train, num_classes)\n",
        "y_test = keras.utils.to_categorical(y_test, num_classes)\n",
        "\n",
        "\n",
        "x_train = x_train.astype('float32')\n",
        "x_test = x_test.astype('float32')\n",
        "x_train /= 255\n",
        "x_test /= 255"
      ]
    },
    {
      "cell_type": "code",
      "execution_count": 5,
      "id": "179e0b52",
      "metadata": {
        "colab": {
          "base_uri": "https://localhost:8080/",
          "height": 281
        },
        "id": "179e0b52",
        "outputId": "be554239-d58b-4f20-82c0-eb9a1b065c9e"
      },
      "outputs": [
        {
          "output_type": "display_data",
          "data": {
            "image/png": "[encoded data removed]",
            "text/plain": [
              "<Figure size 432x288 with 1 Axes>"
            ]
          },
          "metadata": {
            "needs_background": "light"
          }
        }
      ],
      "source": [
        "N = 100\n",
        "\n",
        "plt.imshow(x_test[N][:,:,:])\n",
        "plt.title('это : '+classes[np.argmax(y_test[N,:])])\n",
        "plt.show()"
      ]
    },
    {
      "cell_type": "code",
      "execution_count": 6,
      "id": "f280dcc3",
      "metadata": {
        "id": "f280dcc3"
      },
      "outputs": [],
      "source": [
        "data_augmentation = True"
      ]
    },
    {
      "cell_type": "code",
      "execution_count": 7,
      "id": "44e2abaf",
      "metadata": {
        "colab": {
          "base_uri": "https://localhost:8080/"
        },
        "id": "44e2abaf",
        "outputId": "3b21fb00-f6f1-4349-c00e-60fb2b69a11f"
      },
      "outputs": [
        {
          "output_type": "stream",
          "name": "stdout",
          "text": [
            "Использование data augmentation в реальном времени\n"
          ]
        },
        {
          "output_type": "stream",
          "name": "stderr",
          "text": [
            "/usr/local/lib/python3.7/dist-packages/ipykernel_launcher.py:78: UserWarning: `Model.fit_generator` is deprecated and will be removed in a future version. Please use `Model.fit`, which supports generators.\n"
          ]
        },
        {
          "output_type": "stream",
          "name": "stdout",
          "text": [
            "1563/1563 [==============================] - 63s 34ms/step - loss: 2.1032 - accuracy: 0.2179 - val_loss: 1.9146 - val_accuracy: 0.3136\n",
            "сохранить обученную модель как /content/saved_models/keras_cifar10_trained_model.h5 \n",
            "313/313 [==============================] - 2s 6ms/step - loss: 1.9146 - accuracy: 0.3136\n",
            "Test loss: 1.9146288633346558\n",
            "Test accuracy: 0.31360000371932983\n"
          ]
        }
      ],
      "source": [
        "# конфигурирование слоев нейросети\n",
        "model = Sequential()\n",
        "\n",
        "# слои нейросети отвественные за свертку и max-pooling\n",
        "model.add(Conv2D(32, (3, 3), padding='same',\n",
        "                 input_shape=x_train.shape[1:]))\n",
        "model.add(Activation('relu'))\n",
        "model.add(Conv2D(32, (3, 3)))\n",
        "model.add(Activation('relu'))\n",
        "model.add(MaxPooling2D(pool_size=(2, 2)))\n",
        "model.add(Dropout( 0.25))\n",
        "\n",
        "model.add(Conv2D(64, (3, 3), padding='same'))\n",
        "model.add(Activation('relu'))\n",
        "model.add(Conv2D(64, (3, 3)))\n",
        "model.add(Activation('relu'))\n",
        "model.add(MaxPooling2D(pool_size=(2, 2)))\n",
        "model.add(Dropout(0.25))\n",
        "\n",
        "# полносвязные слои нейронной сети\n",
        "model.add(Flatten())\n",
        "model.add(Dense(512))\n",
        "model.add(Activation('relu'))\n",
        "model.add(Dropout(0.5))\n",
        "model.add(Dense(num_classes))\n",
        "model.add(Activation('softmax'))\n",
        "\n",
        "# инициализация RMSprop optimizer\n",
        "#opt = tensorflow.keras.optimizers.RMSprop(lr=0.0001, decay=1e-6)\n",
        "\n",
        "# компиляция модели\n",
        "model.compile(loss='categorical_crossentropy',\n",
        "              optimizer='SGD',\n",
        "              metrics=['accuracy'])\n",
        "\n",
        "\n",
        "\n",
        "if not data_augmentation:\n",
        "    print('Не используется data augmentation')\n",
        "    model.fit(x_train, y_train,\n",
        "              batch_size=batch_size,\n",
        "              epochs=epochs,\n",
        "              validation_data=(x_test, y_test),\n",
        "              shuffle=True)\n",
        "else:\n",
        "    print('Использование data augmentation в реальном времени')\n",
        "    # Препроцессинг и data augmentation в реальном времени:\n",
        "    datagen = ImageDataGenerator(\n",
        "        featurewise_center=False,\n",
        "        samplewise_center=False,\n",
        "        featurewise_std_normalization=False,\n",
        "        samplewise_std_normalization=False,\n",
        "        zca_whitening=False, \n",
        "        zca_epsilon=1e-06, \n",
        "        rotation_range=5, \n",
        "        width_shift_range=0.1,\n",
        "        height_shift_range=0.1,\n",
        "        shear_range=0., \n",
        "        zoom_range=0., \n",
        "        channel_shift_range=0.,\n",
        "        fill_mode='nearest',\n",
        "        cval=0.,\n",
        "        horizontal_flip=True,\n",
        "        vertical_flip=False,\n",
        "        rescale=None,\n",
        "        preprocessing_function=None,\n",
        "        data_format=None,\n",
        "        validation_split=0.0)\n",
        "\n",
        "    # запуск data augmentation через fit\n",
        "    #datagen.fit(x_train)\n",
        "\n",
        "    # запуск data augmentation через fit_generator\n",
        "    model.fit_generator(datagen.flow(x_train, y_train,\n",
        "                                     batch_size=batch_size),\n",
        "                        epochs=epochs,\n",
        "                        validation_data=(x_test, y_test),\n",
        "                        workers=-1)\n",
        "\n",
        "# сохранение модели и весов\n",
        "if not os.path.isdir(save_dir):\n",
        "    os.makedirs(save_dir)\n",
        "model_path = os.path.join(save_dir, model_name)\n",
        "model.save(model_path)\n",
        "print('сохранить обученную модель как %s ' % model_path)\n",
        "\n",
        "# проверка работы обученной модели\n",
        "scores = model.evaluate(x_test, y_test, verbose=1)\n",
        "print('Test loss:', scores[0])\n",
        "print('Test accuracy:', scores[1])"
      ]
    },
    {
      "cell_type": "code",
      "execution_count": 8,
      "id": "fb46c8a4",
      "metadata": {
        "colab": {
          "base_uri": "https://localhost:8080/"
        },
        "id": "fb46c8a4",
        "outputId": "d63ebebc-fa41-4037-99b7-fd7a05c3db3e"
      },
      "outputs": [
        {
          "output_type": "stream",
          "name": "stdout",
          "text": [
            "Model: \"sequential\"\n",
            "_________________________________________________________________\n",
            " Layer (type)                Output Shape              Param #   \n",
            "=================================================================\n",
            " conv2d (Conv2D)             (None, 32, 32, 32)        896       \n",
            "                                                                 \n",
            " activation (Activation)     (None, 32, 32, 32)        0         \n",
            "                                                                 \n",
            " conv2d_1 (Conv2D)           (None, 30, 30, 32)        9248      \n",
            "                                                                 \n",
            " activation_1 (Activation)   (None, 30, 30, 32)        0         \n",
            "                                                                 \n",
            " max_pooling2d (MaxPooling2D  (None, 15, 15, 32)       0         \n",
            " )                                                               \n",
            "                                                                 \n",
            " dropout (Dropout)           (None, 15, 15, 32)        0         \n",
            "                                                                 \n",
            " conv2d_2 (Conv2D)           (None, 15, 15, 64)        18496     \n",
            "                                                                 \n",
            " activation_2 (Activation)   (None, 15, 15, 64)        0         \n",
            "                                                                 \n",
            " conv2d_3 (Conv2D)           (None, 13, 13, 64)        36928     \n",
            "                                                                 \n",
            " activation_3 (Activation)   (None, 13, 13, 64)        0         \n",
            "                                                                 \n",
            " max_pooling2d_1 (MaxPooling  (None, 6, 6, 64)         0         \n",
            " 2D)                                                             \n",
            "                                                                 \n",
            " dropout_1 (Dropout)         (None, 6, 6, 64)          0         \n",
            "                                                                 \n",
            " flatten (Flatten)           (None, 2304)              0         \n",
            "                                                                 \n",
            " dense (Dense)               (None, 512)               1180160   \n",
            "                                                                 \n",
            " activation_4 (Activation)   (None, 512)               0         \n",
            "                                                                 \n",
            " dropout_2 (Dropout)         (None, 512)               0         \n",
            "                                                                 \n",
            " dense_1 (Dense)             (None, 10)                5130      \n",
            "                                                                 \n",
            " activation_5 (Activation)   (None, 10)                0         \n",
            "                                                                 \n",
            "=================================================================\n",
            "Total params: 1,250,858\n",
            "Trainable params: 1,250,858\n",
            "Non-trainable params: 0\n",
            "_________________________________________________________________\n"
          ]
        }
      ],
      "source": [
        "model.summary()"
      ]
    },
    {
      "cell_type": "code",
      "execution_count": 9,
      "id": "c3a8d3cc",
      "metadata": {
        "colab": {
          "base_uri": "https://localhost:8080/",
          "height": 281
        },
        "id": "c3a8d3cc",
        "outputId": "21ea2539-2ec4-4ed3-9c83-fe3854691937"
      },
      "outputs": [
        {
          "output_type": "display_data",
          "data": {
            "image/png": "[encoded data removed]",
            "text/plain": [
              "<Figure size 432x288 with 1 Axes>"
            ]
          },
          "metadata": {
            "needs_background": "light"
          }
        }
      ],
      "source": [
        "N = 100\n",
        "y_p=model.predict(x_test[N:N+1][:,:,:])\n",
        "y_t = np.argmax(y_test[N:N+1], axis = 1 )\n",
        "y_i = np.argmax(y_p, axis = 1 )\n",
        "plt.imshow(x_test[N][:,:,:])\n",
        "plt.title('это : '+classes[y_t[0]]+'- опознан как : '+classes[y_i[0]])\n",
        "plt.show()"
      ]
    },
    {
      "cell_type": "code",
      "execution_count": 10,
      "id": "15b3b53c",
      "metadata": {
        "id": "15b3b53c"
      },
      "outputs": [],
      "source": [
        "# установка параметров нейросети\n",
        "batch_size = 32\n",
        "num_classes = 10\n",
        "epochs = 1\n",
        "data_augmentation = True"
      ]
    },
    {
      "cell_type": "code",
      "execution_count": 11,
      "id": "cf29d431",
      "metadata": {
        "id": "cf29d431"
      },
      "outputs": [],
      "source": [
        "# Препроцессинг и data augmentation в реальном времени:\n",
        "datagen = ImageDataGenerator(\n",
        "    featurewise_center=False,\n",
        "    samplewise_center=False,\n",
        "    featurewise_std_normalization=False,\n",
        "    samplewise_std_normalization=False,\n",
        "    zca_whitening=False, \n",
        "    zca_epsilon=1e-06, \n",
        "    rotation_range=5, \n",
        "    width_shift_range=0.1,\n",
        "    height_shift_range=0.1,\n",
        "    shear_range=0., \n",
        "    zoom_range=0., \n",
        "    channel_shift_range=0.,\n",
        "    fill_mode='nearest',\n",
        "    cval=0.,\n",
        "    horizontal_flip=True,\n",
        "    vertical_flip=False,\n",
        "    rescale=None,\n",
        "    preprocessing_function=None,\n",
        "    data_format=None,\n",
        "    validation_split=0.0)"
      ]
    },
    {
      "cell_type": "markdown",
      "id": "431e00cb",
      "metadata": {
        "id": "431e00cb"
      },
      "source": [
        "Попробуем построить модель, которая будет объединением двух нитей со сверточными слоями."
      ]
    },
    {
      "cell_type": "code",
      "execution_count": 12,
      "id": "8c169ca7",
      "metadata": {
        "id": "8c169ca7"
      },
      "outputs": [],
      "source": [
        "first_input = Input(shape=x_train.shape[1:])\n",
        "x11 = Conv2D(32, 3, activation='relu', padding = 'same')(first_input)\n",
        "x12 = Conv2D(64, 3, activation='relu', padding = 'same')(x11)\n",
        "first_dense = x12\n",
        "\n",
        "x21 = Conv2D(32, 5, activation='relu', padding = 'same')(first_input)\n",
        "x22 = Conv2D(64, 5, activation='relu', padding = 'same')(x21)\n",
        "second_dense = x22\n",
        "\n",
        "merge = Concatenate(axis = -1)([first_dense, second_dense])\n",
        "\n",
        "merge_flat = Flatten()(merge)\n",
        "merge_dense = Dense(512, activation='relu')(merge_flat)\n",
        "merge_class = Dense(10, activation='softmax')(merge_dense)\n",
        "\n",
        "model_2stek = Model(inputs=first_input, outputs=merge_class)\n",
        "# sgd_grad = keras.optimizers.SGD(learning_rate=0.001, momentum=0.9)\n",
        "model_2stek.compile(optimizer='SGD', \n",
        "                   loss=keras.losses.CategoricalCrossentropy(),\n",
        "                   metrics=['accuracy'])"
      ]
    },
    {
      "cell_type": "code",
      "execution_count": 13,
      "id": "ba016fb8",
      "metadata": {
        "colab": {
          "base_uri": "https://localhost:8080/"
        },
        "id": "ba016fb8",
        "outputId": "717fb22e-8ab1-4b9b-9535-5ffc01418e3d"
      },
      "outputs": [
        {
          "output_type": "stream",
          "name": "stdout",
          "text": [
            "Прогон 0:\n",
            "1563/1563 [==============================] - 74s 47ms/step - loss: 1.7483 - accuracy: 0.3723 - val_loss: 1.4188 - val_accuracy: 0.4890\n",
            "Прогон 1:\n",
            "1563/1563 [==============================] - 73s 47ms/step - loss: 1.7577 - accuracy: 0.3704 - val_loss: 1.4721 - val_accuracy: 0.4721\n",
            "Прогон 2:\n",
            "1563/1563 [==============================] - 72s 46ms/step - loss: 1.7736 - accuracy: 0.3629 - val_loss: 1.4637 - val_accuracy: 0.4775\n",
            "Прогон 3:\n",
            "1563/1563 [==============================] - 72s 46ms/step - loss: 1.7514 - accuracy: 0.3719 - val_loss: 1.4478 - val_accuracy: 0.4782\n",
            "Прогон 4:\n",
            "1563/1563 [==============================] - 73s 46ms/step - loss: 1.7994 - accuracy: 0.3566 - val_loss: 1.5162 - val_accuracy: 0.4676\n"
          ]
        }
      ],
      "source": [
        "final_scores = []\n",
        "final_losses = []\n",
        "\n",
        "for i in range(5):\n",
        "  print(f'Прогон {i}:')\n",
        "\n",
        "  first_input = Input(shape=x_train.shape[1:])\n",
        "  x11 = Conv2D(32, 3, activation='relu', padding = 'same')(first_input)\n",
        "  x12 = Conv2D(64, 3, activation='relu', padding = 'same')(x11)\n",
        "  first_dense = x12\n",
        "\n",
        "  x21 = Conv2D(32, 5, activation='relu', padding = 'same')(first_input)\n",
        "  x22 = Conv2D(64, 5, activation='relu', padding = 'same')(x21)\n",
        "  second_dense = x22\n",
        "\n",
        "  merge = Concatenate(axis = -1)([first_dense, second_dense])\n",
        "\n",
        "  merge_flat = Flatten()(merge)\n",
        "  merge_dense = Dense(512, activation='relu')(merge_flat)\n",
        "  merge_class = Dense(10, activation='softmax')(merge_dense)\n",
        "\n",
        "  model_2stek = Model(inputs=first_input, outputs=merge_class)\n",
        "  model_2stek.compile(optimizer='SGD', \n",
        "                      loss=keras.losses.CategoricalCrossentropy(),\n",
        "                      metrics=['accuracy'])\n",
        "  hist = model_2stek.fit(datagen.flow(x_train, y_train,\n",
        "                                     batch_size=batch_size), \n",
        "                         epochs = epochs, validation_data=(x_test, y_test))\n",
        "  \n",
        "  # проверка работы обученной модели\n",
        "  scores = model_2stek.evaluate(x_test, y_test, verbose=0)\n",
        "  final_scores.append(scores[1])\n",
        "  final_losses.append(scores[0])"
      ]
    },
    {
      "cell_type": "code",
      "execution_count": 14,
      "id": "e4227fe7",
      "metadata": {
        "colab": {
          "base_uri": "https://localhost:8080/"
        },
        "id": "e4227fe7",
        "outputId": "4e6038cd-b80a-43b3-b3cf-82e97e9828b3"
      },
      "outputs": [
        {
          "output_type": "stream",
          "name": "stdout",
          "text": [
            "Метрика двухнитевой модели на тесте - 0.4769 +- 0.0072\n"
          ]
        }
      ],
      "source": [
        "print(f'Метрика двухнитевой модели на тесте - {np.average(final_scores):.4f} +- {np.std(final_scores):.4f}')"
      ]
    },
    {
      "cell_type": "markdown",
      "id": "840c1f50",
      "metadata": {
        "id": "840c1f50"
      },
      "source": [
        "Видно, что метрика модели улучшилась. Попробуем теперь добавить дополнительную нить и посмотреть каким образом это повлияет на результаты:"
      ]
    },
    {
      "cell_type": "code",
      "execution_count": 15,
      "id": "39804cd6",
      "metadata": {
        "id": "39804cd6"
      },
      "outputs": [],
      "source": [
        "first_input = Input(shape=x_train.shape[1:])\n",
        "x11 = Conv2D(32, 3,activation='relu',padding = 'same')(first_input)\n",
        "x12 = Conv2D(64, 3,activation='relu',padding = 'same')(x11)\n",
        "first_dense = x12\n",
        "\n",
        "x21 = Conv2D(32, 5,activation='relu',padding = 'same')(first_input)\n",
        "x22 = Conv2D(64, 5,activation='relu',padding = 'same')(x21)\n",
        "second_dense = x22\n",
        "\n",
        "merge_one = Concatenate(axis =-1)([first_dense, second_dense])\n",
        "\n",
        "x31 = Conv2D(32,1, activation='relu',padding = 'same')(first_input)\n",
        "x32 = Conv2D(64,1, activation='relu',padding = 'same')(x31)\n",
        "\n",
        "\n",
        "merge_two = Concatenate(axis = -1)([merge_one, x32])\n",
        "\n",
        "merge = Flatten()(merge_two)\n",
        "merge_dense = Dense(512, activation='relu')(merge)\n",
        "merge_class = Dense(10, activation='softmax')(merge_dense)\n",
        "\n",
        "model_3stek = Model(inputs=first_input, outputs=merge_class)\n",
        "model_3stek.compile(optimizer='SGD', \n",
        "                   loss=keras.losses.CategoricalCrossentropy(), \n",
        "                   metrics=['accuracy'])"
      ]
    },
    {
      "cell_type": "code",
      "execution_count": 16,
      "id": "c2c66fe9",
      "metadata": {
        "colab": {
          "base_uri": "https://localhost:8080/"
        },
        "id": "c2c66fe9",
        "outputId": "7ae3472b-b04e-4da9-d1c1-1cfbf6c2a9bd"
      },
      "outputs": [
        {
          "output_type": "stream",
          "name": "stdout",
          "text": [
            "Прогон 0:\n",
            "1563/1563 [==============================] - 106s 67ms/step - loss: 1.8138 - accuracy: 0.3483 - val_loss: 1.6203 - val_accuracy: 0.4338\n",
            "Прогон 1:\n",
            "1563/1563 [==============================] - 105s 67ms/step - loss: 1.7919 - accuracy: 0.3575 - val_loss: 1.5119 - val_accuracy: 0.4597\n",
            "Прогон 2:\n",
            "1563/1563 [==============================] - 105s 67ms/step - loss: 1.7833 - accuracy: 0.3589 - val_loss: 1.4654 - val_accuracy: 0.4736\n",
            "Прогон 3:\n",
            "1563/1563 [==============================] - 105s 66ms/step - loss: 1.8055 - accuracy: 0.3527 - val_loss: 1.4798 - val_accuracy: 0.4743\n",
            "Прогон 4:\n",
            "1563/1563 [==============================] - 105s 67ms/step - loss: 1.7742 - accuracy: 0.3630 - val_loss: 1.5744 - val_accuracy: 0.4307\n",
            "Метрика трехнитевой модели на тесте - 0.4544 +- 0.0189\n"
          ]
        }
      ],
      "source": [
        "final_scores = []\n",
        "final_losses = []\n",
        "\n",
        "for i in range(5):\n",
        "  print(f'Прогон {i}:')\n",
        "\n",
        "  first_input = Input(shape=x_train.shape[1:])\n",
        "  x11 = Conv2D(32, 3,activation='relu',padding = 'same')(first_input)\n",
        "  x12 = Conv2D(64, 3,activation='relu',padding = 'same')(x11)\n",
        "  first_dense = x12\n",
        "\n",
        "  x21 = Conv2D(32, 5,activation='relu',padding = 'same')(first_input)\n",
        "  x22 = Conv2D(64, 5,activation='relu',padding = 'same')(x21)\n",
        "  second_dense = x22\n",
        "\n",
        "  merge_one = Concatenate(axis =-1)([first_dense, second_dense])\n",
        "\n",
        "  x31 = Conv2D(32,1, activation='relu',padding = 'same')(first_input)\n",
        "  x32 = Conv2D(64,1, activation='relu',padding = 'same')(x31)\n",
        "\n",
        "\n",
        "  merge_two = Concatenate(axis = -1)([merge_one, x32])\n",
        "\n",
        "  merge = Flatten()(merge_two)\n",
        "  merge_dense = Dense(512, activation='relu')(merge)\n",
        "  merge_class = Dense(10, activation='softmax')(merge_dense)\n",
        "\n",
        "  model_3stek = Model(inputs=first_input, outputs=merge_class)\n",
        "  model_3stek.compile(optimizer='SGD', \n",
        "                    loss=keras.losses.CategoricalCrossentropy(), \n",
        "                    metrics=['accuracy'])\n",
        "  \n",
        "  hist = model_3stek.fit(datagen.flow(x_train, y_train,\n",
        "                                     batch_size=batch_size), \n",
        "                         epochs = epochs, validation_data=(x_test, y_test))\n",
        "  \n",
        "  # проверка работы обученной модели\n",
        "  scores = model_3stek.evaluate(x_test, y_test, verbose=0)\n",
        "  final_scores.append(scores[1])\n",
        "  final_losses.append(scores[0])\n",
        "\n",
        "\n",
        "print(f'Метрика трехнитевой модели на тесте - {np.average(final_scores):.4f} +- {np.std(final_scores):.4f}')"
      ]
    },
    {
      "cell_type": "markdown",
      "id": "ab4e29f8",
      "metadata": {
        "id": "ab4e29f8"
      },
      "source": [
        "Улучшения метрики при добавлении дополнительной нити сверточных уровней добиться не удалось.\n",
        "\n",
        "Попробуем вернуться к двухнитевой модели и увеличить количество ядер."
      ]
    },
    {
      "cell_type": "code",
      "execution_count": 17,
      "id": "e7ba415d",
      "metadata": {
        "colab": {
          "base_uri": "https://localhost:8080/"
        },
        "id": "e7ba415d",
        "outputId": "9f9a3370-c3fd-4937-95b9-11358d6ff75d"
      },
      "outputs": [
        {
          "output_type": "stream",
          "name": "stdout",
          "text": [
            "Прогон 0:\n",
            "1563/1563 [==============================] - 135s 86ms/step - loss: 1.7795 - accuracy: 0.3611 - val_loss: 1.4745 - val_accuracy: 0.4722\n",
            "Прогон 1:\n",
            "1563/1563 [==============================] - 131s 83ms/step - loss: 1.7740 - accuracy: 0.3630 - val_loss: 1.4526 - val_accuracy: 0.4820\n",
            "Прогон 2:\n",
            "1563/1563 [==============================] - 135s 86ms/step - loss: 1.7783 - accuracy: 0.3648 - val_loss: 1.4830 - val_accuracy: 0.4665\n",
            "Прогон 3:\n",
            "1563/1563 [==============================] - 130s 83ms/step - loss: 1.7688 - accuracy: 0.3652 - val_loss: 1.4701 - val_accuracy: 0.4790\n",
            "Прогон 4:\n",
            "1563/1563 [==============================] - 130s 83ms/step - loss: 1.7730 - accuracy: 0.3650 - val_loss: 1.4293 - val_accuracy: 0.4930\n",
            "Метрика двухнитевой модели с увеличенным количеством ядер на тесте - 0.4785 +- 0.0090\n"
          ]
        }
      ],
      "source": [
        "final_scores = []\n",
        "final_losses = []\n",
        "\n",
        "for i in range(5):\n",
        "  print(f'Прогон {i}:')\n",
        "\n",
        "  first_input = Input(shape=x_train.shape[1:])\n",
        "  x11 = Conv2D(64, 3, activation='relu', padding = 'same')(first_input)\n",
        "  x12 = Conv2D(128, 3, activation='relu', padding = 'same')(x11)\n",
        "  first_dense = x12\n",
        "\n",
        "  x21 = Conv2D(64, 5, activation='relu', padding = 'same')(first_input)\n",
        "  x22 = Conv2D(128, 5, activation='relu', padding = 'same')(x21)\n",
        "  second_dense = x22\n",
        "\n",
        "  merge = Concatenate(axis = -1)([first_dense, second_dense])\n",
        "\n",
        "  merge_flat = Flatten()(merge)\n",
        "  merge_dense = Dense(512, activation='relu')(merge_flat)\n",
        "  merge_class = Dense(10, activation='softmax')(merge_dense)\n",
        "\n",
        "  model_2stek = Model(inputs=first_input, outputs=merge_class)\n",
        "  model_2stek.compile(optimizer='SGD', \n",
        "                      loss=keras.losses.CategoricalCrossentropy(),\n",
        "                      metrics=['accuracy'])\n",
        "  hist = model_2stek.fit(datagen.flow(x_train, y_train,\n",
        "                                     batch_size=batch_size), \n",
        "                         epochs = epochs, validation_data=(x_test, y_test))\n",
        "  \n",
        "  # проверка работы обученной модели\n",
        "  scores = model_2stek.evaluate(x_test, y_test, verbose=0)\n",
        "  final_scores.append(scores[1])\n",
        "  final_losses.append(scores[0])\n",
        "\n",
        "\n",
        "print(f'Метрика двухнитевой модели с увеличенным количеством ядер на тесте - {np.average(final_scores):.4f} +- {np.std(final_scores):.4f}')"
      ]
    },
    {
      "cell_type": "markdown",
      "id": "a00b3e67",
      "metadata": {
        "id": "a00b3e67"
      },
      "source": [
        "Значительного изменения точности по сравнению с обычной двухнитевой моделью добиться не удалось. Попробуем добавить дополнительный сверточный слой на каждую из нитей, сделав модель глубже."
      ]
    },
    {
      "cell_type": "code",
      "execution_count": 18,
      "id": "f2e36b21",
      "metadata": {
        "colab": {
          "base_uri": "https://localhost:8080/"
        },
        "id": "f2e36b21",
        "outputId": "f64e1aba-48b6-407e-fb62-b63f05e062e7"
      },
      "outputs": [
        {
          "output_type": "stream",
          "name": "stdout",
          "text": [
            "Прогон 0:\n",
            "1563/1563 [==============================] - 150s 95ms/step - loss: 1.7701 - accuracy: 0.3669 - val_loss: 1.4780 - val_accuracy: 0.4699\n",
            "Прогон 1:\n",
            "1563/1563 [==============================] - 151s 96ms/step - loss: 1.7511 - accuracy: 0.3702 - val_loss: 1.4203 - val_accuracy: 0.4876\n",
            "Прогон 2:\n",
            "1563/1563 [==============================] - 152s 97ms/step - loss: 1.7538 - accuracy: 0.3679 - val_loss: 1.4985 - val_accuracy: 0.4672\n",
            "Прогон 3:\n",
            "1563/1563 [==============================] - 149s 95ms/step - loss: 1.7831 - accuracy: 0.3604 - val_loss: 1.4694 - val_accuracy: 0.4804\n",
            "Прогон 4:\n",
            "1563/1563 [==============================] - 149s 95ms/step - loss: 1.7779 - accuracy: 0.3575 - val_loss: 1.6345 - val_accuracy: 0.4228\n"
          ]
        }
      ],
      "source": [
        "final_scores = []\n",
        "final_losses = []\n",
        "\n",
        "for i in range(5):\n",
        "  print(f'Прогон {i}:')\n",
        "\n",
        "  first_input = Input(shape=x_train.shape[1:])\n",
        "  x11 = Conv2D(32, 3, activation='relu', padding = 'same')(first_input)\n",
        "  x12 = Conv2D(64, 3, activation='relu', padding = 'same')(x11)\n",
        "  x13 = Conv2D(128, 3, activation='relu', padding = 'same')(x12)\n",
        "  first_dense = x13\n",
        "\n",
        "  x21 = Conv2D(32, 5, activation='relu', padding = 'same')(first_input)\n",
        "  x22 = Conv2D(64, 5, activation='relu', padding = 'same')(x21)\n",
        "  x23 = Conv2D(128, 5, activation='relu', padding = 'same')(x22)\n",
        "  second_dense = x23\n",
        "\n",
        "  merge = Concatenate(axis = -1)([first_dense, second_dense])\n",
        "\n",
        "  merge_flat = Flatten()(merge)\n",
        "  merge_dense = Dense(512, activation='relu')(merge_flat)\n",
        "  merge_class = Dense(10, activation='softmax')(merge_dense)\n",
        "\n",
        "  model_2stek = Model(inputs=first_input, outputs=merge_class)\n",
        "  model_2stek.compile(optimizer='SGD', \n",
        "                      loss=keras.losses.CategoricalCrossentropy(),\n",
        "                      metrics=['accuracy'])\n",
        "  hist = model_2stek.fit(datagen.flow(x_train, y_train,\n",
        "                                     batch_size=batch_size), \n",
        "                         epochs = epochs, validation_data=(x_test, y_test))\n",
        "  \n",
        "  # проверка работы обученной модели\n",
        "  scores = model_2stek.evaluate(x_test, y_test, verbose=0)\n",
        "  final_scores.append(scores[1])\n",
        "  final_losses.append(scores[0])"
      ]
    },
    {
      "cell_type": "code",
      "execution_count": 19,
      "id": "4c94b364",
      "metadata": {
        "colab": {
          "base_uri": "https://localhost:8080/"
        },
        "id": "4c94b364",
        "outputId": "8b836d4a-21e0-46da-ca30-704a17832bc1"
      },
      "outputs": [
        {
          "output_type": "stream",
          "name": "stdout",
          "text": [
            "Метрика двухнитевой модели с тремя слоями свертки на тесте - 0.4656 +- 0.0226\n"
          ]
        }
      ],
      "source": [
        "print(f'Метрика двухнитевой модели с тремя слоями свертки на тесте - {np.average(final_scores):.4f} +- {np.std(final_scores):.4f}')"
      ]
    },
    {
      "cell_type": "markdown",
      "id": "365910c7",
      "metadata": {
        "id": "365910c7"
      },
      "source": [
        " Попробуем увеличить количество эпох и посмотреть как это повлияет на метрику. Так как это значительно увеличит время расчета и ресурсы прогоним модель с увеличенным количеством эпох один раз."
      ]
    },
    {
      "cell_type": "code",
      "execution_count": 20,
      "id": "4b227cb1",
      "metadata": {
        "colab": {
          "base_uri": "https://localhost:8080/"
        },
        "id": "4b227cb1",
        "outputId": "8a1b33de-fb08-4d53-96fb-e044e96cb3bd"
      },
      "outputs": [
        {
          "output_type": "stream",
          "name": "stdout",
          "text": [
            "Epoch 1/10\n",
            "782/782 [==============================] - 109s 137ms/step - loss: 1.8717 - accuracy: 0.3288 - val_loss: 1.5963 - val_accuracy: 0.4338\n",
            "Epoch 2/10\n",
            "782/782 [==============================] - 107s 137ms/step - loss: 1.5785 - accuracy: 0.4394 - val_loss: 1.4028 - val_accuracy: 0.4991\n",
            "Epoch 3/10\n",
            "782/782 [==============================] - 109s 140ms/step - loss: 1.4415 - accuracy: 0.4865 - val_loss: 1.3133 - val_accuracy: 0.5272\n",
            "Epoch 4/10\n",
            "782/782 [==============================] - 107s 137ms/step - loss: 1.3532 - accuracy: 0.5142 - val_loss: 1.2186 - val_accuracy: 0.5672\n",
            "Epoch 5/10\n",
            "782/782 [==============================] - 107s 137ms/step - loss: 1.2706 - accuracy: 0.5465 - val_loss: 1.1543 - val_accuracy: 0.5909\n",
            "Epoch 6/10\n",
            "782/782 [==============================] - 107s 137ms/step - loss: 1.2003 - accuracy: 0.5714 - val_loss: 1.0988 - val_accuracy: 0.6045\n",
            "Epoch 7/10\n",
            "782/782 [==============================] - 110s 141ms/step - loss: 1.1418 - accuracy: 0.5966 - val_loss: 1.0333 - val_accuracy: 0.6351\n",
            "Epoch 8/10\n",
            "782/782 [==============================] - 107s 137ms/step - loss: 1.0880 - accuracy: 0.6127 - val_loss: 1.0200 - val_accuracy: 0.6382\n",
            "Epoch 9/10\n",
            "782/782 [==============================] - 107s 137ms/step - loss: 1.0397 - accuracy: 0.6307 - val_loss: 0.9642 - val_accuracy: 0.6604\n",
            "Epoch 10/10\n",
            "782/782 [==============================] - 107s 137ms/step - loss: 0.9948 - accuracy: 0.6475 - val_loss: 0.9512 - val_accuracy: 0.6670\n",
            "Test accuracy - 0.6669999957084656\n"
          ]
        }
      ],
      "source": [
        "epochs = 10\n",
        "batch_size = 64\n",
        "\n",
        "first_input = Input(shape=x_train.shape[1:])\n",
        "x11 = Conv2D(32, 3, activation='relu', padding = 'same')(first_input)\n",
        "x12 = Conv2D(64, 3, activation='relu', padding = 'same')(x11)\n",
        "x13 = Conv2D(128, 3, activation='relu', padding = 'same')(x12)\n",
        "first_dense = x13\n",
        "\n",
        "x21 = Conv2D(32, 5, activation='relu', padding = 'same')(first_input)\n",
        "x22 = Conv2D(64, 5, activation='relu', padding = 'same')(x21)\n",
        "x23 = Conv2D(128, 5, activation='relu', padding = 'same')(x22)\n",
        "second_dense = x23\n",
        "\n",
        "merge = Concatenate(axis = -1)([first_dense, second_dense])\n",
        "\n",
        "merge_flat = Flatten()(merge)\n",
        "merge_dense = Dense(512, activation='relu')(merge_flat)\n",
        "merge_class = Dense(10, activation='softmax')(merge_dense)\n",
        "\n",
        "model_2stek = Model(inputs=first_input, outputs=merge_class)\n",
        "model_2stek.compile(optimizer='SGD', \n",
        "                    loss=keras.losses.CategoricalCrossentropy(),\n",
        "                    metrics=['accuracy'])\n",
        "hist = model_2stek.fit(datagen.flow(x_train, y_train,\n",
        "                                    batch_size=batch_size), \n",
        "                        epochs = epochs, validation_data=(x_test, y_test))\n",
        "\n",
        "# проверка работы обученной модели\n",
        "scores = model_2stek.evaluate(x_test, y_test, verbose=0)\n",
        "print(f'Test accuracy - {scores[1]}')"
      ]
    },
    {
      "cell_type": "markdown",
      "id": "2a16c921",
      "metadata": {
        "id": "2a16c921"
      },
      "source": [
        "Увеличение эпох  позитивно повлияло на качество нашей модели. Попробуем посмотреть какие значения показывает трехнитевая модель на сопоставимом количестве эпох."
      ]
    },
    {
      "cell_type": "code",
      "execution_count": 21,
      "id": "294ab69e",
      "metadata": {
        "colab": {
          "base_uri": "https://localhost:8080/"
        },
        "id": "294ab69e",
        "outputId": "c056fe10-754e-4c4e-994d-e844efe4d99e"
      },
      "outputs": [
        {
          "output_type": "stream",
          "name": "stdout",
          "text": [
            "Epoch 1/10\n",
            "782/782 [==============================] - 75s 95ms/step - loss: 1.8712 - accuracy: 0.3283 - val_loss: 1.6362 - val_accuracy: 0.4165\n",
            "Epoch 2/10\n",
            "782/782 [==============================] - 73s 93ms/step - loss: 1.5953 - accuracy: 0.4331 - val_loss: 1.4167 - val_accuracy: 0.4991\n",
            "Epoch 3/10\n",
            "782/782 [==============================] - 73s 93ms/step - loss: 1.4424 - accuracy: 0.4835 - val_loss: 1.2913 - val_accuracy: 0.5454\n",
            "Epoch 4/10\n",
            "782/782 [==============================] - 73s 93ms/step - loss: 1.3529 - accuracy: 0.5142 - val_loss: 1.2261 - val_accuracy: 0.5671\n",
            "Epoch 5/10\n",
            "782/782 [==============================] - 73s 94ms/step - loss: 1.2951 - accuracy: 0.5390 - val_loss: 1.2143 - val_accuracy: 0.5699\n",
            "Epoch 6/10\n",
            "782/782 [==============================] - 73s 94ms/step - loss: 1.2412 - accuracy: 0.5588 - val_loss: 1.1449 - val_accuracy: 0.5954\n",
            "Epoch 7/10\n",
            "782/782 [==============================] - 73s 93ms/step - loss: 1.1922 - accuracy: 0.5777 - val_loss: 1.0949 - val_accuracy: 0.6107\n",
            "Epoch 8/10\n",
            "782/782 [==============================] - 73s 93ms/step - loss: 1.1481 - accuracy: 0.5934 - val_loss: 1.0573 - val_accuracy: 0.6236\n",
            "Epoch 9/10\n",
            "782/782 [==============================] - 73s 93ms/step - loss: 1.1060 - accuracy: 0.6085 - val_loss: 1.0329 - val_accuracy: 0.6373\n",
            "Epoch 10/10\n",
            "782/782 [==============================] - 73s 94ms/step - loss: 1.0711 - accuracy: 0.6222 - val_loss: 1.0057 - val_accuracy: 0.6480\n",
            "313/313 [==============================] - 5s 17ms/step - loss: 1.0057 - accuracy: 0.6480\n"
          ]
        }
      ],
      "source": [
        "batch_size=64\n",
        "epochs=10\n",
        "\n",
        "first_input = Input(shape=x_train.shape[1:])\n",
        "x11 = Conv2D(32, 3,activation='relu',padding = 'same')(first_input)\n",
        "x12 = Conv2D(64, 3,activation='relu',padding = 'same')(x11)\n",
        "first_dense = x12\n",
        "\n",
        "x21 = Conv2D(32, 5,activation='relu',padding = 'same')(first_input)\n",
        "x22 = Conv2D(64, 5,activation='relu',padding = 'same')(x21)\n",
        "second_dense = x22\n",
        "\n",
        "merge_one = Concatenate(axis =-1)([first_dense, second_dense])\n",
        "\n",
        "x31 = Conv2D(32,1, activation='relu',padding = 'same')(first_input)\n",
        "x32 = Conv2D(64,1, activation='relu',padding = 'same')(x31)\n",
        "\n",
        "\n",
        "merge_two = Concatenate(axis = -1)([merge_one, x32])\n",
        "\n",
        "merge = Flatten()(merge_two)\n",
        "merge_dense = Dense(512, activation='relu')(merge)\n",
        "merge_class = Dense(10, activation='softmax')(merge_dense)\n",
        "\n",
        "model_3stek = Model(inputs=first_input, outputs=merge_class)\n",
        "model_3stek.compile(optimizer='SGD', \n",
        "                  loss=keras.losses.CategoricalCrossentropy(), \n",
        "                  metrics=['accuracy'])\n",
        "\n",
        "hist = model_3stek.fit(datagen.flow(x_train, y_train,\n",
        "                                    batch_size=batch_size), \n",
        "                        epochs = epochs, validation_data=(x_test, y_test))\n",
        "\n",
        "# проверка работы обученной модели\n",
        "scores = model_3stek.evaluate(x_test, y_test, verbose=1)"
      ]
    },
    {
      "cell_type": "markdown",
      "id": "a86d987e",
      "metadata": {
        "id": "a86d987e"
      },
      "source": [
        "Результат оказался сопоставим с метрикой двухнитевой модели . Попробуем вернуться к двухнитевой модели и добавить еще пулинговые слои после сверточных и дополнительный слой в полносвязной части."
      ]
    },
    {
      "cell_type": "code",
      "execution_count": 22,
      "id": "25a83c87",
      "metadata": {
        "colab": {
          "base_uri": "https://localhost:8080/"
        },
        "id": "25a83c87",
        "outputId": "c818ed98-ad6c-4714-d2a2-3053acb1f7df"
      },
      "outputs": [
        {
          "output_type": "stream",
          "name": "stdout",
          "text": [
            "Epoch 1/10\n",
            "782/782 [==============================] - 68s 86ms/step - loss: 1.9597 - accuracy: 0.2927 - val_loss: 1.6549 - val_accuracy: 0.4203\n",
            "Epoch 2/10\n",
            "782/782 [==============================] - 67s 86ms/step - loss: 1.6141 - accuracy: 0.4217 - val_loss: 1.4365 - val_accuracy: 0.4878\n",
            "Epoch 3/10\n",
            "782/782 [==============================] - 67s 86ms/step - loss: 1.4422 - accuracy: 0.4818 - val_loss: 1.2801 - val_accuracy: 0.5400\n",
            "Epoch 4/10\n",
            "782/782 [==============================] - 67s 86ms/step - loss: 1.3348 - accuracy: 0.5247 - val_loss: 1.2273 - val_accuracy: 0.5570\n",
            "Epoch 5/10\n",
            "782/782 [==============================] - 68s 87ms/step - loss: 1.2580 - accuracy: 0.5505 - val_loss: 1.1668 - val_accuracy: 0.5898\n",
            "Epoch 6/10\n",
            "782/782 [==============================] - 67s 86ms/step - loss: 1.1841 - accuracy: 0.5790 - val_loss: 1.1026 - val_accuracy: 0.6048\n",
            "Epoch 7/10\n",
            "782/782 [==============================] - 67s 86ms/step - loss: 1.1271 - accuracy: 0.6013 - val_loss: 1.0448 - val_accuracy: 0.6272\n",
            "Epoch 8/10\n",
            "782/782 [==============================] - 67s 86ms/step - loss: 1.0733 - accuracy: 0.6202 - val_loss: 0.9799 - val_accuracy: 0.6556\n",
            "Epoch 9/10\n",
            "782/782 [==============================] - 67s 86ms/step - loss: 1.0235 - accuracy: 0.6377 - val_loss: 0.9562 - val_accuracy: 0.6611\n",
            "Epoch 10/10\n",
            "782/782 [==============================] - 68s 87ms/step - loss: 0.9771 - accuracy: 0.6562 - val_loss: 0.9697 - val_accuracy: 0.6592\n",
            "Test\n",
            "313/313 [==============================] - 5s 17ms/step - loss: 0.9697 - accuracy: 0.6592\n"
          ]
        }
      ],
      "source": [
        "epochs = 10\n",
        "batch_size = 64\n",
        "\n",
        "first_input = Input(shape=x_train.shape[1:])\n",
        "x11 = Conv2D(32, 3, activation='relu', padding = 'same')(first_input)\n",
        "x12 = Conv2D(64, 3, activation='relu', padding = 'same')(x11)\n",
        "x13 = Conv2D(128, 3, activation='relu', padding = 'same')(x12)\n",
        "x14 = MaxPooling2D(pool_size=(2, 2))(x13)\n",
        "first_dense = x14\n",
        "\n",
        "x21 = Conv2D(32, 5, activation='relu', padding = 'same')(first_input)\n",
        "x22 = Conv2D(64, 5, activation='relu', padding = 'same')(x21)\n",
        "x23 = Conv2D(128, 5, activation='relu', padding = 'same')(x22)\n",
        "x24 = MaxPooling2D(pool_size=(2, 2))(x23)\n",
        "second_dense = x24\n",
        "\n",
        "merge = Concatenate(axis = -1)([first_dense, second_dense])\n",
        "\n",
        "merge_flat = Flatten()(merge)\n",
        "merge_dense1 = Dense(512, activation='relu')(merge_flat)\n",
        "merge_dense2 = Dense(128, activation='relu')(merge_dense1)\n",
        "merge_class = Dense(10, activation='softmax')(merge_dense2)\n",
        "\n",
        "model_2stek = Model(inputs=first_input, outputs=merge_class)\n",
        "model_2stek.compile(optimizer='SGD', \n",
        "                    loss=keras.losses.CategoricalCrossentropy(),\n",
        "                    metrics=['accuracy'])\n",
        "hist = model_2stek.fit(datagen.flow(x_train, y_train,\n",
        "                                    batch_size=batch_size), \n",
        "                        epochs = epochs, validation_data=(x_test, y_test))\n",
        "\n",
        "# проверка работы обученной модели\n",
        "print('Test')\n",
        "scores = model_2stek.evaluate(x_test, y_test, verbose=1)"
      ]
    },
    {
      "cell_type": "markdown",
      "id": "a4841fc5",
      "metadata": {
        "id": "a4841fc5"
      },
      "source": [
        "Качество модели осталось на том же уровне"
      ]
    },
    {
      "cell_type": "code",
      "execution_count": 23,
      "id": "043b15c1",
      "metadata": {
        "colab": {
          "base_uri": "https://localhost:8080/"
        },
        "id": "043b15c1",
        "outputId": "f78c04bf-59e0-47d2-9d1e-8141f79f304a"
      },
      "outputs": [
        {
          "output_type": "stream",
          "name": "stdout",
          "text": [
            "Epoch 1/20\n",
            "782/782 [==============================] - 69s 87ms/step - loss: 1.9583 - accuracy: 0.2928 - val_loss: 1.6817 - val_accuracy: 0.4039\n",
            "Epoch 2/20\n",
            "782/782 [==============================] - 68s 87ms/step - loss: 1.6563 - accuracy: 0.4063 - val_loss: 1.5034 - val_accuracy: 0.4530\n",
            "Epoch 3/20\n",
            "782/782 [==============================] - 67s 86ms/step - loss: 1.4923 - accuracy: 0.4634 - val_loss: 1.4054 - val_accuracy: 0.4874\n",
            "Epoch 4/20\n",
            "782/782 [==============================] - 67s 86ms/step - loss: 1.3903 - accuracy: 0.5005 - val_loss: 1.2857 - val_accuracy: 0.5279\n",
            "Epoch 5/20\n",
            "782/782 [==============================] - 67s 86ms/step - loss: 1.3088 - accuracy: 0.5308 - val_loss: 1.1849 - val_accuracy: 0.5698\n",
            "Epoch 6/20\n",
            "782/782 [==============================] - 68s 87ms/step - loss: 1.2435 - accuracy: 0.5540 - val_loss: 1.1686 - val_accuracy: 0.5839\n",
            "Epoch 7/20\n",
            "782/782 [==============================] - 67s 86ms/step - loss: 1.1878 - accuracy: 0.5742 - val_loss: 1.1034 - val_accuracy: 0.6062\n",
            "Epoch 8/20\n",
            "782/782 [==============================] - 67s 86ms/step - loss: 1.1286 - accuracy: 0.5990 - val_loss: 1.0962 - val_accuracy: 0.6076\n",
            "Epoch 9/20\n",
            "782/782 [==============================] - 68s 86ms/step - loss: 1.0812 - accuracy: 0.6153 - val_loss: 0.9904 - val_accuracy: 0.6487\n",
            "Epoch 10/20\n",
            "782/782 [==============================] - 68s 87ms/step - loss: 1.0242 - accuracy: 0.6378 - val_loss: 0.9981 - val_accuracy: 0.6472\n",
            "Epoch 11/20\n",
            "782/782 [==============================] - 68s 87ms/step - loss: 0.9856 - accuracy: 0.6498 - val_loss: 0.9712 - val_accuracy: 0.6554\n",
            "Epoch 12/20\n",
            "782/782 [==============================] - 68s 87ms/step - loss: 0.9406 - accuracy: 0.6664 - val_loss: 0.8953 - val_accuracy: 0.6860\n",
            "Epoch 13/20\n",
            "782/782 [==============================] - 68s 87ms/step - loss: 0.9018 - accuracy: 0.6827 - val_loss: 0.8928 - val_accuracy: 0.6903\n",
            "Epoch 14/20\n",
            "782/782 [==============================] - 68s 87ms/step - loss: 0.8648 - accuracy: 0.6934 - val_loss: 0.8365 - val_accuracy: 0.7091\n",
            "Epoch 15/20\n",
            "782/782 [==============================] - 68s 87ms/step - loss: 0.8378 - accuracy: 0.7053 - val_loss: 0.8488 - val_accuracy: 0.7068\n",
            "Epoch 16/20\n",
            "782/782 [==============================] - 68s 86ms/step - loss: 0.8109 - accuracy: 0.7133 - val_loss: 0.8209 - val_accuracy: 0.7137\n",
            "Epoch 17/20\n",
            "782/782 [==============================] - 68s 86ms/step - loss: 0.7841 - accuracy: 0.7266 - val_loss: 0.8030 - val_accuracy: 0.7232\n",
            "Epoch 18/20\n",
            "782/782 [==============================] - 68s 86ms/step - loss: 0.7581 - accuracy: 0.7338 - val_loss: 0.8076 - val_accuracy: 0.7194\n",
            "Epoch 19/20\n",
            "782/782 [==============================] - 68s 86ms/step - loss: 0.7325 - accuracy: 0.7438 - val_loss: 0.8142 - val_accuracy: 0.7180\n",
            "Epoch 20/20\n",
            "782/782 [==============================] - 68s 86ms/step - loss: 0.7124 - accuracy: 0.7511 - val_loss: 0.7980 - val_accuracy: 0.7268\n",
            "Test\n",
            "313/313 [==============================] - 6s 18ms/step - loss: 0.7980 - accuracy: 0.7268\n"
          ]
        }
      ],
      "source": [
        "epochs = 20\n",
        "batch_size = 64\n",
        "\n",
        "first_input = Input(shape=x_train.shape[1:])\n",
        "x11 = Conv2D(32, 3, activation='relu', padding = 'same')(first_input)\n",
        "x12 = Conv2D(64, 3, activation='relu', padding = 'same')(x11)\n",
        "x13 = Conv2D(128, 3, activation='relu', padding = 'same')(x12)\n",
        "x14 = MaxPooling2D(pool_size=(2, 2))(x13)\n",
        "first_dense = x14\n",
        "\n",
        "x21 = Conv2D(32, 5, activation='relu', padding = 'same')(first_input)\n",
        "x22 = Conv2D(64, 5, activation='relu', padding = 'same')(x21)\n",
        "x23 = Conv2D(128, 5, activation='relu', padding = 'same')(x22)\n",
        "x24 = MaxPooling2D(pool_size=(2, 2))(x23)\n",
        "second_dense = x24\n",
        "\n",
        "merge = Concatenate(axis = -1)([first_dense, second_dense])\n",
        "\n",
        "merge_flat = Flatten()(merge)\n",
        "merge_dense1 = Dense(512, activation='relu')(merge_flat)\n",
        "merge_dense2 = Dense(128, activation='relu')(merge_dense1)\n",
        "merge_class = Dense(10, activation='softmax')(merge_dense2)\n",
        "\n",
        "model_2stek = Model(inputs=first_input, outputs=merge_class)\n",
        "model_2stek.compile(optimizer='SGD', \n",
        "                    loss=keras.losses.CategoricalCrossentropy(),\n",
        "                    metrics=['accuracy'])\n",
        "\n",
        "plot_model(model_2stek,'model_2stek.png')\n",
        "\n",
        "\n",
        "hist = model_2stek.fit(datagen.flow(x_train, y_train,\n",
        "                                    batch_size=batch_size), \n",
        "                        epochs = epochs, validation_data=(x_test, y_test))\n",
        "\n",
        "# проверка работы обученной модели\n",
        "print('Test')\n",
        "scores = model_2stek.evaluate(x_test, y_test, verbose=1)"
      ]
    },
    {
      "cell_type": "code",
      "execution_count": 24,
      "id": "7d03a65d",
      "metadata": {
        "colab": {
          "base_uri": "https://localhost:8080/",
          "height": 281
        },
        "id": "7d03a65d",
        "outputId": "4b7a1b56-f5df-41ff-a318-4a37bd3e86b3"
      },
      "outputs": [
        {
          "output_type": "display_data",
          "data": {
            "image/png": "[encoded data removed]",
            "text/plain": [
              "<Figure size 432x288 with 1 Axes>"
            ]
          },
          "metadata": {
            "needs_background": "light"
          }
        }
      ],
      "source": [
        "N = 100\n",
        "y_p=model_2stek.predict(x_test[N:N+1][:,:,:])\n",
        "y_t = np.argmax(y_test[N:N+1], axis = 1 )\n",
        "y_i = np.argmax(y_p, axis = 1 )\n",
        "plt.imshow(x_test[N][:,:,:])\n",
        "plt.title('это : '+classes[y_t[0]]+'- опознан как : '+classes[y_i[0]])\n",
        "plt.show()"
      ]
    },
    {
      "cell_type": "markdown",
      "id": "f0e75e18",
      "metadata": {
        "id": "f0e75e18"
      },
      "source": [
        "В качестве дальнейших шагов улучшения модели можно рассмотреть еще большее увеличение количества эпох, пока метрики позволяют, и добавление дропаут слоев, чтобы предупредить проблему переобучения."
      ]
    },
    {
      "cell_type": "code",
      "execution_count": 25,
      "id": "f31793b2",
      "metadata": {
        "colab": {
          "base_uri": "https://localhost:8080/"
        },
        "id": "f31793b2",
        "outputId": "fb19fec2-3bfd-4f3a-e007-1ce2b53d027d"
      },
      "outputs": [
        {
          "output_type": "stream",
          "name": "stdout",
          "text": [
            "Epoch 1/50\n",
            "782/782 [==============================] - 71s 89ms/step - loss: 2.1152 - accuracy: 0.2135 - val_loss: 1.8529 - val_accuracy: 0.3596\n",
            "Epoch 2/50\n",
            "782/782 [==============================] - 69s 88ms/step - loss: 1.8741 - accuracy: 0.3186 - val_loss: 1.6411 - val_accuracy: 0.4206\n",
            "Epoch 3/50\n",
            "782/782 [==============================] - 69s 88ms/step - loss: 1.7406 - accuracy: 0.3714 - val_loss: 1.5113 - val_accuracy: 0.4523\n",
            "Epoch 4/50\n",
            "782/782 [==============================] - 70s 89ms/step - loss: 1.6548 - accuracy: 0.3998 - val_loss: 1.4268 - val_accuracy: 0.4873\n",
            "Epoch 5/50\n",
            "782/782 [==============================] - 69s 89ms/step - loss: 1.5830 - accuracy: 0.4263 - val_loss: 1.3499 - val_accuracy: 0.5135\n",
            "Epoch 6/50\n",
            "782/782 [==============================] - 69s 88ms/step - loss: 1.5187 - accuracy: 0.4471 - val_loss: 1.3051 - val_accuracy: 0.5318\n",
            "Epoch 7/50\n",
            "782/782 [==============================] - 69s 88ms/step - loss: 1.4684 - accuracy: 0.4745 - val_loss: 1.2543 - val_accuracy: 0.5482\n",
            "Epoch 8/50\n",
            "782/782 [==============================] - 69s 88ms/step - loss: 1.4186 - accuracy: 0.4894 - val_loss: 1.2086 - val_accuracy: 0.5718\n",
            "Epoch 9/50\n",
            "782/782 [==============================] - 70s 89ms/step - loss: 1.3739 - accuracy: 0.5055 - val_loss: 1.1581 - val_accuracy: 0.5877\n",
            "Epoch 10/50\n",
            "782/782 [==============================] - 70s 89ms/step - loss: 1.3324 - accuracy: 0.5228 - val_loss: 1.1302 - val_accuracy: 0.5966\n",
            "Epoch 11/50\n",
            "782/782 [==============================] - 69s 89ms/step - loss: 1.2884 - accuracy: 0.5402 - val_loss: 1.0732 - val_accuracy: 0.6213\n",
            "Epoch 12/50\n",
            "782/782 [==============================] - 69s 89ms/step - loss: 1.2467 - accuracy: 0.5579 - val_loss: 1.0566 - val_accuracy: 0.6240\n",
            "Epoch 13/50\n",
            "782/782 [==============================] - 69s 89ms/step - loss: 1.2074 - accuracy: 0.5709 - val_loss: 1.0099 - val_accuracy: 0.6493\n",
            "Epoch 14/50\n",
            "782/782 [==============================] - 69s 88ms/step - loss: 1.1748 - accuracy: 0.5833 - val_loss: 0.9795 - val_accuracy: 0.6533\n",
            "Epoch 15/50\n",
            "782/782 [==============================] - 69s 88ms/step - loss: 1.1490 - accuracy: 0.5968 - val_loss: 1.0101 - val_accuracy: 0.6452\n",
            "Epoch 16/50\n",
            "782/782 [==============================] - 69s 88ms/step - loss: 1.1199 - accuracy: 0.6080 - val_loss: 0.9370 - val_accuracy: 0.6734\n",
            "Epoch 17/50\n",
            "782/782 [==============================] - 69s 88ms/step - loss: 1.0929 - accuracy: 0.6178 - val_loss: 0.9854 - val_accuracy: 0.6562\n",
            "Epoch 18/50\n",
            "782/782 [==============================] - 69s 88ms/step - loss: 1.0772 - accuracy: 0.6248 - val_loss: 0.9354 - val_accuracy: 0.6770\n",
            "Epoch 19/50\n",
            "782/782 [==============================] - 69s 88ms/step - loss: 1.0491 - accuracy: 0.6339 - val_loss: 0.8855 - val_accuracy: 0.6903\n",
            "Epoch 20/50\n",
            "782/782 [==============================] - 69s 89ms/step - loss: 1.0325 - accuracy: 0.6405 - val_loss: 0.8976 - val_accuracy: 0.6861\n",
            "Epoch 21/50\n",
            "782/782 [==============================] - 69s 88ms/step - loss: 1.0125 - accuracy: 0.6467 - val_loss: 0.8804 - val_accuracy: 0.6995\n",
            "Epoch 22/50\n",
            "782/782 [==============================] - 69s 88ms/step - loss: 0.9913 - accuracy: 0.6555 - val_loss: 0.8516 - val_accuracy: 0.7052\n",
            "Epoch 23/50\n",
            "782/782 [==============================] - 69s 88ms/step - loss: 0.9782 - accuracy: 0.6595 - val_loss: 0.8114 - val_accuracy: 0.7189\n",
            "Epoch 24/50\n",
            "782/782 [==============================] - 69s 88ms/step - loss: 0.9673 - accuracy: 0.6645 - val_loss: 0.8191 - val_accuracy: 0.7157\n",
            "Epoch 25/50\n",
            "782/782 [==============================] - 69s 88ms/step - loss: 0.9523 - accuracy: 0.6704 - val_loss: 0.8040 - val_accuracy: 0.7226\n",
            "Epoch 26/50\n",
            "782/782 [==============================] - 69s 88ms/step - loss: 0.9412 - accuracy: 0.6757 - val_loss: 0.7929 - val_accuracy: 0.7289\n",
            "Epoch 27/50\n",
            "782/782 [==============================] - 69s 88ms/step - loss: 0.9174 - accuracy: 0.6804 - val_loss: 0.7926 - val_accuracy: 0.7271\n",
            "Epoch 28/50\n",
            "782/782 [==============================] - 69s 88ms/step - loss: 0.9056 - accuracy: 0.6861 - val_loss: 0.7755 - val_accuracy: 0.7357\n",
            "Epoch 29/50\n",
            "782/782 [==============================] - 69s 88ms/step - loss: 0.8979 - accuracy: 0.6895 - val_loss: 0.8178 - val_accuracy: 0.7189\n",
            "Epoch 30/50\n",
            "782/782 [==============================] - 69s 88ms/step - loss: 0.8837 - accuracy: 0.6935 - val_loss: 0.7717 - val_accuracy: 0.7320\n",
            "Epoch 31/50\n",
            "782/782 [==============================] - 69s 88ms/step - loss: 0.8732 - accuracy: 0.6993 - val_loss: 0.7964 - val_accuracy: 0.7303\n",
            "Epoch 32/50\n",
            "782/782 [==============================] - 69s 88ms/step - loss: 0.8671 - accuracy: 0.7004 - val_loss: 0.7527 - val_accuracy: 0.7444\n",
            "Epoch 33/50\n",
            "782/782 [==============================] - 69s 88ms/step - loss: 0.8482 - accuracy: 0.7065 - val_loss: 0.7368 - val_accuracy: 0.7447\n",
            "Epoch 34/50\n",
            "782/782 [==============================] - 69s 88ms/step - loss: 0.8462 - accuracy: 0.7083 - val_loss: 0.8049 - val_accuracy: 0.7220\n",
            "Epoch 35/50\n",
            "782/782 [==============================] - 69s 89ms/step - loss: 0.8297 - accuracy: 0.7117 - val_loss: 0.7465 - val_accuracy: 0.7466\n",
            "Epoch 36/50\n",
            "782/782 [==============================] - 69s 88ms/step - loss: 0.8243 - accuracy: 0.7159 - val_loss: 0.7435 - val_accuracy: 0.7469\n",
            "Epoch 37/50\n",
            "782/782 [==============================] - 69s 88ms/step - loss: 0.8116 - accuracy: 0.7196 - val_loss: 0.7113 - val_accuracy: 0.7508\n",
            "Epoch 38/50\n",
            "782/782 [==============================] - 69s 88ms/step - loss: 0.8071 - accuracy: 0.7217 - val_loss: 0.6971 - val_accuracy: 0.7614\n",
            "Epoch 39/50\n",
            "782/782 [==============================] - 69s 88ms/step - loss: 0.7979 - accuracy: 0.7268 - val_loss: 0.7090 - val_accuracy: 0.7572\n",
            "Epoch 40/50\n",
            "782/782 [==============================] - 69s 88ms/step - loss: 0.7871 - accuracy: 0.7280 - val_loss: 0.6921 - val_accuracy: 0.7647\n",
            "Epoch 41/50\n",
            "782/782 [==============================] - 69s 88ms/step - loss: 0.7731 - accuracy: 0.7343 - val_loss: 0.7462 - val_accuracy: 0.7469\n",
            "Epoch 42/50\n",
            "782/782 [==============================] - 69s 88ms/step - loss: 0.7729 - accuracy: 0.7339 - val_loss: 0.7169 - val_accuracy: 0.7545\n",
            "Epoch 43/50\n",
            "782/782 [==============================] - 69s 88ms/step - loss: 0.7589 - accuracy: 0.7390 - val_loss: 0.6993 - val_accuracy: 0.7614\n",
            "Epoch 44/50\n",
            "782/782 [==============================] - 69s 88ms/step - loss: 0.7502 - accuracy: 0.7423 - val_loss: 0.6713 - val_accuracy: 0.7708\n",
            "Epoch 45/50\n",
            "782/782 [==============================] - 69s 88ms/step - loss: 0.7442 - accuracy: 0.7445 - val_loss: 0.6939 - val_accuracy: 0.7662\n",
            "Epoch 46/50\n",
            "782/782 [==============================] - 69s 88ms/step - loss: 0.7406 - accuracy: 0.7454 - val_loss: 0.6962 - val_accuracy: 0.7624\n",
            "Epoch 47/50\n",
            "782/782 [==============================] - 69s 88ms/step - loss: 0.7321 - accuracy: 0.7477 - val_loss: 0.6810 - val_accuracy: 0.7719\n",
            "Epoch 48/50\n",
            "782/782 [==============================] - 69s 88ms/step - loss: 0.7264 - accuracy: 0.7504 - val_loss: 0.6715 - val_accuracy: 0.7750\n",
            "Epoch 49/50\n",
            "782/782 [==============================] - 68s 87ms/step - loss: 0.7100 - accuracy: 0.7553 - val_loss: 0.6588 - val_accuracy: 0.7784\n",
            "Epoch 50/50\n",
            "782/782 [==============================] - 69s 88ms/step - loss: 0.7075 - accuracy: 0.7571 - val_loss: 0.6298 - val_accuracy: 0.7859\n",
            "Test\n",
            "313/313 [==============================] - 6s 18ms/step - loss: 0.6298 - accuracy: 0.7859\n"
          ]
        }
      ],
      "source": [
        "epochs = 50\n",
        "batch_size = 64\n",
        "\n",
        "first_input = Input(shape=x_train.shape[1:])\n",
        "x11 = Conv2D(32, 3, activation='relu', padding = 'same')(first_input)\n",
        "x12 = Conv2D(64, 3, activation='relu', padding = 'same')(x11)\n",
        "x13 = Conv2D(128, 3, activation='relu', padding = 'same')(x12)\n",
        "x14 = MaxPooling2D(pool_size=(2, 2))(x13)\n",
        "x15 = Dropout(0.25)(x14)\n",
        "first_dense = x15\n",
        "\n",
        "x21 = Conv2D(32, 5, activation='relu', padding = 'same')(first_input)\n",
        "x22 = Conv2D(64, 5, activation='relu', padding = 'same')(x21)\n",
        "x23 = Conv2D(128, 5, activation='relu', padding = 'same')(x22)\n",
        "x24 = MaxPooling2D(pool_size=(2, 2))(x23)\n",
        "x25 = Dropout(0.25)(x24)\n",
        "second_dense = x25\n",
        "\n",
        "merge = Concatenate(axis = -1)([first_dense, second_dense])\n",
        "\n",
        "merge_flat = Flatten()(merge)\n",
        "merge_dense1 = Dense(512, activation='relu')(merge_flat)\n",
        "merge_dense2 = Dropout(0.5)(merge_dense1)\n",
        "merge_dense3 = Dense(128, activation='relu')(merge_dense2)\n",
        "merge_dense4 = Dropout(0.5)(merge_dense3)\n",
        "merge_class = Dense(10, activation='softmax')(merge_dense4)\n",
        "\n",
        "model_2stek = Model(inputs=first_input, outputs=merge_class)\n",
        "model_2stek.compile(optimizer='SGD', \n",
        "                    loss=keras.losses.CategoricalCrossentropy(),\n",
        "                    metrics=['accuracy'])\n",
        "\n",
        "plot_model(model_2stek,'model_2stek.png')\n",
        "\n",
        "\n",
        "hist = model_2stek.fit(datagen.flow(x_train, y_train,\n",
        "                                    batch_size=batch_size), \n",
        "                        epochs = epochs, validation_data=(x_test, y_test))\n",
        "\n",
        "# проверка работы обученной модели\n",
        "print('Test')\n",
        "scores = model_2stek.evaluate(x_test, y_test, verbose=1)"
      ]
    },
    {
      "cell_type": "code",
      "execution_count": null,
      "id": "d047e82a",
      "metadata": {
        "id": "d047e82a"
      },
      "outputs": [],
      "source": [
        ""
      ]
    }
  ],
  "metadata": {
    "kernelspec": {
      "display_name": "Python 3 (ipykernel)",
      "language": "python",
      "name": "python3"
    },
    "language_info": {
      "codemirror_mode": {
        "name": "ipython",
        "version": 3
      },
      "file_extension": ".py",
      "mimetype": "text/x-python",
      "name": "python",
      "nbconvert_exporter": "python",
      "pygments_lexer": "ipython3",
      "version": "3.8.12"
    },
    "colab": {
      "name": "HW_4.ipynb",
      "provenance": [],
      "collapsed_sections": []
    },
    "accelerator": "GPU"
  },
  "nbformat": 4,
  "nbformat_minor": 5
}