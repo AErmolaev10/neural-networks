{
  "nbformat": 4,
  "nbformat_minor": 0,
  "metadata": {
    "colab": {
      "name": "HW_5.ipynb",
      "provenance": [],
      "collapsed_sections": []
    },
    "kernelspec": {
      "name": "python3",
      "display_name": "Python 3"
    },
    "language_info": {
      "name": "python"
    },
    "accelerator": "GPU"
  },
  "cells": [
    {
      "cell_type": "code",
      "execution_count": 1,
      "metadata": {
        "id": "cMyjHIzFjQAC"
      },
      "outputs": [],
      "source": [
        "# Рисовать графики сразу же\n",
        "%matplotlib inline\n",
        "\n",
        "import pandas as pd\n",
        "import matplotlib.pyplot as plt\n",
        "from tensorflow.keras import utils\n",
        "import numpy as np\n",
        "import tensorflow.keras as keras\n",
        "from tensorflow.keras.optimizers import Adam\n",
        "from tensorflow.keras.models import Sequential, Model\n",
        "from tensorflow.keras.layers import concatenate, Input, Dense, Dropout, BatchNormalization, Flatten, Conv1D, Conv2D, LSTM\n",
        "\n",
        "from google.colab import files\n",
        "from sklearn.preprocessing import StandardScaler, MinMaxScaler"
      ]
    },
    {
      "cell_type": "code",
      "source": [
        "import os\n",
        "import datetime"
      ],
      "metadata": {
        "id": "AHRQtVILkpko"
      },
      "execution_count": 2,
      "outputs": []
    },
    {
      "cell_type": "code",
      "source": [
        "%load_ext tensorboard"
      ],
      "metadata": {
        "id": "NHWJF60Kkqvl"
      },
      "execution_count": 3,
      "outputs": []
    },
    {
      "cell_type": "code",
      "source": [
        "from tensorflow.keras.callbacks import EarlyStopping, TensorBoard"
      ],
      "metadata": {
        "id": "0CdHIWf-kt2N"
      },
      "execution_count": 4,
      "outputs": []
    },
    {
      "cell_type": "code",
      "source": [
        "files.upload()\n",
        "!ls"
      ],
      "metadata": {
        "colab": {
          "resources": {
            "http://localhost:8080/nbextensions/google.colab/files.js": {
              "data": "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",
              "ok": true,
              "headers": [
                [
                  "content-type",
                  "application/javascript"
                ]
              ],
              "status": 200,
              "status_text": ""
            }
          },
          "base_uri": "https://localhost:8080/",
          "height": 91
        },
        "id": "VCT9S7QjkwUv",
        "outputId": "f314cba3-526a-40c4-8a1f-9786c705f559"
      },
      "execution_count": 5,
      "outputs": [
        {
          "output_type": "display_data",
          "data": {
            "text/plain": [
              "<IPython.core.display.HTML object>"
            ],
            "text/html": [
              "\n",
              "     <input type=\"file\" id=\"files-7a2c79ec-5aee-4f7e-8dbd-6f9b82e8a949\" name=\"files[]\" multiple disabled\n",
              "        style=\"border:none\" />\n",
              "     <output id=\"result-7a2c79ec-5aee-4f7e-8dbd-6f9b82e8a949\">\n",
              "      Upload widget is only available when the cell has been executed in the\n",
              "      current browser session. Please rerun this cell to enable.\n",
              "      </output>\n",
              "      <script src=\"/nbextensions/google.colab/files.js\"></script> "
            ]
          },
          "metadata": {}
        },
        {
          "output_type": "stream",
          "name": "stdout",
          "text": [
            "Saving airline-passengers.csv to airline-passengers.csv\n",
            "airline-passengers.csv\tsample_data\n"
          ]
        }
      ]
    },
    {
      "cell_type": "code",
      "source": [
        "#df = pd.read_csv('my_BRENT2019.csv')\n",
        "df = pd.read_csv('/content/airline-passengers.csv')\n",
        "df.index = df.Month\n",
        "df.drop(['Month'],axis=1,inplace = True)\n",
        "df.head()"
      ],
      "metadata": {
        "colab": {
          "base_uri": "https://localhost:8080/",
          "height": 238
        },
        "id": "UHzqerzBk2mh",
        "outputId": "123c3069-c547-4eea-c124-735533f82413"
      },
      "execution_count": 6,
      "outputs": [
        {
          "output_type": "execute_result",
          "data": {
            "text/plain": [
              "         Passengers\n",
              "Month              \n",
              "1949-01         112\n",
              "1949-02         118\n",
              "1949-03         132\n",
              "1949-04         129\n",
              "1949-05         121"
            ],
            "text/html": [
              "\n",
              "  <div id=\"df-3897617b-d7a5-4909-947e-4448a8658588\">\n",
              "    <div class=\"colab-df-container\">\n",
              "      <div>\n",
              "<style scoped>\n",
              "    .dataframe tbody tr th:only-of-type {\n",
              "        vertical-align: middle;\n",
              "    }\n",
              "\n",
              "    .dataframe tbody tr th {\n",
              "        vertical-align: top;\n",
              "    }\n",
              "\n",
              "    .dataframe thead th {\n",
              "        text-align: right;\n",
              "    }\n",
              "</style>\n",
              "<table border=\"1\" class=\"dataframe\">\n",
              "  <thead>\n",
              "    <tr style=\"text-align: right;\">\n",
              "      <th></th>\n",
              "      <th>Passengers</th>\n",
              "    </tr>\n",
              "    <tr>\n",
              "      <th>Month</th>\n",
              "      <th></th>\n",
              "    </tr>\n",
              "  </thead>\n",
              "  <tbody>\n",
              "    <tr>\n",
              "      <th>1949-01</th>\n",
              "      <td>112</td>\n",
              "    </tr>\n",
              "    <tr>\n",
              "      <th>1949-02</th>\n",
              "      <td>118</td>\n",
              "    </tr>\n",
              "    <tr>\n",
              "      <th>1949-03</th>\n",
              "      <td>132</td>\n",
              "    </tr>\n",
              "    <tr>\n",
              "      <th>1949-04</th>\n",
              "      <td>129</td>\n",
              "    </tr>\n",
              "    <tr>\n",
              "      <th>1949-05</th>\n",
              "      <td>121</td>\n",
              "    </tr>\n",
              "  </tbody>\n",
              "</table>\n",
              "</div>\n",
              "      <button class=\"colab-df-convert\" onclick=\"convertToInteractive('df-3897617b-d7a5-4909-947e-4448a8658588')\"\n",
              "              title=\"Convert this dataframe to an interactive table.\"\n",
              "              style=\"display:none;\">\n",
              "        \n",
              "  <svg xmlns=\"http://www.w3.org/2000/svg\" height=\"24px\"viewBox=\"0 0 24 24\"\n",
              "       width=\"24px\">\n",
              "    <path d=\"M0 0h24v24H0V0z\" fill=\"none\"/>\n",
              "    <path d=\"M18.56 5.44l.94 2.06.94-2.06 2.06-.94-2.06-.94-.94-2.06-.94 2.06-2.06.94zm-11 1L8.5 8.5l.94-2.06 2.06-.94-2.06-.94L8.5 2.5l-.94 2.06-2.06.94zm10 10l.94 2.06.94-2.06 2.06-.94-2.06-.94-.94-2.06-.94 2.06-2.06.94z\"/><path d=\"M17.41 7.96l-1.37-1.37c-.4-.4-.92-.59-1.43-.59-.52 0-1.04.2-1.43.59L10.3 9.45l-7.72 7.72c-.78.78-.78 2.05 0 2.83L4 21.41c.39.39.9.59 1.41.59.51 0 1.02-.2 1.41-.59l7.78-7.78 2.81-2.81c.8-.78.8-2.07 0-2.86zM5.41 20L4 18.59l7.72-7.72 1.47 1.35L5.41 20z\"/>\n",
              "  </svg>\n",
              "      </button>\n",
              "      \n",
              "  <style>\n",
              "    .colab-df-container {\n",
              "      display:flex;\n",
              "      flex-wrap:wrap;\n",
              "      gap: 12px;\n",
              "    }\n",
              "\n",
              "    .colab-df-convert {\n",
              "      background-color: #E8F0FE;\n",
              "      border: none;\n",
              "      border-radius: 50%;\n",
              "      cursor: pointer;\n",
              "      display: none;\n",
              "      fill: #1967D2;\n",
              "      height: 32px;\n",
              "      padding: 0 0 0 0;\n",
              "      width: 32px;\n",
              "    }\n",
              "\n",
              "    .colab-df-convert:hover {\n",
              "      background-color: #E2EBFA;\n",
              "      box-shadow: 0px 1px 2px rgba(60, 64, 67, 0.3), 0px 1px 3px 1px rgba(60, 64, 67, 0.15);\n",
              "      fill: #174EA6;\n",
              "    }\n",
              "\n",
              "    [theme=dark] .colab-df-convert {\n",
              "      background-color: #3B4455;\n",
              "      fill: #D2E3FC;\n",
              "    }\n",
              "\n",
              "    [theme=dark] .colab-df-convert:hover {\n",
              "      background-color: #434B5C;\n",
              "      box-shadow: 0px 1px 3px 1px rgba(0, 0, 0, 0.15);\n",
              "      filter: drop-shadow(0px 1px 2px rgba(0, 0, 0, 0.3));\n",
              "      fill: #FFFFFF;\n",
              "    }\n",
              "  </style>\n",
              "\n",
              "      <script>\n",
              "        const buttonEl =\n",
              "          document.querySelector('#df-3897617b-d7a5-4909-947e-4448a8658588 button.colab-df-convert');\n",
              "        buttonEl.style.display =\n",
              "          google.colab.kernel.accessAllowed ? 'block' : 'none';\n",
              "\n",
              "        async function convertToInteractive(key) {\n",
              "          const element = document.querySelector('#df-3897617b-d7a5-4909-947e-4448a8658588');\n",
              "          const dataTable =\n",
              "            await google.colab.kernel.invokeFunction('convertToInteractive',\n",
              "                                                     [key], {});\n",
              "          if (!dataTable) return;\n",
              "\n",
              "          const docLinkHtml = 'Like what you see? Visit the ' +\n",
              "            '<a target=\"_blank\" href=https://colab.research.google.com/notebooks/data_table.ipynb>data table notebook</a>'\n",
              "            + ' to learn more about interactive tables.';\n",
              "          element.innerHTML = '';\n",
              "          dataTable['output_type'] = 'display_data';\n",
              "          await google.colab.output.renderOutput(dataTable, element);\n",
              "          const docLink = document.createElement('div');\n",
              "          docLink.innerHTML = docLinkHtml;\n",
              "          element.appendChild(docLink);\n",
              "        }\n",
              "      </script>\n",
              "    </div>\n",
              "  </div>\n",
              "  "
            ]
          },
          "metadata": {},
          "execution_count": 6
        }
      ]
    },
    {
      "cell_type": "code",
      "source": [
        "df.sort_index(ascending=True, inplace=True)\n",
        "df.head()"
      ],
      "metadata": {
        "colab": {
          "base_uri": "https://localhost:8080/",
          "height": 238
        },
        "id": "3VK88f5Rk7R3",
        "outputId": "adc1e559-69c9-4400-ae38-d520e6048c08"
      },
      "execution_count": 7,
      "outputs": [
        {
          "output_type": "execute_result",
          "data": {
            "text/plain": [
              "         Passengers\n",
              "Month              \n",
              "1949-01         112\n",
              "1949-02         118\n",
              "1949-03         132\n",
              "1949-04         129\n",
              "1949-05         121"
            ],
            "text/html": [
              "\n",
              "  <div id=\"df-86c89599-4bab-4911-ad90-5d99bed0dfa7\">\n",
              "    <div class=\"colab-df-container\">\n",
              "      <div>\n",
              "<style scoped>\n",
              "    .dataframe tbody tr th:only-of-type {\n",
              "        vertical-align: middle;\n",
              "    }\n",
              "\n",
              "    .dataframe tbody tr th {\n",
              "        vertical-align: top;\n",
              "    }\n",
              "\n",
              "    .dataframe thead th {\n",
              "        text-align: right;\n",
              "    }\n",
              "</style>\n",
              "<table border=\"1\" class=\"dataframe\">\n",
              "  <thead>\n",
              "    <tr style=\"text-align: right;\">\n",
              "      <th></th>\n",
              "      <th>Passengers</th>\n",
              "    </tr>\n",
              "    <tr>\n",
              "      <th>Month</th>\n",
              "      <th></th>\n",
              "    </tr>\n",
              "  </thead>\n",
              "  <tbody>\n",
              "    <tr>\n",
              "      <th>1949-01</th>\n",
              "      <td>112</td>\n",
              "    </tr>\n",
              "    <tr>\n",
              "      <th>1949-02</th>\n",
              "      <td>118</td>\n",
              "    </tr>\n",
              "    <tr>\n",
              "      <th>1949-03</th>\n",
              "      <td>132</td>\n",
              "    </tr>\n",
              "    <tr>\n",
              "      <th>1949-04</th>\n",
              "      <td>129</td>\n",
              "    </tr>\n",
              "    <tr>\n",
              "      <th>1949-05</th>\n",
              "      <td>121</td>\n",
              "    </tr>\n",
              "  </tbody>\n",
              "</table>\n",
              "</div>\n",
              "      <button class=\"colab-df-convert\" onclick=\"convertToInteractive('df-86c89599-4bab-4911-ad90-5d99bed0dfa7')\"\n",
              "              title=\"Convert this dataframe to an interactive table.\"\n",
              "              style=\"display:none;\">\n",
              "        \n",
              "  <svg xmlns=\"http://www.w3.org/2000/svg\" height=\"24px\"viewBox=\"0 0 24 24\"\n",
              "       width=\"24px\">\n",
              "    <path d=\"M0 0h24v24H0V0z\" fill=\"none\"/>\n",
              "    <path d=\"M18.56 5.44l.94 2.06.94-2.06 2.06-.94-2.06-.94-.94-2.06-.94 2.06-2.06.94zm-11 1L8.5 8.5l.94-2.06 2.06-.94-2.06-.94L8.5 2.5l-.94 2.06-2.06.94zm10 10l.94 2.06.94-2.06 2.06-.94-2.06-.94-.94-2.06-.94 2.06-2.06.94z\"/><path d=\"M17.41 7.96l-1.37-1.37c-.4-.4-.92-.59-1.43-.59-.52 0-1.04.2-1.43.59L10.3 9.45l-7.72 7.72c-.78.78-.78 2.05 0 2.83L4 21.41c.39.39.9.59 1.41.59.51 0 1.02-.2 1.41-.59l7.78-7.78 2.81-2.81c.8-.78.8-2.07 0-2.86zM5.41 20L4 18.59l7.72-7.72 1.47 1.35L5.41 20z\"/>\n",
              "  </svg>\n",
              "      </button>\n",
              "      \n",
              "  <style>\n",
              "    .colab-df-container {\n",
              "      display:flex;\n",
              "      flex-wrap:wrap;\n",
              "      gap: 12px;\n",
              "    }\n",
              "\n",
              "    .colab-df-convert {\n",
              "      background-color: #E8F0FE;\n",
              "      border: none;\n",
              "      border-radius: 50%;\n",
              "      cursor: pointer;\n",
              "      display: none;\n",
              "      fill: #1967D2;\n",
              "      height: 32px;\n",
              "      padding: 0 0 0 0;\n",
              "      width: 32px;\n",
              "    }\n",
              "\n",
              "    .colab-df-convert:hover {\n",
              "      background-color: #E2EBFA;\n",
              "      box-shadow: 0px 1px 2px rgba(60, 64, 67, 0.3), 0px 1px 3px 1px rgba(60, 64, 67, 0.15);\n",
              "      fill: #174EA6;\n",
              "    }\n",
              "\n",
              "    [theme=dark] .colab-df-convert {\n",
              "      background-color: #3B4455;\n",
              "      fill: #D2E3FC;\n",
              "    }\n",
              "\n",
              "    [theme=dark] .colab-df-convert:hover {\n",
              "      background-color: #434B5C;\n",
              "      box-shadow: 0px 1px 3px 1px rgba(0, 0, 0, 0.15);\n",
              "      filter: drop-shadow(0px 1px 2px rgba(0, 0, 0, 0.3));\n",
              "      fill: #FFFFFF;\n",
              "    }\n",
              "  </style>\n",
              "\n",
              "      <script>\n",
              "        const buttonEl =\n",
              "          document.querySelector('#df-86c89599-4bab-4911-ad90-5d99bed0dfa7 button.colab-df-convert');\n",
              "        buttonEl.style.display =\n",
              "          google.colab.kernel.accessAllowed ? 'block' : 'none';\n",
              "\n",
              "        async function convertToInteractive(key) {\n",
              "          const element = document.querySelector('#df-86c89599-4bab-4911-ad90-5d99bed0dfa7');\n",
              "          const dataTable =\n",
              "            await google.colab.kernel.invokeFunction('convertToInteractive',\n",
              "                                                     [key], {});\n",
              "          if (!dataTable) return;\n",
              "\n",
              "          const docLinkHtml = 'Like what you see? Visit the ' +\n",
              "            '<a target=\"_blank\" href=https://colab.research.google.com/notebooks/data_table.ipynb>data table notebook</a>'\n",
              "            + ' to learn more about interactive tables.';\n",
              "          element.innerHTML = '';\n",
              "          dataTable['output_type'] = 'display_data';\n",
              "          await google.colab.output.renderOutput(dataTable, element);\n",
              "          const docLink = document.createElement('div');\n",
              "          docLink.innerHTML = docLinkHtml;\n",
              "          element.appendChild(docLink);\n",
              "        }\n",
              "      </script>\n",
              "    </div>\n",
              "  </div>\n",
              "  "
            ]
          },
          "metadata": {},
          "execution_count": 7
        }
      ]
    },
    {
      "cell_type": "code",
      "source": [
        "df.plot( figsize = (16,5))\n",
        "\n",
        "plt.grid('On')\n",
        "plt.show()"
      ],
      "metadata": {
        "colab": {
          "base_uri": "https://localhost:8080/",
          "height": 334
        },
        "id": "LsP9CiVqk_wV",
        "outputId": "5f7fbcd7-8768-44a1-e166-3adbd9f73d3a"
      },
      "execution_count": 8,
      "outputs": [
        {
          "output_type": "display_data",
          "data": {
            "text/plain": [
              "<Figure size 1152x360 with 1 Axes>"
            ],
            "image/png": "[encoded data removed]"
          },
          "metadata": {
            "needs_background": "light"
          }
        }
      ]
    },
    {
      "cell_type": "code",
      "source": [
        "df.describe()"
      ],
      "metadata": {
        "colab": {
          "base_uri": "https://localhost:8080/",
          "height": 300
        },
        "id": "gIGH5jJplCiK",
        "outputId": "b91f5ffb-086b-46ac-e8f5-704f2ac4ba04"
      },
      "execution_count": 9,
      "outputs": [
        {
          "output_type": "execute_result",
          "data": {
            "text/plain": [
              "       Passengers\n",
              "count  144.000000\n",
              "mean   280.298611\n",
              "std    119.966317\n",
              "min    104.000000\n",
              "25%    180.000000\n",
              "50%    265.500000\n",
              "75%    360.500000\n",
              "max    622.000000"
            ],
            "text/html": [
              "\n",
              "  <div id=\"df-92c5e690-7542-4969-b727-810635d02530\">\n",
              "    <div class=\"colab-df-container\">\n",
              "      <div>\n",
              "<style scoped>\n",
              "    .dataframe tbody tr th:only-of-type {\n",
              "        vertical-align: middle;\n",
              "    }\n",
              "\n",
              "    .dataframe tbody tr th {\n",
              "        vertical-align: top;\n",
              "    }\n",
              "\n",
              "    .dataframe thead th {\n",
              "        text-align: right;\n",
              "    }\n",
              "</style>\n",
              "<table border=\"1\" class=\"dataframe\">\n",
              "  <thead>\n",
              "    <tr style=\"text-align: right;\">\n",
              "      <th></th>\n",
              "      <th>Passengers</th>\n",
              "    </tr>\n",
              "  </thead>\n",
              "  <tbody>\n",
              "    <tr>\n",
              "      <th>count</th>\n",
              "      <td>144.000000</td>\n",
              "    </tr>\n",
              "    <tr>\n",
              "      <th>mean</th>\n",
              "      <td>280.298611</td>\n",
              "    </tr>\n",
              "    <tr>\n",
              "      <th>std</th>\n",
              "      <td>119.966317</td>\n",
              "    </tr>\n",
              "    <tr>\n",
              "      <th>min</th>\n",
              "      <td>104.000000</td>\n",
              "    </tr>\n",
              "    <tr>\n",
              "      <th>25%</th>\n",
              "      <td>180.000000</td>\n",
              "    </tr>\n",
              "    <tr>\n",
              "      <th>50%</th>\n",
              "      <td>265.500000</td>\n",
              "    </tr>\n",
              "    <tr>\n",
              "      <th>75%</th>\n",
              "      <td>360.500000</td>\n",
              "    </tr>\n",
              "    <tr>\n",
              "      <th>max</th>\n",
              "      <td>622.000000</td>\n",
              "    </tr>\n",
              "  </tbody>\n",
              "</table>\n",
              "</div>\n",
              "      <button class=\"colab-df-convert\" onclick=\"convertToInteractive('df-92c5e690-7542-4969-b727-810635d02530')\"\n",
              "              title=\"Convert this dataframe to an interactive table.\"\n",
              "              style=\"display:none;\">\n",
              "        \n",
              "  <svg xmlns=\"http://www.w3.org/2000/svg\" height=\"24px\"viewBox=\"0 0 24 24\"\n",
              "       width=\"24px\">\n",
              "    <path d=\"M0 0h24v24H0V0z\" fill=\"none\"/>\n",
              "    <path d=\"M18.56 5.44l.94 2.06.94-2.06 2.06-.94-2.06-.94-.94-2.06-.94 2.06-2.06.94zm-11 1L8.5 8.5l.94-2.06 2.06-.94-2.06-.94L8.5 2.5l-.94 2.06-2.06.94zm10 10l.94 2.06.94-2.06 2.06-.94-2.06-.94-.94-2.06-.94 2.06-2.06.94z\"/><path d=\"M17.41 7.96l-1.37-1.37c-.4-.4-.92-.59-1.43-.59-.52 0-1.04.2-1.43.59L10.3 9.45l-7.72 7.72c-.78.78-.78 2.05 0 2.83L4 21.41c.39.39.9.59 1.41.59.51 0 1.02-.2 1.41-.59l7.78-7.78 2.81-2.81c.8-.78.8-2.07 0-2.86zM5.41 20L4 18.59l7.72-7.72 1.47 1.35L5.41 20z\"/>\n",
              "  </svg>\n",
              "      </button>\n",
              "      \n",
              "  <style>\n",
              "    .colab-df-container {\n",
              "      display:flex;\n",
              "      flex-wrap:wrap;\n",
              "      gap: 12px;\n",
              "    }\n",
              "\n",
              "    .colab-df-convert {\n",
              "      background-color: #E8F0FE;\n",
              "      border: none;\n",
              "      border-radius: 50%;\n",
              "      cursor: pointer;\n",
              "      display: none;\n",
              "      fill: #1967D2;\n",
              "      height: 32px;\n",
              "      padding: 0 0 0 0;\n",
              "      width: 32px;\n",
              "    }\n",
              "\n",
              "    .colab-df-convert:hover {\n",
              "      background-color: #E2EBFA;\n",
              "      box-shadow: 0px 1px 2px rgba(60, 64, 67, 0.3), 0px 1px 3px 1px rgba(60, 64, 67, 0.15);\n",
              "      fill: #174EA6;\n",
              "    }\n",
              "\n",
              "    [theme=dark] .colab-df-convert {\n",
              "      background-color: #3B4455;\n",
              "      fill: #D2E3FC;\n",
              "    }\n",
              "\n",
              "    [theme=dark] .colab-df-convert:hover {\n",
              "      background-color: #434B5C;\n",
              "      box-shadow: 0px 1px 3px 1px rgba(0, 0, 0, 0.15);\n",
              "      filter: drop-shadow(0px 1px 2px rgba(0, 0, 0, 0.3));\n",
              "      fill: #FFFFFF;\n",
              "    }\n",
              "  </style>\n",
              "\n",
              "      <script>\n",
              "        const buttonEl =\n",
              "          document.querySelector('#df-92c5e690-7542-4969-b727-810635d02530 button.colab-df-convert');\n",
              "        buttonEl.style.display =\n",
              "          google.colab.kernel.accessAllowed ? 'block' : 'none';\n",
              "\n",
              "        async function convertToInteractive(key) {\n",
              "          const element = document.querySelector('#df-92c5e690-7542-4969-b727-810635d02530');\n",
              "          const dataTable =\n",
              "            await google.colab.kernel.invokeFunction('convertToInteractive',\n",
              "                                                     [key], {});\n",
              "          if (!dataTable) return;\n",
              "\n",
              "          const docLinkHtml = 'Like what you see? Visit the ' +\n",
              "            '<a target=\"_blank\" href=https://colab.research.google.com/notebooks/data_table.ipynb>data table notebook</a>'\n",
              "            + ' to learn more about interactive tables.';\n",
              "          element.innerHTML = '';\n",
              "          dataTable['output_type'] = 'display_data';\n",
              "          await google.colab.output.renderOutput(dataTable, element);\n",
              "          const docLink = document.createElement('div');\n",
              "          docLink.innerHTML = docLinkHtml;\n",
              "          element.appendChild(docLink);\n",
              "        }\n",
              "      </script>\n",
              "    </div>\n",
              "  </div>\n",
              "  "
            ]
          },
          "metadata": {},
          "execution_count": 9
        }
      ]
    },
    {
      "cell_type": "markdown",
      "source": [
        "Добавим дату как признаки: как \"месяц в году\" и (год-1949)"
      ],
      "metadata": {
        "id": "Oy3oIPv8lHGM"
      }
    },
    {
      "cell_type": "code",
      "source": [
        "df.index"
      ],
      "metadata": {
        "colab": {
          "base_uri": "https://localhost:8080/"
        },
        "id": "GC3kjoV5lDVH",
        "outputId": "f8decaa3-2b58-4211-e2d6-f2917dedf55a"
      },
      "execution_count": 10,
      "outputs": [
        {
          "output_type": "execute_result",
          "data": {
            "text/plain": [
              "Index(['1949-01', '1949-02', '1949-03', '1949-04', '1949-05', '1949-06',\n",
              "       '1949-07', '1949-08', '1949-09', '1949-10',\n",
              "       ...\n",
              "       '1960-03', '1960-04', '1960-05', '1960-06', '1960-07', '1960-08',\n",
              "       '1960-09', '1960-10', '1960-11', '1960-12'],\n",
              "      dtype='object', name='Month', length=144)"
            ]
          },
          "metadata": {},
          "execution_count": 10
        }
      ]
    },
    {
      "cell_type": "code",
      "source": [
        "df['month'] = pd.to_datetime(df.index).month\n",
        "df['year'] = pd.to_datetime(df.index).year - 1949\n",
        "df.head()"
      ],
      "metadata": {
        "colab": {
          "base_uri": "https://localhost:8080/",
          "height": 238
        },
        "id": "VRl_0qZnlNa-",
        "outputId": "c4f08ce5-33ed-4472-8e2d-e40c28be8de5"
      },
      "execution_count": 11,
      "outputs": [
        {
          "output_type": "execute_result",
          "data": {
            "text/plain": [
              "         Passengers  month  year\n",
              "Month                           \n",
              "1949-01         112      1     0\n",
              "1949-02         118      2     0\n",
              "1949-03         132      3     0\n",
              "1949-04         129      4     0\n",
              "1949-05         121      5     0"
            ],
            "text/html": [
              "\n",
              "  <div id=\"df-65851c22-beb6-404e-a0f8-feb7ac31df04\">\n",
              "    <div class=\"colab-df-container\">\n",
              "      <div>\n",
              "<style scoped>\n",
              "    .dataframe tbody tr th:only-of-type {\n",
              "        vertical-align: middle;\n",
              "    }\n",
              "\n",
              "    .dataframe tbody tr th {\n",
              "        vertical-align: top;\n",
              "    }\n",
              "\n",
              "    .dataframe thead th {\n",
              "        text-align: right;\n",
              "    }\n",
              "</style>\n",
              "<table border=\"1\" class=\"dataframe\">\n",
              "  <thead>\n",
              "    <tr style=\"text-align: right;\">\n",
              "      <th></th>\n",
              "      <th>Passengers</th>\n",
              "      <th>month</th>\n",
              "      <th>year</th>\n",
              "    </tr>\n",
              "    <tr>\n",
              "      <th>Month</th>\n",
              "      <th></th>\n",
              "      <th></th>\n",
              "      <th></th>\n",
              "    </tr>\n",
              "  </thead>\n",
              "  <tbody>\n",
              "    <tr>\n",
              "      <th>1949-01</th>\n",
              "      <td>112</td>\n",
              "      <td>1</td>\n",
              "      <td>0</td>\n",
              "    </tr>\n",
              "    <tr>\n",
              "      <th>1949-02</th>\n",
              "      <td>118</td>\n",
              "      <td>2</td>\n",
              "      <td>0</td>\n",
              "    </tr>\n",
              "    <tr>\n",
              "      <th>1949-03</th>\n",
              "      <td>132</td>\n",
              "      <td>3</td>\n",
              "      <td>0</td>\n",
              "    </tr>\n",
              "    <tr>\n",
              "      <th>1949-04</th>\n",
              "      <td>129</td>\n",
              "      <td>4</td>\n",
              "      <td>0</td>\n",
              "    </tr>\n",
              "    <tr>\n",
              "      <th>1949-05</th>\n",
              "      <td>121</td>\n",
              "      <td>5</td>\n",
              "      <td>0</td>\n",
              "    </tr>\n",
              "  </tbody>\n",
              "</table>\n",
              "</div>\n",
              "      <button class=\"colab-df-convert\" onclick=\"convertToInteractive('df-65851c22-beb6-404e-a0f8-feb7ac31df04')\"\n",
              "              title=\"Convert this dataframe to an interactive table.\"\n",
              "              style=\"display:none;\">\n",
              "        \n",
              "  <svg xmlns=\"http://www.w3.org/2000/svg\" height=\"24px\"viewBox=\"0 0 24 24\"\n",
              "       width=\"24px\">\n",
              "    <path d=\"M0 0h24v24H0V0z\" fill=\"none\"/>\n",
              "    <path d=\"M18.56 5.44l.94 2.06.94-2.06 2.06-.94-2.06-.94-.94-2.06-.94 2.06-2.06.94zm-11 1L8.5 8.5l.94-2.06 2.06-.94-2.06-.94L8.5 2.5l-.94 2.06-2.06.94zm10 10l.94 2.06.94-2.06 2.06-.94-2.06-.94-.94-2.06-.94 2.06-2.06.94z\"/><path d=\"M17.41 7.96l-1.37-1.37c-.4-.4-.92-.59-1.43-.59-.52 0-1.04.2-1.43.59L10.3 9.45l-7.72 7.72c-.78.78-.78 2.05 0 2.83L4 21.41c.39.39.9.59 1.41.59.51 0 1.02-.2 1.41-.59l7.78-7.78 2.81-2.81c.8-.78.8-2.07 0-2.86zM5.41 20L4 18.59l7.72-7.72 1.47 1.35L5.41 20z\"/>\n",
              "  </svg>\n",
              "      </button>\n",
              "      \n",
              "  <style>\n",
              "    .colab-df-container {\n",
              "      display:flex;\n",
              "      flex-wrap:wrap;\n",
              "      gap: 12px;\n",
              "    }\n",
              "\n",
              "    .colab-df-convert {\n",
              "      background-color: #E8F0FE;\n",
              "      border: none;\n",
              "      border-radius: 50%;\n",
              "      cursor: pointer;\n",
              "      display: none;\n",
              "      fill: #1967D2;\n",
              "      height: 32px;\n",
              "      padding: 0 0 0 0;\n",
              "      width: 32px;\n",
              "    }\n",
              "\n",
              "    .colab-df-convert:hover {\n",
              "      background-color: #E2EBFA;\n",
              "      box-shadow: 0px 1px 2px rgba(60, 64, 67, 0.3), 0px 1px 3px 1px rgba(60, 64, 67, 0.15);\n",
              "      fill: #174EA6;\n",
              "    }\n",
              "\n",
              "    [theme=dark] .colab-df-convert {\n",
              "      background-color: #3B4455;\n",
              "      fill: #D2E3FC;\n",
              "    }\n",
              "\n",
              "    [theme=dark] .colab-df-convert:hover {\n",
              "      background-color: #434B5C;\n",
              "      box-shadow: 0px 1px 3px 1px rgba(0, 0, 0, 0.15);\n",
              "      filter: drop-shadow(0px 1px 2px rgba(0, 0, 0, 0.3));\n",
              "      fill: #FFFFFF;\n",
              "    }\n",
              "  </style>\n",
              "\n",
              "      <script>\n",
              "        const buttonEl =\n",
              "          document.querySelector('#df-65851c22-beb6-404e-a0f8-feb7ac31df04 button.colab-df-convert');\n",
              "        buttonEl.style.display =\n",
              "          google.colab.kernel.accessAllowed ? 'block' : 'none';\n",
              "\n",
              "        async function convertToInteractive(key) {\n",
              "          const element = document.querySelector('#df-65851c22-beb6-404e-a0f8-feb7ac31df04');\n",
              "          const dataTable =\n",
              "            await google.colab.kernel.invokeFunction('convertToInteractive',\n",
              "                                                     [key], {});\n",
              "          if (!dataTable) return;\n",
              "\n",
              "          const docLinkHtml = 'Like what you see? Visit the ' +\n",
              "            '<a target=\"_blank\" href=https://colab.research.google.com/notebooks/data_table.ipynb>data table notebook</a>'\n",
              "            + ' to learn more about interactive tables.';\n",
              "          element.innerHTML = '';\n",
              "          dataTable['output_type'] = 'display_data';\n",
              "          await google.colab.output.renderOutput(dataTable, element);\n",
              "          const docLink = document.createElement('div');\n",
              "          docLink.innerHTML = docLinkHtml;\n",
              "          element.appendChild(docLink);\n",
              "        }\n",
              "      </script>\n",
              "    </div>\n",
              "  </div>\n",
              "  "
            ]
          },
          "metadata": {},
          "execution_count": 11
        }
      ]
    },
    {
      "cell_type": "code",
      "source": [
        "for year_n in df['year'].unique():\n",
        "    print(np.argmax(df.loc[df['year'] == year_n, 'Passengers']))"
      ],
      "metadata": {
        "colab": {
          "base_uri": "https://localhost:8080/"
        },
        "id": "p2JqA4ITlQCT",
        "outputId": "a3e06bc1-2d58-4d12-93c4-35a3e5cbf099"
      },
      "execution_count": 12,
      "outputs": [
        {
          "output_type": "stream",
          "name": "stdout",
          "text": [
            "6\n",
            "6\n",
            "6\n",
            "7\n",
            "7\n",
            "6\n",
            "6\n",
            "6\n",
            "7\n",
            "7\n",
            "7\n",
            "6\n"
          ]
        }
      ]
    },
    {
      "cell_type": "markdown",
      "source": [
        "месяцы с индексами 6 и 7 (что соответствует 7 и 8 месяцу) самые активные по количеству пассажиров"
      ],
      "metadata": {
        "id": "z4TIOkCtlZxa"
      }
    },
    {
      "cell_type": "code",
      "source": [
        "df['is_top_month'] = 0\n",
        "df.loc[df['month'] == 7, 'is_top_month'] = 1\n",
        "df.loc[df['month'] == 8, 'is_top_month'] = 1\n",
        "df.head(12)"
      ],
      "metadata": {
        "colab": {
          "base_uri": "https://localhost:8080/",
          "height": 457
        },
        "id": "aR_osSKWlavK",
        "outputId": "29ec7b49-9264-4b63-ea45-dc5524f3f9b9"
      },
      "execution_count": 13,
      "outputs": [
        {
          "output_type": "execute_result",
          "data": {
            "text/plain": [
              "         Passengers  month  year  is_top_month\n",
              "Month                                         \n",
              "1949-01         112      1     0             0\n",
              "1949-02         118      2     0             0\n",
              "1949-03         132      3     0             0\n",
              "1949-04         129      4     0             0\n",
              "1949-05         121      5     0             0\n",
              "1949-06         135      6     0             0\n",
              "1949-07         148      7     0             1\n",
              "1949-08         148      8     0             1\n",
              "1949-09         136      9     0             0\n",
              "1949-10         119     10     0             0\n",
              "1949-11         104     11     0             0\n",
              "1949-12         118     12     0             0"
            ],
            "text/html": [
              "\n",
              "  <div id=\"df-05ff88ba-092c-4549-8bdc-2adfbf7bfbbc\">\n",
              "    <div class=\"colab-df-container\">\n",
              "      <div>\n",
              "<style scoped>\n",
              "    .dataframe tbody tr th:only-of-type {\n",
              "        vertical-align: middle;\n",
              "    }\n",
              "\n",
              "    .dataframe tbody tr th {\n",
              "        vertical-align: top;\n",
              "    }\n",
              "\n",
              "    .dataframe thead th {\n",
              "        text-align: right;\n",
              "    }\n",
              "</style>\n",
              "<table border=\"1\" class=\"dataframe\">\n",
              "  <thead>\n",
              "    <tr style=\"text-align: right;\">\n",
              "      <th></th>\n",
              "      <th>Passengers</th>\n",
              "      <th>month</th>\n",
              "      <th>year</th>\n",
              "      <th>is_top_month</th>\n",
              "    </tr>\n",
              "    <tr>\n",
              "      <th>Month</th>\n",
              "      <th></th>\n",
              "      <th></th>\n",
              "      <th></th>\n",
              "      <th></th>\n",
              "    </tr>\n",
              "  </thead>\n",
              "  <tbody>\n",
              "    <tr>\n",
              "      <th>1949-01</th>\n",
              "      <td>112</td>\n",
              "      <td>1</td>\n",
              "      <td>0</td>\n",
              "      <td>0</td>\n",
              "    </tr>\n",
              "    <tr>\n",
              "      <th>1949-02</th>\n",
              "      <td>118</td>\n",
              "      <td>2</td>\n",
              "      <td>0</td>\n",
              "      <td>0</td>\n",
              "    </tr>\n",
              "    <tr>\n",
              "      <th>1949-03</th>\n",
              "      <td>132</td>\n",
              "      <td>3</td>\n",
              "      <td>0</td>\n",
              "      <td>0</td>\n",
              "    </tr>\n",
              "    <tr>\n",
              "      <th>1949-04</th>\n",
              "      <td>129</td>\n",
              "      <td>4</td>\n",
              "      <td>0</td>\n",
              "      <td>0</td>\n",
              "    </tr>\n",
              "    <tr>\n",
              "      <th>1949-05</th>\n",
              "      <td>121</td>\n",
              "      <td>5</td>\n",
              "      <td>0</td>\n",
              "      <td>0</td>\n",
              "    </tr>\n",
              "    <tr>\n",
              "      <th>1949-06</th>\n",
              "      <td>135</td>\n",
              "      <td>6</td>\n",
              "      <td>0</td>\n",
              "      <td>0</td>\n",
              "    </tr>\n",
              "    <tr>\n",
              "      <th>1949-07</th>\n",
              "      <td>148</td>\n",
              "      <td>7</td>\n",
              "      <td>0</td>\n",
              "      <td>1</td>\n",
              "    </tr>\n",
              "    <tr>\n",
              "      <th>1949-08</th>\n",
              "      <td>148</td>\n",
              "      <td>8</td>\n",
              "      <td>0</td>\n",
              "      <td>1</td>\n",
              "    </tr>\n",
              "    <tr>\n",
              "      <th>1949-09</th>\n",
              "      <td>136</td>\n",
              "      <td>9</td>\n",
              "      <td>0</td>\n",
              "      <td>0</td>\n",
              "    </tr>\n",
              "    <tr>\n",
              "      <th>1949-10</th>\n",
              "      <td>119</td>\n",
              "      <td>10</td>\n",
              "      <td>0</td>\n",
              "      <td>0</td>\n",
              "    </tr>\n",
              "    <tr>\n",
              "      <th>1949-11</th>\n",
              "      <td>104</td>\n",
              "      <td>11</td>\n",
              "      <td>0</td>\n",
              "      <td>0</td>\n",
              "    </tr>\n",
              "    <tr>\n",
              "      <th>1949-12</th>\n",
              "      <td>118</td>\n",
              "      <td>12</td>\n",
              "      <td>0</td>\n",
              "      <td>0</td>\n",
              "    </tr>\n",
              "  </tbody>\n",
              "</table>\n",
              "</div>\n",
              "      <button class=\"colab-df-convert\" onclick=\"convertToInteractive('df-05ff88ba-092c-4549-8bdc-2adfbf7bfbbc')\"\n",
              "              title=\"Convert this dataframe to an interactive table.\"\n",
              "              style=\"display:none;\">\n",
              "        \n",
              "  <svg xmlns=\"http://www.w3.org/2000/svg\" height=\"24px\"viewBox=\"0 0 24 24\"\n",
              "       width=\"24px\">\n",
              "    <path d=\"M0 0h24v24H0V0z\" fill=\"none\"/>\n",
              "    <path d=\"M18.56 5.44l.94 2.06.94-2.06 2.06-.94-2.06-.94-.94-2.06-.94 2.06-2.06.94zm-11 1L8.5 8.5l.94-2.06 2.06-.94-2.06-.94L8.5 2.5l-.94 2.06-2.06.94zm10 10l.94 2.06.94-2.06 2.06-.94-2.06-.94-.94-2.06-.94 2.06-2.06.94z\"/><path d=\"M17.41 7.96l-1.37-1.37c-.4-.4-.92-.59-1.43-.59-.52 0-1.04.2-1.43.59L10.3 9.45l-7.72 7.72c-.78.78-.78 2.05 0 2.83L4 21.41c.39.39.9.59 1.41.59.51 0 1.02-.2 1.41-.59l7.78-7.78 2.81-2.81c.8-.78.8-2.07 0-2.86zM5.41 20L4 18.59l7.72-7.72 1.47 1.35L5.41 20z\"/>\n",
              "  </svg>\n",
              "      </button>\n",
              "      \n",
              "  <style>\n",
              "    .colab-df-container {\n",
              "      display:flex;\n",
              "      flex-wrap:wrap;\n",
              "      gap: 12px;\n",
              "    }\n",
              "\n",
              "    .colab-df-convert {\n",
              "      background-color: #E8F0FE;\n",
              "      border: none;\n",
              "      border-radius: 50%;\n",
              "      cursor: pointer;\n",
              "      display: none;\n",
              "      fill: #1967D2;\n",
              "      height: 32px;\n",
              "      padding: 0 0 0 0;\n",
              "      width: 32px;\n",
              "    }\n",
              "\n",
              "    .colab-df-convert:hover {\n",
              "      background-color: #E2EBFA;\n",
              "      box-shadow: 0px 1px 2px rgba(60, 64, 67, 0.3), 0px 1px 3px 1px rgba(60, 64, 67, 0.15);\n",
              "      fill: #174EA6;\n",
              "    }\n",
              "\n",
              "    [theme=dark] .colab-df-convert {\n",
              "      background-color: #3B4455;\n",
              "      fill: #D2E3FC;\n",
              "    }\n",
              "\n",
              "    [theme=dark] .colab-df-convert:hover {\n",
              "      background-color: #434B5C;\n",
              "      box-shadow: 0px 1px 3px 1px rgba(0, 0, 0, 0.15);\n",
              "      filter: drop-shadow(0px 1px 2px rgba(0, 0, 0, 0.3));\n",
              "      fill: #FFFFFF;\n",
              "    }\n",
              "  </style>\n",
              "\n",
              "      <script>\n",
              "        const buttonEl =\n",
              "          document.querySelector('#df-05ff88ba-092c-4549-8bdc-2adfbf7bfbbc button.colab-df-convert');\n",
              "        buttonEl.style.display =\n",
              "          google.colab.kernel.accessAllowed ? 'block' : 'none';\n",
              "\n",
              "        async function convertToInteractive(key) {\n",
              "          const element = document.querySelector('#df-05ff88ba-092c-4549-8bdc-2adfbf7bfbbc');\n",
              "          const dataTable =\n",
              "            await google.colab.kernel.invokeFunction('convertToInteractive',\n",
              "                                                     [key], {});\n",
              "          if (!dataTable) return;\n",
              "\n",
              "          const docLinkHtml = 'Like what you see? Visit the ' +\n",
              "            '<a target=\"_blank\" href=https://colab.research.google.com/notebooks/data_table.ipynb>data table notebook</a>'\n",
              "            + ' to learn more about interactive tables.';\n",
              "          element.innerHTML = '';\n",
              "          dataTable['output_type'] = 'display_data';\n",
              "          await google.colab.output.renderOutput(dataTable, element);\n",
              "          const docLink = document.createElement('div');\n",
              "          docLink.innerHTML = docLinkHtml;\n",
              "          element.appendChild(docLink);\n",
              "        }\n",
              "      </script>\n",
              "    </div>\n",
              "  </div>\n",
              "  "
            ]
          },
          "metadata": {},
          "execution_count": 13
        }
      ]
    },
    {
      "cell_type": "code",
      "source": [
        "data = df.copy() # берем все что есть"
      ],
      "metadata": {
        "id": "Ds0p7uV-lfLf"
      },
      "execution_count": 14,
      "outputs": []
    },
    {
      "cell_type": "code",
      "source": [
        "data.head()"
      ],
      "metadata": {
        "colab": {
          "base_uri": "https://localhost:8080/",
          "height": 238
        },
        "id": "Qqh9oJKdlgu4",
        "outputId": "e4680a04-bc61-434e-da84-fc9a3c47da30"
      },
      "execution_count": 15,
      "outputs": [
        {
          "output_type": "execute_result",
          "data": {
            "text/plain": [
              "         Passengers  month  year  is_top_month\n",
              "Month                                         \n",
              "1949-01         112      1     0             0\n",
              "1949-02         118      2     0             0\n",
              "1949-03         132      3     0             0\n",
              "1949-04         129      4     0             0\n",
              "1949-05         121      5     0             0"
            ],
            "text/html": [
              "\n",
              "  <div id=\"df-bca9454d-75da-4a0b-bfe4-80f3b835f362\">\n",
              "    <div class=\"colab-df-container\">\n",
              "      <div>\n",
              "<style scoped>\n",
              "    .dataframe tbody tr th:only-of-type {\n",
              "        vertical-align: middle;\n",
              "    }\n",
              "\n",
              "    .dataframe tbody tr th {\n",
              "        vertical-align: top;\n",
              "    }\n",
              "\n",
              "    .dataframe thead th {\n",
              "        text-align: right;\n",
              "    }\n",
              "</style>\n",
              "<table border=\"1\" class=\"dataframe\">\n",
              "  <thead>\n",
              "    <tr style=\"text-align: right;\">\n",
              "      <th></th>\n",
              "      <th>Passengers</th>\n",
              "      <th>month</th>\n",
              "      <th>year</th>\n",
              "      <th>is_top_month</th>\n",
              "    </tr>\n",
              "    <tr>\n",
              "      <th>Month</th>\n",
              "      <th></th>\n",
              "      <th></th>\n",
              "      <th></th>\n",
              "      <th></th>\n",
              "    </tr>\n",
              "  </thead>\n",
              "  <tbody>\n",
              "    <tr>\n",
              "      <th>1949-01</th>\n",
              "      <td>112</td>\n",
              "      <td>1</td>\n",
              "      <td>0</td>\n",
              "      <td>0</td>\n",
              "    </tr>\n",
              "    <tr>\n",
              "      <th>1949-02</th>\n",
              "      <td>118</td>\n",
              "      <td>2</td>\n",
              "      <td>0</td>\n",
              "      <td>0</td>\n",
              "    </tr>\n",
              "    <tr>\n",
              "      <th>1949-03</th>\n",
              "      <td>132</td>\n",
              "      <td>3</td>\n",
              "      <td>0</td>\n",
              "      <td>0</td>\n",
              "    </tr>\n",
              "    <tr>\n",
              "      <th>1949-04</th>\n",
              "      <td>129</td>\n",
              "      <td>4</td>\n",
              "      <td>0</td>\n",
              "      <td>0</td>\n",
              "    </tr>\n",
              "    <tr>\n",
              "      <th>1949-05</th>\n",
              "      <td>121</td>\n",
              "      <td>5</td>\n",
              "      <td>0</td>\n",
              "      <td>0</td>\n",
              "    </tr>\n",
              "  </tbody>\n",
              "</table>\n",
              "</div>\n",
              "      <button class=\"colab-df-convert\" onclick=\"convertToInteractive('df-bca9454d-75da-4a0b-bfe4-80f3b835f362')\"\n",
              "              title=\"Convert this dataframe to an interactive table.\"\n",
              "              style=\"display:none;\">\n",
              "        \n",
              "  <svg xmlns=\"http://www.w3.org/2000/svg\" height=\"24px\"viewBox=\"0 0 24 24\"\n",
              "       width=\"24px\">\n",
              "    <path d=\"M0 0h24v24H0V0z\" fill=\"none\"/>\n",
              "    <path d=\"M18.56 5.44l.94 2.06.94-2.06 2.06-.94-2.06-.94-.94-2.06-.94 2.06-2.06.94zm-11 1L8.5 8.5l.94-2.06 2.06-.94-2.06-.94L8.5 2.5l-.94 2.06-2.06.94zm10 10l.94 2.06.94-2.06 2.06-.94-2.06-.94-.94-2.06-.94 2.06-2.06.94z\"/><path d=\"M17.41 7.96l-1.37-1.37c-.4-.4-.92-.59-1.43-.59-.52 0-1.04.2-1.43.59L10.3 9.45l-7.72 7.72c-.78.78-.78 2.05 0 2.83L4 21.41c.39.39.9.59 1.41.59.51 0 1.02-.2 1.41-.59l7.78-7.78 2.81-2.81c.8-.78.8-2.07 0-2.86zM5.41 20L4 18.59l7.72-7.72 1.47 1.35L5.41 20z\"/>\n",
              "  </svg>\n",
              "      </button>\n",
              "      \n",
              "  <style>\n",
              "    .colab-df-container {\n",
              "      display:flex;\n",
              "      flex-wrap:wrap;\n",
              "      gap: 12px;\n",
              "    }\n",
              "\n",
              "    .colab-df-convert {\n",
              "      background-color: #E8F0FE;\n",
              "      border: none;\n",
              "      border-radius: 50%;\n",
              "      cursor: pointer;\n",
              "      display: none;\n",
              "      fill: #1967D2;\n",
              "      height: 32px;\n",
              "      padding: 0 0 0 0;\n",
              "      width: 32px;\n",
              "    }\n",
              "\n",
              "    .colab-df-convert:hover {\n",
              "      background-color: #E2EBFA;\n",
              "      box-shadow: 0px 1px 2px rgba(60, 64, 67, 0.3), 0px 1px 3px 1px rgba(60, 64, 67, 0.15);\n",
              "      fill: #174EA6;\n",
              "    }\n",
              "\n",
              "    [theme=dark] .colab-df-convert {\n",
              "      background-color: #3B4455;\n",
              "      fill: #D2E3FC;\n",
              "    }\n",
              "\n",
              "    [theme=dark] .colab-df-convert:hover {\n",
              "      background-color: #434B5C;\n",
              "      box-shadow: 0px 1px 3px 1px rgba(0, 0, 0, 0.15);\n",
              "      filter: drop-shadow(0px 1px 2px rgba(0, 0, 0, 0.3));\n",
              "      fill: #FFFFFF;\n",
              "    }\n",
              "  </style>\n",
              "\n",
              "      <script>\n",
              "        const buttonEl =\n",
              "          document.querySelector('#df-bca9454d-75da-4a0b-bfe4-80f3b835f362 button.colab-df-convert');\n",
              "        buttonEl.style.display =\n",
              "          google.colab.kernel.accessAllowed ? 'block' : 'none';\n",
              "\n",
              "        async function convertToInteractive(key) {\n",
              "          const element = document.querySelector('#df-bca9454d-75da-4a0b-bfe4-80f3b835f362');\n",
              "          const dataTable =\n",
              "            await google.colab.kernel.invokeFunction('convertToInteractive',\n",
              "                                                     [key], {});\n",
              "          if (!dataTable) return;\n",
              "\n",
              "          const docLinkHtml = 'Like what you see? Visit the ' +\n",
              "            '<a target=\"_blank\" href=https://colab.research.google.com/notebooks/data_table.ipynb>data table notebook</a>'\n",
              "            + ' to learn more about interactive tables.';\n",
              "          element.innerHTML = '';\n",
              "          dataTable['output_type'] = 'display_data';\n",
              "          await google.colab.output.renderOutput(dataTable, element);\n",
              "          const docLink = document.createElement('div');\n",
              "          docLink.innerHTML = docLinkHtml;\n",
              "          element.appendChild(docLink);\n",
              "        }\n",
              "      </script>\n",
              "    </div>\n",
              "  </div>\n",
              "  "
            ]
          },
          "metadata": {},
          "execution_count": 15
        }
      ]
    },
    {
      "cell_type": "markdown",
      "source": [
        "Делаем нормализацию"
      ],
      "metadata": {
        "id": "Aq3Kl4M1ljtn"
      }
    },
    {
      "cell_type": "code",
      "source": [
        "def normalize(data, data_mean=0, data_std=0):\n",
        "    if data_std == 0:\n",
        "      data_mean = data.mean(axis=0)\n",
        "      data_std = data.std(axis=0)\n",
        "    return (data - data_mean) / data_std, data_mean,data_std"
      ],
      "metadata": {
        "id": "YFX1Ntb7lkle"
      },
      "execution_count": 16,
      "outputs": []
    },
    {
      "cell_type": "code",
      "source": [
        "train_split = 120\n",
        "_,d_m,d_s =  normalize(data.iloc[:train_split,0].values)\n",
        "data.iloc[:, 0]= (data.iloc[:, 0].values - d_m) / d_s"
      ],
      "metadata": {
        "id": "HC1ccvPZlp4m"
      },
      "execution_count": 17,
      "outputs": []
    },
    {
      "cell_type": "code",
      "source": [
        "data.head()"
      ],
      "metadata": {
        "colab": {
          "base_uri": "https://localhost:8080/",
          "height": 238
        },
        "id": "6_QBnhzylsS3",
        "outputId": "04dd9883-0c97-4b2f-a053-d62c0a7afbe0"
      },
      "execution_count": 18,
      "outputs": [
        {
          "output_type": "execute_result",
          "data": {
            "text/plain": [
              "         Passengers  month  year  is_top_month\n",
              "Month                                         \n",
              "1949-01   -1.416335      1     0             0\n",
              "1949-02   -1.352874      2     0             0\n",
              "1949-03   -1.204797      3     0             0\n",
              "1949-04   -1.236528      4     0             0\n",
              "1949-05   -1.321143      5     0             0"
            ],
            "text/html": [
              "\n",
              "  <div id=\"df-7d53e9d2-d21f-4041-9c15-faf4076adf20\">\n",
              "    <div class=\"colab-df-container\">\n",
              "      <div>\n",
              "<style scoped>\n",
              "    .dataframe tbody tr th:only-of-type {\n",
              "        vertical-align: middle;\n",
              "    }\n",
              "\n",
              "    .dataframe tbody tr th {\n",
              "        vertical-align: top;\n",
              "    }\n",
              "\n",
              "    .dataframe thead th {\n",
              "        text-align: right;\n",
              "    }\n",
              "</style>\n",
              "<table border=\"1\" class=\"dataframe\">\n",
              "  <thead>\n",
              "    <tr style=\"text-align: right;\">\n",
              "      <th></th>\n",
              "      <th>Passengers</th>\n",
              "      <th>month</th>\n",
              "      <th>year</th>\n",
              "      <th>is_top_month</th>\n",
              "    </tr>\n",
              "    <tr>\n",
              "      <th>Month</th>\n",
              "      <th></th>\n",
              "      <th></th>\n",
              "      <th></th>\n",
              "      <th></th>\n",
              "    </tr>\n",
              "  </thead>\n",
              "  <tbody>\n",
              "    <tr>\n",
              "      <th>1949-01</th>\n",
              "      <td>-1.416335</td>\n",
              "      <td>1</td>\n",
              "      <td>0</td>\n",
              "      <td>0</td>\n",
              "    </tr>\n",
              "    <tr>\n",
              "      <th>1949-02</th>\n",
              "      <td>-1.352874</td>\n",
              "      <td>2</td>\n",
              "      <td>0</td>\n",
              "      <td>0</td>\n",
              "    </tr>\n",
              "    <tr>\n",
              "      <th>1949-03</th>\n",
              "      <td>-1.204797</td>\n",
              "      <td>3</td>\n",
              "      <td>0</td>\n",
              "      <td>0</td>\n",
              "    </tr>\n",
              "    <tr>\n",
              "      <th>1949-04</th>\n",
              "      <td>-1.236528</td>\n",
              "      <td>4</td>\n",
              "      <td>0</td>\n",
              "      <td>0</td>\n",
              "    </tr>\n",
              "    <tr>\n",
              "      <th>1949-05</th>\n",
              "      <td>-1.321143</td>\n",
              "      <td>5</td>\n",
              "      <td>0</td>\n",
              "      <td>0</td>\n",
              "    </tr>\n",
              "  </tbody>\n",
              "</table>\n",
              "</div>\n",
              "      <button class=\"colab-df-convert\" onclick=\"convertToInteractive('df-7d53e9d2-d21f-4041-9c15-faf4076adf20')\"\n",
              "              title=\"Convert this dataframe to an interactive table.\"\n",
              "              style=\"display:none;\">\n",
              "        \n",
              "  <svg xmlns=\"http://www.w3.org/2000/svg\" height=\"24px\"viewBox=\"0 0 24 24\"\n",
              "       width=\"24px\">\n",
              "    <path d=\"M0 0h24v24H0V0z\" fill=\"none\"/>\n",
              "    <path d=\"M18.56 5.44l.94 2.06.94-2.06 2.06-.94-2.06-.94-.94-2.06-.94 2.06-2.06.94zm-11 1L8.5 8.5l.94-2.06 2.06-.94-2.06-.94L8.5 2.5l-.94 2.06-2.06.94zm10 10l.94 2.06.94-2.06 2.06-.94-2.06-.94-.94-2.06-.94 2.06-2.06.94z\"/><path d=\"M17.41 7.96l-1.37-1.37c-.4-.4-.92-.59-1.43-.59-.52 0-1.04.2-1.43.59L10.3 9.45l-7.72 7.72c-.78.78-.78 2.05 0 2.83L4 21.41c.39.39.9.59 1.41.59.51 0 1.02-.2 1.41-.59l7.78-7.78 2.81-2.81c.8-.78.8-2.07 0-2.86zM5.41 20L4 18.59l7.72-7.72 1.47 1.35L5.41 20z\"/>\n",
              "  </svg>\n",
              "      </button>\n",
              "      \n",
              "  <style>\n",
              "    .colab-df-container {\n",
              "      display:flex;\n",
              "      flex-wrap:wrap;\n",
              "      gap: 12px;\n",
              "    }\n",
              "\n",
              "    .colab-df-convert {\n",
              "      background-color: #E8F0FE;\n",
              "      border: none;\n",
              "      border-radius: 50%;\n",
              "      cursor: pointer;\n",
              "      display: none;\n",
              "      fill: #1967D2;\n",
              "      height: 32px;\n",
              "      padding: 0 0 0 0;\n",
              "      width: 32px;\n",
              "    }\n",
              "\n",
              "    .colab-df-convert:hover {\n",
              "      background-color: #E2EBFA;\n",
              "      box-shadow: 0px 1px 2px rgba(60, 64, 67, 0.3), 0px 1px 3px 1px rgba(60, 64, 67, 0.15);\n",
              "      fill: #174EA6;\n",
              "    }\n",
              "\n",
              "    [theme=dark] .colab-df-convert {\n",
              "      background-color: #3B4455;\n",
              "      fill: #D2E3FC;\n",
              "    }\n",
              "\n",
              "    [theme=dark] .colab-df-convert:hover {\n",
              "      background-color: #434B5C;\n",
              "      box-shadow: 0px 1px 3px 1px rgba(0, 0, 0, 0.15);\n",
              "      filter: drop-shadow(0px 1px 2px rgba(0, 0, 0, 0.3));\n",
              "      fill: #FFFFFF;\n",
              "    }\n",
              "  </style>\n",
              "\n",
              "      <script>\n",
              "        const buttonEl =\n",
              "          document.querySelector('#df-7d53e9d2-d21f-4041-9c15-faf4076adf20 button.colab-df-convert');\n",
              "        buttonEl.style.display =\n",
              "          google.colab.kernel.accessAllowed ? 'block' : 'none';\n",
              "\n",
              "        async function convertToInteractive(key) {\n",
              "          const element = document.querySelector('#df-7d53e9d2-d21f-4041-9c15-faf4076adf20');\n",
              "          const dataTable =\n",
              "            await google.colab.kernel.invokeFunction('convertToInteractive',\n",
              "                                                     [key], {});\n",
              "          if (!dataTable) return;\n",
              "\n",
              "          const docLinkHtml = 'Like what you see? Visit the ' +\n",
              "            '<a target=\"_blank\" href=https://colab.research.google.com/notebooks/data_table.ipynb>data table notebook</a>'\n",
              "            + ' to learn more about interactive tables.';\n",
              "          element.innerHTML = '';\n",
              "          dataTable['output_type'] = 'display_data';\n",
              "          await google.colab.output.renderOutput(dataTable, element);\n",
              "          const docLink = document.createElement('div');\n",
              "          docLink.innerHTML = docLinkHtml;\n",
              "          element.appendChild(docLink);\n",
              "        }\n",
              "      </script>\n",
              "    </div>\n",
              "  </div>\n",
              "  "
            ]
          },
          "metadata": {},
          "execution_count": 18
        }
      ]
    },
    {
      "cell_type": "markdown",
      "source": [
        "Создаем данные для обучения"
      ],
      "metadata": {
        "id": "MTn7eBTelvP9"
      }
    },
    {
      "cell_type": "markdown",
      "source": [
        ""
      ],
      "metadata": {
        "id": "rWWErMLulvbz"
      }
    },
    {
      "cell_type": "code",
      "source": [
        "# список признаков, по которым будем учить\n",
        "channelIndexes = [0,1,2,3]\n",
        "\n",
        "# длина теста\n",
        "valLen = 24\n",
        "# длина истории для работы\n",
        "xLen = 3\n",
        "# отступ тестов от тренировок\n",
        "bias = 9\n",
        "\n",
        "# делим\n",
        "train_data = data.iloc[0 : train_split ,channelIndexes]\n",
        "val_data = data.iloc[train_split+bias:,channelIndexes]"
      ],
      "metadata": {
        "id": "_EdsaD7VlvwH"
      },
      "execution_count": 19,
      "outputs": []
    },
    {
      "cell_type": "code",
      "source": [
        "train_data.head(3)"
      ],
      "metadata": {
        "colab": {
          "base_uri": "https://localhost:8080/",
          "height": 174
        },
        "id": "8J83eU_3lzOu",
        "outputId": "aca29b76-97a0-414d-8809-a75e5b966130"
      },
      "execution_count": 20,
      "outputs": [
        {
          "output_type": "execute_result",
          "data": {
            "text/plain": [
              "         Passengers  month  year  is_top_month\n",
              "Month                                         \n",
              "1949-01   -1.416335      1     0             0\n",
              "1949-02   -1.352874      2     0             0\n",
              "1949-03   -1.204797      3     0             0"
            ],
            "text/html": [
              "\n",
              "  <div id=\"df-4db8c3b5-8646-423e-afa1-4ba8643a3575\">\n",
              "    <div class=\"colab-df-container\">\n",
              "      <div>\n",
              "<style scoped>\n",
              "    .dataframe tbody tr th:only-of-type {\n",
              "        vertical-align: middle;\n",
              "    }\n",
              "\n",
              "    .dataframe tbody tr th {\n",
              "        vertical-align: top;\n",
              "    }\n",
              "\n",
              "    .dataframe thead th {\n",
              "        text-align: right;\n",
              "    }\n",
              "</style>\n",
              "<table border=\"1\" class=\"dataframe\">\n",
              "  <thead>\n",
              "    <tr style=\"text-align: right;\">\n",
              "      <th></th>\n",
              "      <th>Passengers</th>\n",
              "      <th>month</th>\n",
              "      <th>year</th>\n",
              "      <th>is_top_month</th>\n",
              "    </tr>\n",
              "    <tr>\n",
              "      <th>Month</th>\n",
              "      <th></th>\n",
              "      <th></th>\n",
              "      <th></th>\n",
              "      <th></th>\n",
              "    </tr>\n",
              "  </thead>\n",
              "  <tbody>\n",
              "    <tr>\n",
              "      <th>1949-01</th>\n",
              "      <td>-1.416335</td>\n",
              "      <td>1</td>\n",
              "      <td>0</td>\n",
              "      <td>0</td>\n",
              "    </tr>\n",
              "    <tr>\n",
              "      <th>1949-02</th>\n",
              "      <td>-1.352874</td>\n",
              "      <td>2</td>\n",
              "      <td>0</td>\n",
              "      <td>0</td>\n",
              "    </tr>\n",
              "    <tr>\n",
              "      <th>1949-03</th>\n",
              "      <td>-1.204797</td>\n",
              "      <td>3</td>\n",
              "      <td>0</td>\n",
              "      <td>0</td>\n",
              "    </tr>\n",
              "  </tbody>\n",
              "</table>\n",
              "</div>\n",
              "      <button class=\"colab-df-convert\" onclick=\"convertToInteractive('df-4db8c3b5-8646-423e-afa1-4ba8643a3575')\"\n",
              "              title=\"Convert this dataframe to an interactive table.\"\n",
              "              style=\"display:none;\">\n",
              "        \n",
              "  <svg xmlns=\"http://www.w3.org/2000/svg\" height=\"24px\"viewBox=\"0 0 24 24\"\n",
              "       width=\"24px\">\n",
              "    <path d=\"M0 0h24v24H0V0z\" fill=\"none\"/>\n",
              "    <path d=\"M18.56 5.44l.94 2.06.94-2.06 2.06-.94-2.06-.94-.94-2.06-.94 2.06-2.06.94zm-11 1L8.5 8.5l.94-2.06 2.06-.94-2.06-.94L8.5 2.5l-.94 2.06-2.06.94zm10 10l.94 2.06.94-2.06 2.06-.94-2.06-.94-.94-2.06-.94 2.06-2.06.94z\"/><path d=\"M17.41 7.96l-1.37-1.37c-.4-.4-.92-.59-1.43-.59-.52 0-1.04.2-1.43.59L10.3 9.45l-7.72 7.72c-.78.78-.78 2.05 0 2.83L4 21.41c.39.39.9.59 1.41.59.51 0 1.02-.2 1.41-.59l7.78-7.78 2.81-2.81c.8-.78.8-2.07 0-2.86zM5.41 20L4 18.59l7.72-7.72 1.47 1.35L5.41 20z\"/>\n",
              "  </svg>\n",
              "      </button>\n",
              "      \n",
              "  <style>\n",
              "    .colab-df-container {\n",
              "      display:flex;\n",
              "      flex-wrap:wrap;\n",
              "      gap: 12px;\n",
              "    }\n",
              "\n",
              "    .colab-df-convert {\n",
              "      background-color: #E8F0FE;\n",
              "      border: none;\n",
              "      border-radius: 50%;\n",
              "      cursor: pointer;\n",
              "      display: none;\n",
              "      fill: #1967D2;\n",
              "      height: 32px;\n",
              "      padding: 0 0 0 0;\n",
              "      width: 32px;\n",
              "    }\n",
              "\n",
              "    .colab-df-convert:hover {\n",
              "      background-color: #E2EBFA;\n",
              "      box-shadow: 0px 1px 2px rgba(60, 64, 67, 0.3), 0px 1px 3px 1px rgba(60, 64, 67, 0.15);\n",
              "      fill: #174EA6;\n",
              "    }\n",
              "\n",
              "    [theme=dark] .colab-df-convert {\n",
              "      background-color: #3B4455;\n",
              "      fill: #D2E3FC;\n",
              "    }\n",
              "\n",
              "    [theme=dark] .colab-df-convert:hover {\n",
              "      background-color: #434B5C;\n",
              "      box-shadow: 0px 1px 3px 1px rgba(0, 0, 0, 0.15);\n",
              "      filter: drop-shadow(0px 1px 2px rgba(0, 0, 0, 0.3));\n",
              "      fill: #FFFFFF;\n",
              "    }\n",
              "  </style>\n",
              "\n",
              "      <script>\n",
              "        const buttonEl =\n",
              "          document.querySelector('#df-4db8c3b5-8646-423e-afa1-4ba8643a3575 button.colab-df-convert');\n",
              "        buttonEl.style.display =\n",
              "          google.colab.kernel.accessAllowed ? 'block' : 'none';\n",
              "\n",
              "        async function convertToInteractive(key) {\n",
              "          const element = document.querySelector('#df-4db8c3b5-8646-423e-afa1-4ba8643a3575');\n",
              "          const dataTable =\n",
              "            await google.colab.kernel.invokeFunction('convertToInteractive',\n",
              "                                                     [key], {});\n",
              "          if (!dataTable) return;\n",
              "\n",
              "          const docLinkHtml = 'Like what you see? Visit the ' +\n",
              "            '<a target=\"_blank\" href=https://colab.research.google.com/notebooks/data_table.ipynb>data table notebook</a>'\n",
              "            + ' to learn more about interactive tables.';\n",
              "          element.innerHTML = '';\n",
              "          dataTable['output_type'] = 'display_data';\n",
              "          await google.colab.output.renderOutput(dataTable, element);\n",
              "          const docLink = document.createElement('div');\n",
              "          docLink.innerHTML = docLinkHtml;\n",
              "          element.appendChild(docLink);\n",
              "        }\n",
              "      </script>\n",
              "    </div>\n",
              "  </div>\n",
              "  "
            ]
          },
          "metadata": {},
          "execution_count": 20
        }
      ]
    },
    {
      "cell_type": "markdown",
      "source": [
        "Формируем параметры для генерации выборки"
      ],
      "metadata": {
        "id": "7brbNA42l1cx"
      }
    },
    {
      "cell_type": "code",
      "source": [
        "# шаг по данным для построения обучающих примеров\n",
        "step = 1\n",
        "\n",
        "# длина прошлого \n",
        "past = xLen\n",
        "p = past\n",
        "# горизонт предсказания\n",
        "future = 1\n",
        "h=future\n",
        "\n",
        "# параметры модели для обучения\n",
        "learning_rate = 0.001\n",
        "batch_size =24\n",
        "epochs = 10"
      ],
      "metadata": {
        "id": "kOs6qSZUl2BK"
      },
      "execution_count": 21,
      "outputs": []
    },
    {
      "cell_type": "markdown",
      "source": [
        "Выделяем части на обучение и проверку"
      ],
      "metadata": {
        "id": "NewiNzMwl6wr"
      }
    },
    {
      "cell_type": "code",
      "source": [
        "Chanel_numb = len(channelIndexes)\n",
        "\n",
        "start = xLen + future\n",
        "end = start + train_split-1\n",
        "\n",
        "xTrain_df = train_data.iloc[:-future-xLen+1,:] # сдвиг по времени для предсказания (закончить чуть раньше)\n",
        "xTrain = xTrain_df[[train_data.columns[i] for i in range(Chanel_numb)]].values\n",
        "yTrain = train_data.iloc[future+xLen-1:,0].values  # сдвиг по времени для предсказания (начать чуть позднее)\n",
        "\n",
        "sequence_length = int(xLen / step)\n",
        "\n",
        "\n",
        "x_end = len(val_data) - xLen - future \n",
        "\n",
        "label_start = len(train_data)+bias+xLen + future +1\n",
        "\n",
        "xVal_df = val_data.iloc[:-future-xLen+1,:] # сдвиг по времени для предсказания (закончить чуть раньше)\n",
        "xVal = xVal_df[[val_data.columns[i] for i in range(Chanel_numb)]].values\n",
        "yVal = val_data.iloc[future+xLen-1:,0].values  # сдвиг по времени для предсказания (начать чуть позднее)"
      ],
      "metadata": {
        "id": "HeK5rqcbl7N7"
      },
      "execution_count": 22,
      "outputs": []
    },
    {
      "cell_type": "code",
      "source": [
        "print(xTrain.shape)\n",
        "\n",
        "print(yTrain.shape)\n",
        "\n",
        "\n",
        "print(xVal.shape)\n",
        "\n",
        "print(yVal.shape)"
      ],
      "metadata": {
        "colab": {
          "base_uri": "https://localhost:8080/"
        },
        "id": "0qJHZG8SmAVu",
        "outputId": "fd7ffed8-2036-4d44-c544-b3a7112fc082"
      },
      "execution_count": 23,
      "outputs": [
        {
          "output_type": "stream",
          "name": "stdout",
          "text": [
            "(117, 4)\n",
            "(117,)\n",
            "(12, 4)\n",
            "(12,)\n"
          ]
        }
      ]
    },
    {
      "cell_type": "code",
      "source": [
        "plt.figure(figsize=(10,5))\n",
        "plt.plot(data.index[xLen:yTrain.shape[0]+xLen],yTrain[:])\n",
        "plt.plot(data.index[yTrain.shape[0]+bias+future+2*xLen-1:],yVal[:])\n",
        "plt.grid('on')\n",
        "plt.xlabel('t, дни')\n",
        "plt.ylabel('$')\n",
        "#plt.title('стоимость BRENT в 2010-2018')\n",
        "plt.title('PJME')\n",
        "plt.show()"
      ],
      "metadata": {
        "colab": {
          "base_uri": "https://localhost:8080/",
          "height": 350
        },
        "id": "CKntVF-0mCwW",
        "outputId": "655d1a55-da08-464f-ee71-cff81f2d05ff"
      },
      "execution_count": 24,
      "outputs": [
        {
          "output_type": "display_data",
          "data": {
            "text/plain": [
              "<Figure size 720x360 with 1 Axes>"
            ],
            "image/png": "[encoded data removed]"
          },
          "metadata": {
            "needs_background": "light"
          }
        }
      ]
    },
    {
      "cell_type": "markdown",
      "source": [
        "Используем механизм формирования пакетов для обучения"
      ],
      "metadata": {
        "id": "Oe8TapxamIF9"
      }
    },
    {
      "cell_type": "code",
      "source": [
        "dataset_train = keras.preprocessing.timeseries_dataset_from_array(\n",
        "    xTrain,\n",
        "    yTrain,\n",
        "    sequence_length=xLen,\n",
        "    sampling_rate=1,\n",
        "    batch_size=batch_size,\n",
        ")\n",
        "dataset_val = keras.preprocessing.timeseries_dataset_from_array(\n",
        "    xVal,\n",
        "    yVal,\n",
        "    sequence_length=xLen,\n",
        "    sampling_rate=1,\n",
        "    batch_size=batch_size,\n",
        ")"
      ],
      "metadata": {
        "id": "V0PEnvuTmKBW"
      },
      "execution_count": 25,
      "outputs": []
    },
    {
      "cell_type": "code",
      "source": [
        "for batch in dataset_val.take(2):\n",
        "    inputs, targets = batch\n",
        "\n",
        "print(\"Input shape:\", inputs.numpy().shape)\n",
        "print(\"Target shape:\", targets.numpy().shape)"
      ],
      "metadata": {
        "colab": {
          "base_uri": "https://localhost:8080/"
        },
        "id": "OZ6euwlnmM-w",
        "outputId": "00ef9133-efc0-4c2d-b127-dac16bf28c21"
      },
      "execution_count": 26,
      "outputs": [
        {
          "output_type": "stream",
          "name": "stdout",
          "text": [
            "Input shape: (10, 3, 4)\n",
            "Target shape: (10,)\n"
          ]
        }
      ]
    },
    {
      "cell_type": "code",
      "source": [
        "inputs[1,0,:]"
      ],
      "metadata": {
        "colab": {
          "base_uri": "https://localhost:8080/"
        },
        "id": "0tyQYjeYmPEY",
        "outputId": "b139be42-af05-47c9-e9d8-07e06979f472"
      },
      "execution_count": 27,
      "outputs": [
        {
          "output_type": "execute_result",
          "data": {
            "text/plain": [
              "<tf.Tensor: shape=(4,), dtype=float64, numpy=array([ 1.22788986, 11.        , 10.        ,  0.        ])>"
            ]
          },
          "metadata": {},
          "execution_count": 27
        }
      ]
    },
    {
      "cell_type": "code",
      "source": [
        "inputs[1,:,0]"
      ],
      "metadata": {
        "colab": {
          "base_uri": "https://localhost:8080/"
        },
        "id": "azlg44_SmRUm",
        "outputId": "ea3e4236-e1c8-4865-eb73-bc1ad97775f8"
      },
      "execution_count": 28,
      "outputs": [
        {
          "output_type": "execute_result",
          "data": {
            "text/plain": [
              "<tf.Tensor: shape=(3,), dtype=float64, numpy=array([1.22788986, 1.68269653, 1.80961932])>"
            ]
          },
          "metadata": {},
          "execution_count": 28
        }
      ]
    },
    {
      "cell_type": "code",
      "source": [
        "targets[0]"
      ],
      "metadata": {
        "colab": {
          "base_uri": "https://localhost:8080/"
        },
        "id": "uICymGfbmTSS",
        "outputId": "eb3dcd3b-f61f-4182-df14-2cff6c7f8c15"
      },
      "execution_count": 29,
      "outputs": [
        {
          "output_type": "execute_result",
          "data": {
            "text/plain": [
              "<tf.Tensor: shape=(), dtype=float64, numpy=1.809619319330048>"
            ]
          },
          "metadata": {},
          "execution_count": 29
        }
      ]
    },
    {
      "cell_type": "code",
      "source": [
        "for batch in dataset_train.take(2):\n",
        "    inputs, targets = batch\n",
        "\n",
        "print(\"Input shape:\", inputs.numpy().shape)\n",
        "print(\"Target shape:\", targets.numpy().shape)"
      ],
      "metadata": {
        "colab": {
          "base_uri": "https://localhost:8080/"
        },
        "id": "mbQJwq2TmVPV",
        "outputId": "66eb298b-7207-4859-8ff4-567ffb0f781c"
      },
      "execution_count": 30,
      "outputs": [
        {
          "output_type": "stream",
          "name": "stdout",
          "text": [
            "Input shape: (24, 3, 4)\n",
            "Target shape: (24,)\n"
          ]
        }
      ]
    },
    {
      "cell_type": "code",
      "source": [
        "inputs[0,:,0]"
      ],
      "metadata": {
        "colab": {
          "base_uri": "https://localhost:8080/"
        },
        "id": "kci3bwwpmW49",
        "outputId": "50d5c14b-3e61-437d-e862-33eb2c848acc"
      },
      "execution_count": 31,
      "outputs": [
        {
          "output_type": "execute_result",
          "data": {
            "text/plain": [
              "<tf.Tensor: shape=(3,), dtype=float64, numpy=array([-1.06729727, -1.01441278, -0.7182596 ])>"
            ]
          },
          "metadata": {},
          "execution_count": 31
        }
      ]
    },
    {
      "cell_type": "code",
      "source": [
        "targets[0]"
      ],
      "metadata": {
        "colab": {
          "base_uri": "https://localhost:8080/"
        },
        "id": "_IUN_UbHmYPk",
        "outputId": "3f70e575-39a5-47e1-fd28-5ef71e640742"
      },
      "execution_count": 32,
      "outputs": [
        {
          "output_type": "execute_result",
          "data": {
            "text/plain": [
              "<tf.Tensor: shape=(), dtype=float64, numpy=-0.8769130879165481>"
            ]
          },
          "metadata": {},
          "execution_count": 32
        }
      ]
    },
    {
      "cell_type": "code",
      "source": [
        "logdir = os.path.join(\"logs2\", datetime.datetime.now().strftime(\"%Y%m%d-%H%M%S\"))\n",
        "tensorboard_callback = TensorBoard( logdir, histogram_freq=1)"
      ],
      "metadata": {
        "id": "8aOfh07PmaNy"
      },
      "execution_count": 33,
      "outputs": []
    },
    {
      "cell_type": "markdown",
      "source": [
        "сеть: LSTM слои+Conv1D +Dense слой."
      ],
      "metadata": {
        "id": "Zu53qnhjmdLa"
      }
    },
    {
      "cell_type": "code",
      "source": [
        "callbaсk = EarlyStopping(monitor='val_mae', patience=2)\n",
        "\n",
        "model = Sequential()\n",
        "\n",
        "model.add(LSTM(64, input_shape = (inputs.shape[1], inputs.shape[2]), return_sequences=\"True\"))\n",
        "model.add(LSTM(64, return_sequences=\"True\")) # <None, 3,32>\n",
        "model.add(Conv1D(64, 3, activation=\"linear\")) #(None,3,64)\n",
        "#model.add(Conv1D(64, 1, activation=\"linear\"))\n",
        "model.add(Flatten())                          # (None, 3*64)\n",
        "model.add(Dense(3, activation=\"linear\"))      # (None,3)\n",
        "\n",
        "model.add(Dense(1, activation=\"linear\"))\n",
        "\n",
        "model.compile(loss=\"mse\", optimizer=\"adam\", metrics=['mae'])\n",
        "\n",
        "history = model.fit(\n",
        "    dataset_train,\n",
        "    epochs=epochs,\n",
        "    validation_data=dataset_val,\n",
        "    callbacks=[callbaсk, tensorboard_callback])\n",
        "\n",
        "\n",
        "plt.plot(history.history['mae'][1:], \n",
        "         label='Средняя абсолютная ошибка на обучающем наборе')\n",
        "plt.plot(history.history['val_mae'][1:], \n",
        "         label='Средняя абсолютная ошибка на проверочном наборе')\n",
        "plt.ylabel('Средняя ошибка')\n",
        "plt.legend()\n",
        "plt.show()"
      ],
      "metadata": {
        "colab": {
          "base_uri": "https://localhost:8080/",
          "height": 542
        },
        "id": "5MNkTBjwmbSn",
        "outputId": "46d77376-a9c2-454e-d232-eddce2e39805"
      },
      "execution_count": 34,
      "outputs": [
        {
          "output_type": "stream",
          "name": "stdout",
          "text": [
            "Epoch 1/10\n",
            "5/5 [==============================] - 17s 768ms/step - loss: 1.2575 - mae: 0.9219 - val_loss: 8.0914 - val_mae: 2.7441\n",
            "Epoch 2/10\n",
            "5/5 [==============================] - 1s 128ms/step - loss: 0.7989 - mae: 0.7111 - val_loss: 6.1975 - val_mae: 2.3796\n",
            "Epoch 3/10\n",
            "5/5 [==============================] - 1s 125ms/step - loss: 0.5698 - mae: 0.6127 - val_loss: 4.3824 - val_mae: 1.9692\n",
            "Epoch 4/10\n",
            "5/5 [==============================] - 1s 117ms/step - loss: 0.4068 - mae: 0.5253 - val_loss: 2.6975 - val_mae: 1.4949\n",
            "Epoch 5/10\n",
            "5/5 [==============================] - 1s 126ms/step - loss: 0.3137 - mae: 0.4601 - val_loss: 1.4931 - val_mae: 1.0389\n",
            "Epoch 6/10\n",
            "5/5 [==============================] - 1s 127ms/step - loss: 0.2759 - mae: 0.3927 - val_loss: 1.0419 - val_mae: 0.8131\n",
            "Epoch 7/10\n",
            "5/5 [==============================] - 1s 119ms/step - loss: 0.2603 - mae: 0.3980 - val_loss: 1.1728 - val_mae: 0.8851\n",
            "Epoch 8/10\n",
            "5/5 [==============================] - 0s 112ms/step - loss: 0.2142 - mae: 0.3628 - val_loss: 1.4414 - val_mae: 1.0081\n"
          ]
        },
        {
          "output_type": "display_data",
          "data": {
            "text/plain": [
              "<Figure size 432x288 with 1 Axes>"
            ],
            "image/png": "[encoded data removed]"
          },
          "metadata": {
            "needs_background": "light"
          }
        }
      ]
    },
    {
      "cell_type": "code",
      "source": [
        "hist_val = history.history['val_mae']\n",
        "hist_train = history.history['mae']"
      ],
      "metadata": {
        "id": "P6WLVycemjV6"
      },
      "execution_count": 35,
      "outputs": []
    },
    {
      "cell_type": "code",
      "source": [
        "history = model.fit(\n",
        "    dataset_train,\n",
        "    epochs=epochs,\n",
        "    validation_data=dataset_val,\n",
        "    callbacks=[callbaсk, tensorboard_callback])\n",
        "\n",
        "hist_val.extend(history.history['val_mae'][:])\n",
        "hist_train.extend(history.history['mae'][:])\n",
        "\n",
        "plt.plot(hist_train[1:], \n",
        "         label='Средняя абсолютная ошибка на обучающем наборе')\n",
        "plt.plot(hist_val[1:], \n",
        "         label='Средняя абсолютная ошибка на проверочном наборе')\n",
        "plt.ylabel('Средняя ошибка')\n",
        "plt.legend()\n",
        "plt.show()"
      ],
      "metadata": {
        "colab": {
          "base_uri": "https://localhost:8080/",
          "height": 612
        },
        "id": "ClrYJSFYmkIg",
        "outputId": "8fdeaa71-fce7-44db-b95c-a841db5b60a0"
      },
      "execution_count": 36,
      "outputs": [
        {
          "output_type": "stream",
          "name": "stdout",
          "text": [
            "Epoch 1/10\n",
            "5/5 [==============================] - 0s 59ms/step - loss: 0.1751 - mae: 0.3052 - val_loss: 1.5261 - val_mae: 1.0363\n",
            "Epoch 2/10\n",
            "5/5 [==============================] - 0s 59ms/step - loss: 0.1595 - mae: 0.2911 - val_loss: 1.3946 - val_mae: 0.9699\n",
            "Epoch 3/10\n",
            "5/5 [==============================] - 0s 60ms/step - loss: 0.1362 - mae: 0.2714 - val_loss: 1.1498 - val_mae: 0.8426\n",
            "Epoch 4/10\n",
            "5/5 [==============================] - 0s 65ms/step - loss: 0.1213 - mae: 0.2705 - val_loss: 0.9391 - val_mae: 0.7151\n",
            "Epoch 5/10\n",
            "5/5 [==============================] - 0s 63ms/step - loss: 0.1141 - mae: 0.2691 - val_loss: 0.8619 - val_mae: 0.6718\n",
            "Epoch 6/10\n",
            "5/5 [==============================] - 0s 65ms/step - loss: 0.1021 - mae: 0.2487 - val_loss: 0.8611 - val_mae: 0.6744\n",
            "Epoch 7/10\n",
            "5/5 [==============================] - 0s 65ms/step - loss: 0.0923 - mae: 0.2323 - val_loss: 0.7922 - val_mae: 0.6388\n",
            "Epoch 8/10\n",
            "5/5 [==============================] - 0s 66ms/step - loss: 0.0844 - mae: 0.2262 - val_loss: 0.6521 - val_mae: 0.5706\n",
            "Epoch 9/10\n",
            "5/5 [==============================] - 0s 63ms/step - loss: 0.0787 - mae: 0.2209 - val_loss: 0.5533 - val_mae: 0.5273\n",
            "Epoch 10/10\n",
            "5/5 [==============================] - 0s 67ms/step - loss: 0.0736 - mae: 0.2131 - val_loss: 0.5094 - val_mae: 0.5062\n"
          ]
        },
        {
          "output_type": "display_data",
          "data": {
            "text/plain": [
              "<Figure size 432x288 with 1 Axes>"
            ],
            "image/png": "[encoded data removed]"
          },
          "metadata": {
            "needs_background": "light"
          }
        }
      ]
    },
    {
      "cell_type": "code",
      "source": [
        "pred = model.predict(dataset_train).flatten()\n",
        "predVal = model.predict(dataset_val).flatten()"
      ],
      "metadata": {
        "id": "Q2liOg7Wmlv5"
      },
      "execution_count": 37,
      "outputs": []
    },
    {
      "cell_type": "markdown",
      "source": [
        "Валидация:"
      ],
      "metadata": {
        "id": "udwl1B2jmuWu"
      }
    },
    {
      "cell_type": "code",
      "source": [
        "start = 0\n",
        "step = 120\n",
        "plt.figure(figsize=(10,5))\n",
        "plt.grid('on')\n",
        "plt.plot(predVal[start:start+step], \n",
        "         label='Прогноз')\n",
        "plt.plot(yVal.flatten()[start:start+step], \n",
        "         label='Базовый ряд')\n",
        "plt.xlabel('Время')\n",
        "plt.ylabel('Значение ')\n",
        "\n",
        "plt.legend()\n",
        "plt.show()"
      ],
      "metadata": {
        "colab": {
          "base_uri": "https://localhost:8080/",
          "height": 334
        },
        "id": "-R_3zRxKmvb-",
        "outputId": "9e44fcc7-5bad-43c1-b59f-899941d75eec"
      },
      "execution_count": 38,
      "outputs": [
        {
          "output_type": "display_data",
          "data": {
            "text/plain": [
              "<Figure size 720x360 with 1 Axes>"
            ],
            "image/png": "[encoded data removed]"
          },
          "metadata": {
            "needs_background": "light"
          }
        }
      ]
    },
    {
      "cell_type": "markdown",
      "source": [
        "Тренировочные даннные:"
      ],
      "metadata": {
        "id": "SYu7nh3BmzQ6"
      }
    },
    {
      "cell_type": "code",
      "source": [
        "start = 0\n",
        "\n",
        "plt.figure(figsize=(10,5))\n",
        "plt.grid('on')\n",
        "plt.plot(pred[start:train_split], \n",
        "         label='Прогноз')\n",
        "plt.plot(yTrain.flatten()[start:train_split], \n",
        "         label='Базовый ряд')\n",
        "plt.xlabel('Время')\n",
        "plt.ylabel('Значение Close')\n",
        "plt.legend()\n",
        "plt.show()"
      ],
      "metadata": {
        "colab": {
          "base_uri": "https://localhost:8080/",
          "height": 334
        },
        "id": "l8gG-Q4Tm0Hq",
        "outputId": "f157d115-ec90-49b2-8e57-131b5be7591b"
      },
      "execution_count": 39,
      "outputs": [
        {
          "output_type": "display_data",
          "data": {
            "text/plain": [
              "<Figure size 720x360 with 1 Axes>"
            ],
            "image/png": "[encoded data removed]"
          },
          "metadata": {
            "needs_background": "light"
          }
        }
      ]
    },
    {
      "cell_type": "markdown",
      "source": [
        "Проверяем качество модели:\n",
        "\n",
        "оценим по лаговой корреляции рядов a, b;\n",
        "\n",
        "если наибольшая корреляция с лагом 0, то отлично;\n",
        "\n",
        "есди максимум корреляциии на лаге , равном глубине прогноза, то тривиальное предсказание (завтра, как сегодня)."
      ],
      "metadata": {
        "id": "3PHOgnpsm3yW"
      }
    },
    {
      "cell_type": "code",
      "source": [
        "def correlate(a, b):\n",
        "  ma = a.mean()\n",
        "  mb = b.mean()\n",
        "  mab = (a*b).mean()\n",
        "  sa = a.std()\n",
        "  sb = b.std()\n",
        "  \n",
        "  val = 0\n",
        "  if ((sa>0) & (sb>0)):\n",
        "    val = (mab-ma*mb)/(sa*sb)\n",
        "  return val"
      ],
      "metadata": {
        "id": "hjuqnCXtm7Cl"
      },
      "execution_count": 40,
      "outputs": []
    },
    {
      "cell_type": "code",
      "source": [
        "corr = []\n",
        "start = 0 # начальная точка для проверки корреляций рядов\n",
        "step = 9 # число точек для проверки корреляций рядов\n",
        "h=0\n",
        "yLen = yVal.shape[0]\n",
        "yValF = yVal[start:start+step].flatten() # ряд истиных значений\n",
        "yPredVal = predVal[start:start+step] # ряд предсказаний \n",
        "# смотрим лаговые корреляции yValF[:-i], yPredVal[i:] для лагов от 0 до 5\n",
        "for i in range(5):\n",
        "  corr.append(correlate(yValF[:-1-i], yPredVal[i:-1]))\n",
        "  \n",
        "plt.plot(corr, \n",
        "         label='Корреляция')\n",
        "plt.xlabel('лаговое расстояние между рядами')\n",
        "plt.ylabel('Значение корреляции')\n",
        "plt.legend()\n",
        "plt.show()\n",
        "\n",
        "corr"
      ],
      "metadata": {
        "colab": {
          "base_uri": "https://localhost:8080/",
          "height": 366
        },
        "id": "YT3Pa6rOmsU9",
        "outputId": "849632e6-f39b-4ca7-c470-2562685ffccc"
      },
      "execution_count": 41,
      "outputs": [
        {
          "output_type": "display_data",
          "data": {
            "text/plain": [
              "<Figure size 432x288 with 1 Axes>"
            ],
            "image/png": "[encoded data removed]"
          },
          "metadata": {
            "needs_background": "light"
          }
        },
        {
          "output_type": "execute_result",
          "data": {
            "text/plain": [
              "[0.9559280403375846,\n",
              " 0.8785673387086202,\n",
              " 0.9346891167846423,\n",
              " 0.8456246618466956,\n",
              " 0.6153138878663748]"
            ]
          },
          "metadata": {},
          "execution_count": 41
        }
      ]
    },
    {
      "cell_type": "markdown",
      "source": [
        "Можно добавить обучения на другом размере сети"
      ],
      "metadata": {
        "id": "kzHncEmqnGvB"
      }
    },
    {
      "cell_type": "code",
      "source": [
        "callbaсk = EarlyStopping(monitor='val_mae', patience=5)\n",
        "\n",
        "model = Sequential()\n",
        "\n",
        "model.add(LSTM(64, input_shape = (inputs.shape[1], inputs.shape[2]), return_sequences=\"True\"))\n",
        "\n",
        "model.add(Flatten())                          # (None, n_Dense*n_lstm)\n",
        "model.add(Dense(8, activation=\"linear\"))      # (None,n_Dense)\n",
        "\n",
        "model.add(Dense(1, activation=\"linear\"))\n",
        "\n",
        "model.compile(loss=\"mse\", optimizer=\"adam\", metrics=['mae'])\n",
        "\n",
        "history = model.fit(\n",
        "    dataset_train,\n",
        "    epochs=100,\n",
        "    validation_data=dataset_val,\n",
        "    callbacks=[callbaсk, tensorboard_callback])\n",
        "\n",
        "\n",
        "plt.plot(history.history['mae'][1:], \n",
        "         label='Средняя абсолютная ошибка на обучающем наборе')\n",
        "plt.plot(history.history['val_mae'][1:], \n",
        "         label='Средняя абсолютная ошибка на проверочном наборе')\n",
        "plt.ylabel('Средняя ошибка')\n",
        "plt.legend()\n",
        "plt.show()"
      ],
      "metadata": {
        "colab": {
          "base_uri": "https://localhost:8080/",
          "height": 1000
        },
        "id": "LOE9VNhAnHSJ",
        "outputId": "466b0872-03ff-4f68-ec7e-d0a4f0872f7a"
      },
      "execution_count": 42,
      "outputs": [
        {
          "output_type": "stream",
          "name": "stdout",
          "text": [
            "Epoch 1/100\n",
            "5/5 [==============================] - 3s 189ms/step - loss: 1.2166 - mae: 0.9264 - val_loss: 7.7939 - val_mae: 2.6944\n",
            "Epoch 2/100\n",
            "5/5 [==============================] - 0s 50ms/step - loss: 0.7532 - mae: 0.7030 - val_loss: 5.9617 - val_mae: 2.3377\n",
            "Epoch 3/100\n",
            "5/5 [==============================] - 0s 52ms/step - loss: 0.5085 - mae: 0.5797 - val_loss: 4.3070 - val_mae: 1.9593\n",
            "Epoch 4/100\n",
            "5/5 [==============================] - 0s 49ms/step - loss: 0.3656 - mae: 0.4910 - val_loss: 3.0465 - val_mae: 1.6136\n",
            "Epoch 5/100\n",
            "5/5 [==============================] - 0s 54ms/step - loss: 0.2900 - mae: 0.4333 - val_loss: 2.2024 - val_mae: 1.3357\n",
            "Epoch 6/100\n",
            "5/5 [==============================] - 0s 53ms/step - loss: 0.2437 - mae: 0.3889 - val_loss: 1.7076 - val_mae: 1.1456\n",
            "Epoch 7/100\n",
            "5/5 [==============================] - 0s 54ms/step - loss: 0.2119 - mae: 0.3529 - val_loss: 1.4547 - val_mae: 1.0382\n",
            "Epoch 8/100\n",
            "5/5 [==============================] - 0s 51ms/step - loss: 0.1966 - mae: 0.3392 - val_loss: 1.3390 - val_mae: 0.9861\n",
            "Epoch 9/100\n",
            "5/5 [==============================] - 0s 53ms/step - loss: 0.1879 - mae: 0.3395 - val_loss: 1.2864 - val_mae: 0.9595\n",
            "Epoch 10/100\n",
            "5/5 [==============================] - 0s 52ms/step - loss: 0.1728 - mae: 0.3267 - val_loss: 1.2637 - val_mae: 0.9447\n",
            "Epoch 11/100\n",
            "5/5 [==============================] - 0s 54ms/step - loss: 0.1550 - mae: 0.3027 - val_loss: 1.2627 - val_mae: 0.9405\n",
            "Epoch 12/100\n",
            "5/5 [==============================] - 0s 54ms/step - loss: 0.1406 - mae: 0.2845 - val_loss: 1.2727 - val_mae: 0.9434\n",
            "Epoch 13/100\n",
            "5/5 [==============================] - 0s 53ms/step - loss: 0.1293 - mae: 0.2712 - val_loss: 1.2697 - val_mae: 0.9417\n",
            "Epoch 14/100\n",
            "5/5 [==============================] - 0s 51ms/step - loss: 0.1195 - mae: 0.2609 - val_loss: 1.2288 - val_mae: 0.9214\n",
            "Epoch 15/100\n",
            "5/5 [==============================] - 0s 51ms/step - loss: 0.1105 - mae: 0.2530 - val_loss: 1.1458 - val_mae: 0.8781\n",
            "Epoch 16/100\n",
            "5/5 [==============================] - 0s 53ms/step - loss: 0.1027 - mae: 0.2465 - val_loss: 1.0434 - val_mae: 0.8216\n",
            "Epoch 17/100\n",
            "5/5 [==============================] - 0s 51ms/step - loss: 0.0963 - mae: 0.2403 - val_loss: 0.9516 - val_mae: 0.7686\n",
            "Epoch 18/100\n",
            "5/5 [==============================] - 0s 55ms/step - loss: 0.0906 - mae: 0.2343 - val_loss: 0.8838 - val_mae: 0.7289\n",
            "Epoch 19/100\n",
            "5/5 [==============================] - 0s 52ms/step - loss: 0.0853 - mae: 0.2289 - val_loss: 0.8341 - val_mae: 0.7002\n",
            "Epoch 20/100\n",
            "5/5 [==============================] - 0s 54ms/step - loss: 0.0803 - mae: 0.2226 - val_loss: 0.7904 - val_mae: 0.6747\n",
            "Epoch 21/100\n",
            "5/5 [==============================] - 0s 51ms/step - loss: 0.0757 - mae: 0.2163 - val_loss: 0.7473 - val_mae: 0.6488\n",
            "Epoch 22/100\n",
            "5/5 [==============================] - 0s 46ms/step - loss: 0.0714 - mae: 0.2100 - val_loss: 0.7058 - val_mae: 0.6235\n",
            "Epoch 23/100\n",
            "5/5 [==============================] - 0s 53ms/step - loss: 0.0673 - mae: 0.2039 - val_loss: 0.6665 - val_mae: 0.5996\n",
            "Epoch 24/100\n",
            "5/5 [==============================] - 0s 48ms/step - loss: 0.0636 - mae: 0.1983 - val_loss: 0.6282 - val_mae: 0.5758\n",
            "Epoch 25/100\n",
            "5/5 [==============================] - 0s 56ms/step - loss: 0.0600 - mae: 0.1928 - val_loss: 0.5915 - val_mae: 0.5544\n",
            "Epoch 26/100\n",
            "5/5 [==============================] - 0s 83ms/step - loss: 0.0566 - mae: 0.1874 - val_loss: 0.5590 - val_mae: 0.5374\n",
            "Epoch 27/100\n",
            "5/5 [==============================] - 0s 108ms/step - loss: 0.0532 - mae: 0.1817 - val_loss: 0.5317 - val_mae: 0.5244\n",
            "Epoch 28/100\n",
            "5/5 [==============================] - 0s 49ms/step - loss: 0.0499 - mae: 0.1759 - val_loss: 0.5078 - val_mae: 0.5137\n",
            "Epoch 29/100\n",
            "5/5 [==============================] - 0s 97ms/step - loss: 0.0467 - mae: 0.1702 - val_loss: 0.4854 - val_mae: 0.5040\n",
            "Epoch 30/100\n",
            "5/5 [==============================] - 0s 102ms/step - loss: 0.0436 - mae: 0.1644 - val_loss: 0.4641 - val_mae: 0.4943\n",
            "Epoch 31/100\n",
            "5/5 [==============================] - 0s 91ms/step - loss: 0.0406 - mae: 0.1585 - val_loss: 0.4444 - val_mae: 0.4849\n",
            "Epoch 32/100\n",
            "5/5 [==============================] - 0s 97ms/step - loss: 0.0376 - mae: 0.1525 - val_loss: 0.4261 - val_mae: 0.4758\n",
            "Epoch 33/100\n",
            "5/5 [==============================] - 0s 63ms/step - loss: 0.0349 - mae: 0.1465 - val_loss: 0.4092 - val_mae: 0.4686\n",
            "Epoch 34/100\n",
            "5/5 [==============================] - 0s 51ms/step - loss: 0.0323 - mae: 0.1407 - val_loss: 0.3941 - val_mae: 0.4625\n",
            "Epoch 35/100\n",
            "5/5 [==============================] - 0s 48ms/step - loss: 0.0299 - mae: 0.1353 - val_loss: 0.3806 - val_mae: 0.4573\n",
            "Epoch 36/100\n",
            "5/5 [==============================] - 0s 48ms/step - loss: 0.0277 - mae: 0.1303 - val_loss: 0.3680 - val_mae: 0.4526\n",
            "Epoch 37/100\n",
            "5/5 [==============================] - 0s 52ms/step - loss: 0.0259 - mae: 0.1259 - val_loss: 0.3565 - val_mae: 0.4485\n",
            "Epoch 38/100\n",
            "5/5 [==============================] - 0s 48ms/step - loss: 0.0243 - mae: 0.1224 - val_loss: 0.3460 - val_mae: 0.4454\n",
            "Epoch 39/100\n",
            "5/5 [==============================] - 0s 49ms/step - loss: 0.0229 - mae: 0.1200 - val_loss: 0.3365 - val_mae: 0.4436\n",
            "Epoch 40/100\n",
            "5/5 [==============================] - 0s 48ms/step - loss: 0.0218 - mae: 0.1184 - val_loss: 0.3279 - val_mae: 0.4422\n",
            "Epoch 41/100\n",
            "5/5 [==============================] - 0s 53ms/step - loss: 0.0210 - mae: 0.1169 - val_loss: 0.3202 - val_mae: 0.4407\n",
            "Epoch 42/100\n",
            "5/5 [==============================] - 0s 65ms/step - loss: 0.0202 - mae: 0.1157 - val_loss: 0.3132 - val_mae: 0.4391\n",
            "Epoch 43/100\n",
            "5/5 [==============================] - 1s 159ms/step - loss: 0.0197 - mae: 0.1145 - val_loss: 0.3067 - val_mae: 0.4372\n",
            "Epoch 44/100\n",
            "5/5 [==============================] - 1s 148ms/step - loss: 0.0192 - mae: 0.1134 - val_loss: 0.3008 - val_mae: 0.4353\n",
            "Epoch 45/100\n",
            "5/5 [==============================] - 1s 178ms/step - loss: 0.0188 - mae: 0.1124 - val_loss: 0.2954 - val_mae: 0.4332\n",
            "Epoch 46/100\n",
            "5/5 [==============================] - 1s 119ms/step - loss: 0.0185 - mae: 0.1114 - val_loss: 0.2904 - val_mae: 0.4311\n",
            "Epoch 47/100\n",
            "5/5 [==============================] - 0s 77ms/step - loss: 0.0182 - mae: 0.1105 - val_loss: 0.2857 - val_mae: 0.4289\n",
            "Epoch 48/100\n",
            "5/5 [==============================] - 0s 98ms/step - loss: 0.0179 - mae: 0.1096 - val_loss: 0.2813 - val_mae: 0.4266\n",
            "Epoch 49/100\n",
            "5/5 [==============================] - 0s 104ms/step - loss: 0.0176 - mae: 0.1088 - val_loss: 0.2772 - val_mae: 0.4244\n",
            "Epoch 50/100\n",
            "5/5 [==============================] - 0s 87ms/step - loss: 0.0174 - mae: 0.1080 - val_loss: 0.2733 - val_mae: 0.4222\n",
            "Epoch 51/100\n",
            "5/5 [==============================] - 0s 111ms/step - loss: 0.0172 - mae: 0.1072 - val_loss: 0.2695 - val_mae: 0.4201\n",
            "Epoch 52/100\n",
            "5/5 [==============================] - 1s 181ms/step - loss: 0.0169 - mae: 0.1065 - val_loss: 0.2660 - val_mae: 0.4180\n",
            "Epoch 53/100\n",
            "5/5 [==============================] - 0s 52ms/step - loss: 0.0167 - mae: 0.1058 - val_loss: 0.2625 - val_mae: 0.4159\n",
            "Epoch 54/100\n",
            "5/5 [==============================] - 0s 52ms/step - loss: 0.0165 - mae: 0.1051 - val_loss: 0.2592 - val_mae: 0.4138\n",
            "Epoch 55/100\n",
            "5/5 [==============================] - 0s 62ms/step - loss: 0.0163 - mae: 0.1044 - val_loss: 0.2560 - val_mae: 0.4118\n",
            "Epoch 56/100\n",
            "5/5 [==============================] - 1s 151ms/step - loss: 0.0161 - mae: 0.1038 - val_loss: 0.2529 - val_mae: 0.4098\n",
            "Epoch 57/100\n",
            "5/5 [==============================] - 1s 146ms/step - loss: 0.0159 - mae: 0.1032 - val_loss: 0.2499 - val_mae: 0.4078\n",
            "Epoch 58/100\n",
            "5/5 [==============================] - 1s 149ms/step - loss: 0.0158 - mae: 0.1025 - val_loss: 0.2471 - val_mae: 0.4059\n",
            "Epoch 59/100\n",
            "5/5 [==============================] - 1s 157ms/step - loss: 0.0156 - mae: 0.1019 - val_loss: 0.2443 - val_mae: 0.4040\n",
            "Epoch 60/100\n",
            "5/5 [==============================] - 0s 107ms/step - loss: 0.0154 - mae: 0.1013 - val_loss: 0.2416 - val_mae: 0.4022\n",
            "Epoch 61/100\n",
            "5/5 [==============================] - 0s 100ms/step - loss: 0.0153 - mae: 0.1007 - val_loss: 0.2390 - val_mae: 0.4003\n",
            "Epoch 62/100\n",
            "5/5 [==============================] - 0s 96ms/step - loss: 0.0151 - mae: 0.1001 - val_loss: 0.2364 - val_mae: 0.3985\n",
            "Epoch 63/100\n",
            "5/5 [==============================] - 0s 99ms/step - loss: 0.0149 - mae: 0.0995 - val_loss: 0.2340 - val_mae: 0.3968\n",
            "Epoch 64/100\n",
            "5/5 [==============================] - 0s 63ms/step - loss: 0.0148 - mae: 0.0990 - val_loss: 0.2316 - val_mae: 0.3950\n",
            "Epoch 65/100\n",
            "5/5 [==============================] - 0s 53ms/step - loss: 0.0146 - mae: 0.0984 - val_loss: 0.2293 - val_mae: 0.3933\n",
            "Epoch 66/100\n",
            "5/5 [==============================] - 0s 57ms/step - loss: 0.0145 - mae: 0.0979 - val_loss: 0.2270 - val_mae: 0.3916\n",
            "Epoch 67/100\n",
            "5/5 [==============================] - 0s 100ms/step - loss: 0.0143 - mae: 0.0974 - val_loss: 0.2248 - val_mae: 0.3900\n",
            "Epoch 68/100\n",
            "5/5 [==============================] - 0s 96ms/step - loss: 0.0142 - mae: 0.0969 - val_loss: 0.2226 - val_mae: 0.3886\n",
            "Epoch 69/100\n",
            "5/5 [==============================] - 0s 100ms/step - loss: 0.0141 - mae: 0.0964 - val_loss: 0.2205 - val_mae: 0.3872\n",
            "Epoch 70/100\n",
            "5/5 [==============================] - 0s 94ms/step - loss: 0.0139 - mae: 0.0960 - val_loss: 0.2185 - val_mae: 0.3859\n",
            "Epoch 71/100\n",
            "5/5 [==============================] - 0s 51ms/step - loss: 0.0138 - mae: 0.0955 - val_loss: 0.2165 - val_mae: 0.3845\n",
            "Epoch 72/100\n",
            "5/5 [==============================] - 0s 49ms/step - loss: 0.0137 - mae: 0.0950 - val_loss: 0.2145 - val_mae: 0.3832\n",
            "Epoch 73/100\n",
            "5/5 [==============================] - 0s 53ms/step - loss: 0.0135 - mae: 0.0945 - val_loss: 0.2126 - val_mae: 0.3820\n",
            "Epoch 74/100\n",
            "5/5 [==============================] - 0s 50ms/step - loss: 0.0134 - mae: 0.0941 - val_loss: 0.2108 - val_mae: 0.3807\n",
            "Epoch 75/100\n",
            "5/5 [==============================] - 0s 47ms/step - loss: 0.0133 - mae: 0.0936 - val_loss: 0.2090 - val_mae: 0.3795\n",
            "Epoch 76/100\n",
            "5/5 [==============================] - 0s 49ms/step - loss: 0.0132 - mae: 0.0932 - val_loss: 0.2072 - val_mae: 0.3783\n",
            "Epoch 77/100\n",
            "5/5 [==============================] - 0s 51ms/step - loss: 0.0131 - mae: 0.0927 - val_loss: 0.2054 - val_mae: 0.3771\n",
            "Epoch 78/100\n",
            "5/5 [==============================] - 0s 51ms/step - loss: 0.0129 - mae: 0.0923 - val_loss: 0.2037 - val_mae: 0.3759\n",
            "Epoch 79/100\n",
            "5/5 [==============================] - 0s 48ms/step - loss: 0.0128 - mae: 0.0918 - val_loss: 0.2021 - val_mae: 0.3747\n",
            "Epoch 80/100\n",
            "5/5 [==============================] - 0s 54ms/step - loss: 0.0127 - mae: 0.0913 - val_loss: 0.2005 - val_mae: 0.3736\n",
            "Epoch 81/100\n",
            "5/5 [==============================] - 0s 50ms/step - loss: 0.0126 - mae: 0.0909 - val_loss: 0.1989 - val_mae: 0.3724\n",
            "Epoch 82/100\n",
            "5/5 [==============================] - 0s 51ms/step - loss: 0.0125 - mae: 0.0905 - val_loss: 0.1973 - val_mae: 0.3713\n",
            "Epoch 83/100\n",
            "5/5 [==============================] - 0s 52ms/step - loss: 0.0124 - mae: 0.0900 - val_loss: 0.1958 - val_mae: 0.3702\n",
            "Epoch 84/100\n",
            "5/5 [==============================] - 0s 51ms/step - loss: 0.0123 - mae: 0.0896 - val_loss: 0.1943 - val_mae: 0.3691\n",
            "Epoch 85/100\n",
            "5/5 [==============================] - 0s 48ms/step - loss: 0.0122 - mae: 0.0891 - val_loss: 0.1929 - val_mae: 0.3680\n",
            "Epoch 86/100\n",
            "5/5 [==============================] - 0s 49ms/step - loss: 0.0121 - mae: 0.0887 - val_loss: 0.1914 - val_mae: 0.3669\n",
            "Epoch 87/100\n",
            "5/5 [==============================] - 0s 53ms/step - loss: 0.0120 - mae: 0.0883 - val_loss: 0.1900 - val_mae: 0.3658\n",
            "Epoch 88/100\n",
            "5/5 [==============================] - 0s 54ms/step - loss: 0.0119 - mae: 0.0879 - val_loss: 0.1887 - val_mae: 0.3648\n",
            "Epoch 89/100\n",
            "5/5 [==============================] - 0s 48ms/step - loss: 0.0118 - mae: 0.0875 - val_loss: 0.1873 - val_mae: 0.3637\n",
            "Epoch 90/100\n",
            "5/5 [==============================] - 0s 50ms/step - loss: 0.0117 - mae: 0.0871 - val_loss: 0.1860 - val_mae: 0.3627\n",
            "Epoch 91/100\n",
            "5/5 [==============================] - 0s 51ms/step - loss: 0.0117 - mae: 0.0867 - val_loss: 0.1847 - val_mae: 0.3616\n",
            "Epoch 92/100\n",
            "5/5 [==============================] - 0s 48ms/step - loss: 0.0116 - mae: 0.0864 - val_loss: 0.1834 - val_mae: 0.3606\n",
            "Epoch 93/100\n",
            "5/5 [==============================] - 0s 49ms/step - loss: 0.0115 - mae: 0.0860 - val_loss: 0.1822 - val_mae: 0.3596\n",
            "Epoch 94/100\n",
            "5/5 [==============================] - 0s 49ms/step - loss: 0.0114 - mae: 0.0856 - val_loss: 0.1810 - val_mae: 0.3586\n",
            "Epoch 95/100\n",
            "5/5 [==============================] - 0s 52ms/step - loss: 0.0113 - mae: 0.0853 - val_loss: 0.1798 - val_mae: 0.3576\n",
            "Epoch 96/100\n",
            "5/5 [==============================] - 0s 51ms/step - loss: 0.0112 - mae: 0.0849 - val_loss: 0.1786 - val_mae: 0.3566\n",
            "Epoch 97/100\n",
            "5/5 [==============================] - 0s 51ms/step - loss: 0.0112 - mae: 0.0845 - val_loss: 0.1775 - val_mae: 0.3556\n",
            "Epoch 98/100\n",
            "5/5 [==============================] - 0s 51ms/step - loss: 0.0111 - mae: 0.0842 - val_loss: 0.1764 - val_mae: 0.3546\n",
            "Epoch 99/100\n",
            "5/5 [==============================] - 0s 54ms/step - loss: 0.0110 - mae: 0.0839 - val_loss: 0.1753 - val_mae: 0.3536\n",
            "Epoch 100/100\n",
            "5/5 [==============================] - 0s 49ms/step - loss: 0.0109 - mae: 0.0836 - val_loss: 0.1742 - val_mae: 0.3527\n"
          ]
        },
        {
          "output_type": "display_data",
          "data": {
            "text/plain": [
              "<Figure size 432x288 with 1 Axes>"
            ],
            "image/png": "[encoded data removed]"
          },
          "metadata": {
            "needs_background": "light"
          }
        }
      ]
    },
    {
      "cell_type": "code",
      "source": [
        "pred = model.predict(dataset_train).flatten()\n",
        "predVal = model.predict(dataset_val).flatten()"
      ],
      "metadata": {
        "id": "o-WPOQ-InLqk"
      },
      "execution_count": 43,
      "outputs": []
    },
    {
      "cell_type": "code",
      "source": [
        "start = 0\n",
        "step = 144\n",
        "plt.figure(figsize=(10,5))\n",
        "plt.grid('on')\n",
        "plt.plot(predVal[start:start+step], \n",
        "         label='Прогноз')\n",
        "plt.plot(yVal.flatten()[start:start+step], \n",
        "         label='Базовый ряд')\n",
        "plt.xlabel('Время')\n",
        "plt.ylabel('Значение ')\n",
        "\n",
        "plt.legend()\n",
        "plt.show()"
      ],
      "metadata": {
        "colab": {
          "base_uri": "https://localhost:8080/",
          "height": 334
        },
        "id": "F5J7GhBLnNM3",
        "outputId": "6a1aa44a-22ae-4ca7-8d99-d6550a983db1"
      },
      "execution_count": 44,
      "outputs": [
        {
          "output_type": "display_data",
          "data": {
            "text/plain": [
              "<Figure size 720x360 with 1 Axes>"
            ],
            "image/png": "[encoded data removed]"
          },
          "metadata": {
            "needs_background": "light"
          }
        }
      ]
    },
    {
      "cell_type": "markdown",
      "source": [
        "Проверим лаговые корреляции:"
      ],
      "metadata": {
        "id": "EY4lWtDRnPa_"
      }
    },
    {
      "cell_type": "code",
      "source": [
        "corr = []\n",
        "start = 0 # начальная точка для проверки корреляций рядов\n",
        "step = 9 # число точек для проверки корреляций рядов\n",
        "h=0\n",
        "yLen = yVal.shape[0]\n",
        "yValF = yVal[start:start+step].flatten() # ряд истиных значений\n",
        "yPredVal = predVal[start:start+step] # ряд предсказаний \n",
        "# смотрим лаговые корреляции yValF[:-i], yPredVal[i:] для лагов от 0 до 5\n",
        "for i in range(5):\n",
        "  corr.append(correlate(yValF[:-1-i], yPredVal[i:-1]))\n",
        "  \n",
        "plt.plot(corr, \n",
        "         label='Корреляция')\n",
        "plt.xlabel('лаговое расстояние между рядами')\n",
        "plt.ylabel('Значение корреляции')\n",
        "plt.legend()\n",
        "plt.show()\n",
        "\n",
        "corr"
      ],
      "metadata": {
        "colab": {
          "base_uri": "https://localhost:8080/",
          "height": 366
        },
        "id": "cYl9G-20nQIr",
        "outputId": "6ca03a67-99d4-458d-84ce-7e4aa56babf4"
      },
      "execution_count": 45,
      "outputs": [
        {
          "output_type": "display_data",
          "data": {
            "text/plain": [
              "<Figure size 432x288 with 1 Axes>"
            ],
            "image/png": "[encoded data removed]"
          },
          "metadata": {
            "needs_background": "light"
          }
        },
        {
          "output_type": "execute_result",
          "data": {
            "text/plain": [
              "[0.9538488159230599,\n",
              " 0.883633251637953,\n",
              " 0.9287641697732638,\n",
              " 0.8469835774317134,\n",
              " 0.501214582059102]"
            ]
          },
          "metadata": {},
          "execution_count": 45
        }
      ]
    },
    {
      "cell_type": "markdown",
      "source": [
        "# Финальная модель\n"
      ],
      "metadata": {
        "id": "CCP7ftpGnUnD"
      }
    },
    {
      "cell_type": "code",
      "source": [
        "inputs.shape"
      ],
      "metadata": {
        "colab": {
          "base_uri": "https://localhost:8080/"
        },
        "id": "LG0lL-Dqndgn",
        "outputId": "6198319b-c5c0-4dc6-bd59-2eba63839e4b"
      },
      "execution_count": 46,
      "outputs": [
        {
          "output_type": "execute_result",
          "data": {
            "text/plain": [
              "TensorShape([24, 3, 4])"
            ]
          },
          "metadata": {},
          "execution_count": 46
        }
      ]
    },
    {
      "cell_type": "code",
      "source": [
        "callbaсk = EarlyStopping(monitor='val_mae', patience=20)\n",
        "\n",
        "model = Sequential()\n",
        "\n",
        "model.add(LSTM(128, input_shape = (inputs.shape[1], inputs.shape[2]), return_sequences=\"True\"))\n",
        "model.add(Conv1D(64, 3, activation=\"linear\"))\n",
        "#model.add(Conv1D(64, 1, activation=\"linear\"))\n",
        "\n",
        "\n",
        "model.add(Flatten())                            \n",
        "model.add(Dense(8, activation=\"linear\"))\n",
        "\n",
        "model.add(Dense(1, activation=\"linear\"))\n",
        "\n",
        "model.compile(loss=\"mse\", optimizer=\"adam\", metrics=['mae'])\n",
        "\n",
        "history = model.fit(\n",
        "    dataset_train,\n",
        "    epochs=500,\n",
        "    validation_data=dataset_val,\n",
        "    callbacks=[callbaсk, tensorboard_callback])\n",
        "\n",
        "\n",
        "plt.plot(history.history['mae'][1:], \n",
        "         label='Средняя абсолютная ошибка на обучающем наборе')\n",
        "plt.plot(history.history['val_mae'][1:], \n",
        "         label='Средняя абсолютная ошибка на проверочном наборе')\n",
        "plt.ylabel('Средняя ошибка')\n",
        "plt.legend()\n",
        "plt.show()"
      ],
      "metadata": {
        "colab": {
          "base_uri": "https://localhost:8080/",
          "height": 1000
        },
        "id": "z7MhI0HLnf60",
        "outputId": "05e320a8-e4f7-4574-babe-b28a93ab74ff"
      },
      "execution_count": 47,
      "outputs": [
        {
          "output_type": "stream",
          "name": "stdout",
          "text": [
            "Epoch 1/500\n",
            "5/5 [==============================] - 3s 201ms/step - loss: 1.1808 - mae: 0.9343 - val_loss: 2.7439 - val_mae: 1.5034\n",
            "Epoch 2/500\n",
            "5/5 [==============================] - 0s 50ms/step - loss: 0.4695 - mae: 0.5698 - val_loss: 0.4478 - val_mae: 0.5036\n",
            "Epoch 3/500\n",
            "5/5 [==============================] - 0s 54ms/step - loss: 0.2828 - mae: 0.4194 - val_loss: 1.0722 - val_mae: 0.8255\n",
            "Epoch 4/500\n",
            "5/5 [==============================] - 0s 57ms/step - loss: 0.2924 - mae: 0.4473 - val_loss: 1.7488 - val_mae: 1.1590\n",
            "Epoch 5/500\n",
            "5/5 [==============================] - 0s 57ms/step - loss: 0.1739 - mae: 0.3259 - val_loss: 1.3678 - val_mae: 0.9581\n",
            "Epoch 6/500\n",
            "5/5 [==============================] - 0s 54ms/step - loss: 0.1815 - mae: 0.3349 - val_loss: 1.1737 - val_mae: 0.8509\n",
            "Epoch 7/500\n",
            "5/5 [==============================] - 0s 56ms/step - loss: 0.1574 - mae: 0.3014 - val_loss: 1.2131 - val_mae: 0.9005\n",
            "Epoch 8/500\n",
            "5/5 [==============================] - 0s 58ms/step - loss: 0.1236 - mae: 0.2657 - val_loss: 0.9970 - val_mae: 0.7895\n",
            "Epoch 9/500\n",
            "5/5 [==============================] - 0s 52ms/step - loss: 0.1196 - mae: 0.2809 - val_loss: 0.7084 - val_mae: 0.5875\n",
            "Epoch 10/500\n",
            "5/5 [==============================] - 0s 53ms/step - loss: 0.1156 - mae: 0.2722 - val_loss: 0.7042 - val_mae: 0.5911\n",
            "Epoch 11/500\n",
            "5/5 [==============================] - 0s 55ms/step - loss: 0.1010 - mae: 0.2397 - val_loss: 0.8207 - val_mae: 0.6782\n",
            "Epoch 12/500\n",
            "5/5 [==============================] - 0s 53ms/step - loss: 0.0938 - mae: 0.2302 - val_loss: 0.7298 - val_mae: 0.6176\n",
            "Epoch 13/500\n",
            "5/5 [==============================] - 0s 52ms/step - loss: 0.0872 - mae: 0.2269 - val_loss: 0.5811 - val_mae: 0.5407\n",
            "Epoch 14/500\n",
            "5/5 [==============================] - 0s 53ms/step - loss: 0.0816 - mae: 0.2177 - val_loss: 0.5344 - val_mae: 0.5153\n",
            "Epoch 15/500\n",
            "5/5 [==============================] - 0s 58ms/step - loss: 0.0774 - mae: 0.2150 - val_loss: 0.4981 - val_mae: 0.4974\n",
            "Epoch 16/500\n",
            "5/5 [==============================] - 0s 55ms/step - loss: 0.0730 - mae: 0.2078 - val_loss: 0.4547 - val_mae: 0.4766\n",
            "Epoch 17/500\n",
            "5/5 [==============================] - 0s 58ms/step - loss: 0.0684 - mae: 0.1979 - val_loss: 0.4339 - val_mae: 0.4632\n",
            "Epoch 18/500\n",
            "5/5 [==============================] - 0s 57ms/step - loss: 0.0645 - mae: 0.1929 - val_loss: 0.3911 - val_mae: 0.4461\n",
            "Epoch 19/500\n",
            "5/5 [==============================] - 0s 59ms/step - loss: 0.0611 - mae: 0.1901 - val_loss: 0.3528 - val_mae: 0.4330\n",
            "Epoch 20/500\n",
            "5/5 [==============================] - 0s 55ms/step - loss: 0.0576 - mae: 0.1837 - val_loss: 0.3409 - val_mae: 0.4280\n",
            "Epoch 21/500\n",
            "5/5 [==============================] - 0s 54ms/step - loss: 0.0543 - mae: 0.1783 - val_loss: 0.3200 - val_mae: 0.4208\n",
            "Epoch 22/500\n",
            "5/5 [==============================] - 0s 59ms/step - loss: 0.0510 - mae: 0.1733 - val_loss: 0.2993 - val_mae: 0.4121\n",
            "Epoch 23/500\n",
            "5/5 [==============================] - 0s 53ms/step - loss: 0.0479 - mae: 0.1679 - val_loss: 0.2834 - val_mae: 0.4052\n",
            "Epoch 24/500\n",
            "5/5 [==============================] - 0s 56ms/step - loss: 0.0448 - mae: 0.1633 - val_loss: 0.2689 - val_mae: 0.3988\n",
            "Epoch 25/500\n",
            "5/5 [==============================] - 0s 55ms/step - loss: 0.0418 - mae: 0.1579 - val_loss: 0.2580 - val_mae: 0.3928\n",
            "Epoch 26/500\n",
            "5/5 [==============================] - 0s 54ms/step - loss: 0.0390 - mae: 0.1531 - val_loss: 0.2432 - val_mae: 0.3844\n",
            "Epoch 27/500\n",
            "5/5 [==============================] - 0s 54ms/step - loss: 0.0364 - mae: 0.1477 - val_loss: 0.2329 - val_mae: 0.3774\n",
            "Epoch 28/500\n",
            "5/5 [==============================] - 0s 56ms/step - loss: 0.0339 - mae: 0.1425 - val_loss: 0.2223 - val_mae: 0.3697\n",
            "Epoch 29/500\n",
            "5/5 [==============================] - 0s 55ms/step - loss: 0.0318 - mae: 0.1374 - val_loss: 0.2124 - val_mae: 0.3616\n",
            "Epoch 30/500\n",
            "5/5 [==============================] - 0s 53ms/step - loss: 0.0299 - mae: 0.1330 - val_loss: 0.2029 - val_mae: 0.3531\n",
            "Epoch 31/500\n",
            "5/5 [==============================] - 0s 53ms/step - loss: 0.0282 - mae: 0.1292 - val_loss: 0.1952 - val_mae: 0.3482\n",
            "Epoch 32/500\n",
            "5/5 [==============================] - 0s 54ms/step - loss: 0.0268 - mae: 0.1265 - val_loss: 0.1874 - val_mae: 0.3457\n",
            "Epoch 33/500\n",
            "5/5 [==============================] - 0s 57ms/step - loss: 0.0257 - mae: 0.1252 - val_loss: 0.1809 - val_mae: 0.3438\n",
            "Epoch 34/500\n",
            "5/5 [==============================] - 0s 53ms/step - loss: 0.0246 - mae: 0.1238 - val_loss: 0.1755 - val_mae: 0.3414\n",
            "Epoch 35/500\n",
            "5/5 [==============================] - 0s 58ms/step - loss: 0.0238 - mae: 0.1227 - val_loss: 0.1706 - val_mae: 0.3395\n",
            "Epoch 36/500\n",
            "5/5 [==============================] - 0s 58ms/step - loss: 0.0231 - mae: 0.1216 - val_loss: 0.1672 - val_mae: 0.3372\n",
            "Epoch 37/500\n",
            "5/5 [==============================] - 0s 56ms/step - loss: 0.0225 - mae: 0.1203 - val_loss: 0.1640 - val_mae: 0.3359\n",
            "Epoch 38/500\n",
            "5/5 [==============================] - 0s 58ms/step - loss: 0.0219 - mae: 0.1196 - val_loss: 0.1616 - val_mae: 0.3335\n",
            "Epoch 39/500\n",
            "5/5 [==============================] - 0s 57ms/step - loss: 0.0214 - mae: 0.1182 - val_loss: 0.1602 - val_mae: 0.3329\n",
            "Epoch 40/500\n",
            "5/5 [==============================] - 0s 59ms/step - loss: 0.0209 - mae: 0.1176 - val_loss: 0.1574 - val_mae: 0.3309\n",
            "Epoch 41/500\n",
            "5/5 [==============================] - 0s 67ms/step - loss: 0.0206 - mae: 0.1172 - val_loss: 0.1570 - val_mae: 0.3286\n",
            "Epoch 42/500\n",
            "5/5 [==============================] - 1s 127ms/step - loss: 0.0205 - mae: 0.1165 - val_loss: 0.1557 - val_mae: 0.3313\n",
            "Epoch 43/500\n",
            "5/5 [==============================] - 0s 75ms/step - loss: 0.0209 - mae: 0.1195 - val_loss: 0.1498 - val_mae: 0.3229\n",
            "Epoch 44/500\n",
            "5/5 [==============================] - 0s 109ms/step - loss: 0.0214 - mae: 0.1203 - val_loss: 0.1619 - val_mae: 0.3378\n",
            "Epoch 45/500\n",
            "5/5 [==============================] - 0s 100ms/step - loss: 0.0217 - mae: 0.1227 - val_loss: 0.1326 - val_mae: 0.3042\n",
            "Epoch 46/500\n",
            "5/5 [==============================] - 0s 106ms/step - loss: 0.0231 - mae: 0.1206 - val_loss: 0.1731 - val_mae: 0.3453\n",
            "Epoch 47/500\n",
            "5/5 [==============================] - 0s 96ms/step - loss: 0.0320 - mae: 0.1403 - val_loss: 0.1573 - val_mae: 0.3345\n",
            "Epoch 48/500\n",
            "5/5 [==============================] - 0s 53ms/step - loss: 0.0706 - mae: 0.2250 - val_loss: 0.1552 - val_mae: 0.3242\n",
            "Epoch 49/500\n",
            "5/5 [==============================] - 0s 58ms/step - loss: 0.1380 - mae: 0.3252 - val_loss: 0.2955 - val_mae: 0.4499\n",
            "Epoch 50/500\n",
            "5/5 [==============================] - 0s 55ms/step - loss: 0.2175 - mae: 0.4012 - val_loss: 0.2674 - val_mae: 0.4437\n",
            "Epoch 51/500\n",
            "5/5 [==============================] - 0s 54ms/step - loss: 0.1321 - mae: 0.3132 - val_loss: 0.0939 - val_mae: 0.2425\n",
            "Epoch 52/500\n",
            "5/5 [==============================] - 0s 57ms/step - loss: 0.0985 - mae: 0.2584 - val_loss: 0.2365 - val_mae: 0.3745\n",
            "Epoch 53/500\n",
            "5/5 [==============================] - 0s 56ms/step - loss: 0.1297 - mae: 0.2745 - val_loss: 0.5326 - val_mae: 0.6391\n",
            "Epoch 54/500\n",
            "5/5 [==============================] - 0s 53ms/step - loss: 0.0647 - mae: 0.1932 - val_loss: 0.1017 - val_mae: 0.2613\n",
            "Epoch 55/500\n",
            "5/5 [==============================] - 0s 53ms/step - loss: 0.0301 - mae: 0.1338 - val_loss: 0.2819 - val_mae: 0.4285\n",
            "Epoch 56/500\n",
            "5/5 [==============================] - 0s 54ms/step - loss: 0.0303 - mae: 0.1406 - val_loss: 0.2026 - val_mae: 0.3580\n",
            "Epoch 57/500\n",
            "5/5 [==============================] - 0s 54ms/step - loss: 0.0313 - mae: 0.1382 - val_loss: 0.1677 - val_mae: 0.3341\n",
            "Epoch 58/500\n",
            "5/5 [==============================] - 0s 57ms/step - loss: 0.0238 - mae: 0.1203 - val_loss: 0.2094 - val_mae: 0.3625\n",
            "Epoch 59/500\n",
            "5/5 [==============================] - 0s 55ms/step - loss: 0.0212 - mae: 0.1151 - val_loss: 0.1327 - val_mae: 0.3043\n",
            "Epoch 60/500\n",
            "5/5 [==============================] - 0s 56ms/step - loss: 0.0190 - mae: 0.1094 - val_loss: 0.1612 - val_mae: 0.3299\n",
            "Epoch 61/500\n",
            "5/5 [==============================] - 0s 54ms/step - loss: 0.0189 - mae: 0.1115 - val_loss: 0.1619 - val_mae: 0.3291\n",
            "Epoch 62/500\n",
            "5/5 [==============================] - 0s 55ms/step - loss: 0.0180 - mae: 0.1071 - val_loss: 0.1239 - val_mae: 0.2950\n",
            "Epoch 63/500\n",
            "5/5 [==============================] - 0s 55ms/step - loss: 0.0171 - mae: 0.1070 - val_loss: 0.1465 - val_mae: 0.3146\n",
            "Epoch 64/500\n",
            "5/5 [==============================] - 0s 56ms/step - loss: 0.0167 - mae: 0.1056 - val_loss: 0.1339 - val_mae: 0.3043\n",
            "Epoch 65/500\n",
            "5/5 [==============================] - 0s 59ms/step - loss: 0.0166 - mae: 0.1053 - val_loss: 0.1348 - val_mae: 0.3041\n",
            "Epoch 66/500\n",
            "5/5 [==============================] - 0s 56ms/step - loss: 0.0164 - mae: 0.1053 - val_loss: 0.1367 - val_mae: 0.3053\n",
            "Epoch 67/500\n",
            "5/5 [==============================] - 0s 85ms/step - loss: 0.0163 - mae: 0.1040 - val_loss: 0.1316 - val_mae: 0.3005\n",
            "Epoch 68/500\n",
            "5/5 [==============================] - 0s 56ms/step - loss: 0.0161 - mae: 0.1042 - val_loss: 0.1402 - val_mae: 0.3077\n",
            "Epoch 69/500\n",
            "5/5 [==============================] - 0s 62ms/step - loss: 0.0159 - mae: 0.1031 - val_loss: 0.1332 - val_mae: 0.3015\n",
            "Epoch 70/500\n",
            "5/5 [==============================] - 0s 58ms/step - loss: 0.0157 - mae: 0.1028 - val_loss: 0.1366 - val_mae: 0.3043\n",
            "Epoch 71/500\n",
            "5/5 [==============================] - 0s 61ms/step - loss: 0.0156 - mae: 0.1024 - val_loss: 0.1354 - val_mae: 0.3034\n"
          ]
        },
        {
          "output_type": "display_data",
          "data": {
            "text/plain": [
              "<Figure size 432x288 with 1 Axes>"
            ],
            "image/png": "[encoded data removed]"
          },
          "metadata": {
            "needs_background": "light"
          }
        }
      ]
    },
    {
      "cell_type": "code",
      "source": [
        "pred = model.predict(dataset_train).flatten()\n",
        "predVal = model.predict(dataset_val).flatten()\n",
        "\n",
        "start = 0\n",
        "step = 144\n",
        "plt.figure(figsize=(10,5))\n",
        "plt.grid('on')\n",
        "plt.plot(predVal[start:start+step], \n",
        "         label='Прогноз')\n",
        "plt.plot(yVal.flatten()[start:start+step], \n",
        "         label='Базовый ряд')\n",
        "plt.xlabel('Время')\n",
        "plt.ylabel('Значение ')\n",
        "\n",
        "plt.legend()\n",
        "plt.show()"
      ],
      "metadata": {
        "colab": {
          "base_uri": "https://localhost:8080/",
          "height": 334
        },
        "id": "92ouxuIqnkH-",
        "outputId": "882b35fd-c04a-4e7e-9c48-4f28f0e3bba8"
      },
      "execution_count": 48,
      "outputs": [
        {
          "output_type": "display_data",
          "data": {
            "text/plain": [
              "<Figure size 720x360 with 1 Axes>"
            ],
            "image/png": "[encoded data removed]"
          },
          "metadata": {
            "needs_background": "light"
          }
        }
      ]
    },
    {
      "cell_type": "code",
      "source": [
        "corr = []\n",
        "start = 0 # начальная точка для проверки корреляций рядов\n",
        "step = 9 # число точек для проверки корреляций рядов\n",
        "h=0\n",
        "yLen = yVal.shape[0]\n",
        "yValF = yVal[start:start+step].flatten() # ряд истиных значений\n",
        "yPredVal = predVal[start:start+step] # ряд предсказаний \n",
        "# смотрим лаговые корреляции yValF[:-i], yPredVal[i:] для лагов от 0 до 5\n",
        "for i in range(5):\n",
        "  corr.append(correlate(yValF[:-1-i], yPredVal[i:-1]))\n",
        "  \n",
        "plt.plot(corr, \n",
        "         label='Корреляция')\n",
        "plt.xlabel('лаговое расстояние между рядами')\n",
        "plt.ylabel('Значение корреляции')\n",
        "plt.legend()\n",
        "plt.show()\n",
        "\n",
        "corr"
      ],
      "metadata": {
        "colab": {
          "base_uri": "https://localhost:8080/",
          "height": 366
        },
        "id": "Mkqh0f3Znm1u",
        "outputId": "56e53c47-a68f-4e08-aa7d-e0363358d50b"
      },
      "execution_count": 49,
      "outputs": [
        {
          "output_type": "display_data",
          "data": {
            "text/plain": [
              "<Figure size 432x288 with 1 Axes>"
            ],
            "image/png": "[encoded data removed]"
          },
          "metadata": {
            "needs_background": "light"
          }
        },
        {
          "output_type": "execute_result",
          "data": {
            "text/plain": [
              "[0.9523317893688131,\n",
              " 0.9031126480051729,\n",
              " 0.9502948700823785,\n",
              " 0.818007223487048,\n",
              " 0.5649589846816729]"
            ]
          },
          "metadata": {},
          "execution_count": 49
        }
      ]
    },
    {
      "cell_type": "code",
      "source": [
        "print(predVal.shape)\n",
        "print(pred.shape)\n",
        "pred2 = np.concatenate((pred, predVal), axis=0)\n",
        "pred2.shape"
      ],
      "metadata": {
        "colab": {
          "base_uri": "https://localhost:8080/"
        },
        "id": "UGHntSj1nqHN",
        "outputId": "1a937514-3c51-42c8-9c88-920699448185"
      },
      "execution_count": 50,
      "outputs": [
        {
          "output_type": "stream",
          "name": "stdout",
          "text": [
            "(10,)\n",
            "(115,)\n"
          ]
        },
        {
          "output_type": "execute_result",
          "data": {
            "text/plain": [
              "(125,)"
            ]
          },
          "metadata": {},
          "execution_count": 50
        }
      ]
    },
    {
      "cell_type": "code",
      "source": [
        "print(yVal.shape)\n",
        "print(yTrain.shape)\n",
        "yTrain2 = np.concatenate((yTrain[:-2], yVal[:-2]), axis=0) # отсекаем по 2 записи из меток, чтобы корректно сопоставить временные ряды\n",
        "yTrain2.shape"
      ],
      "metadata": {
        "colab": {
          "base_uri": "https://localhost:8080/"
        },
        "id": "U-NUDf_nnrhX",
        "outputId": "86815855-f2c0-4066-d80d-6a3b0bc8a084"
      },
      "execution_count": 51,
      "outputs": [
        {
          "output_type": "stream",
          "name": "stdout",
          "text": [
            "(12,)\n",
            "(117,)\n"
          ]
        },
        {
          "output_type": "execute_result",
          "data": {
            "text/plain": [
              "(125,)"
            ]
          },
          "metadata": {},
          "execution_count": 51
        }
      ]
    },
    {
      "cell_type": "markdown",
      "source": [
        "Итоговый результат на всем временном ряду (трейн + тест)"
      ],
      "metadata": {
        "id": "lceBvZejntJe"
      }
    },
    {
      "cell_type": "code",
      "source": [
        "start = 0\n",
        "\n",
        "plt.figure(figsize=(10,5))\n",
        "plt.grid('on')\n",
        "plt.plot(pred2, \n",
        "         label='Прогноз')\n",
        "plt.plot(yTrain2.flatten(), \n",
        "         label='Базовый ряд')\n",
        "plt.xlabel('Время')\n",
        "plt.ylabel('Значение Close')\n",
        "plt.legend()\n",
        "plt.show()"
      ],
      "metadata": {
        "colab": {
          "base_uri": "https://localhost:8080/",
          "height": 334
        },
        "id": "ZK2kaA_Intnh",
        "outputId": "19fe450c-7b1f-40e1-a66a-76d7cebcfe96"
      },
      "execution_count": 52,
      "outputs": [
        {
          "output_type": "display_data",
          "data": {
            "text/plain": [
              "<Figure size 720x360 with 1 Axes>"
            ],
            "image/png": "[encoded data removed]"
          },
          "metadata": {
            "needs_background": "light"
          }
        }
      ]
    },
    {
      "cell_type": "markdown",
      "source": [
        "Выводы:\n",
        "Что сработало: увеличение количества ядер на LSTM слое; добавление Conv1D после LSTM; увеличение порога ранней остановки до 20; увеличение количества эпох обучения. Также удалось улучшить точность, добавив дополнительный признак для двух самых активных месяцев в году, которые видны по данным (тем самым явно указав модели на сезонность).\n",
        "\n",
        "Не сработало: дополнительные слои LSTM, Conv1D и Dense не давали прироста в качестве."
      ],
      "metadata": {
        "id": "pgXoC4d_nwe-"
      }
    },
    {
      "cell_type": "markdown",
      "source": [
        ""
      ],
      "metadata": {
        "id": "2j9d2OuXoJde"
      }
    }
  ]
}