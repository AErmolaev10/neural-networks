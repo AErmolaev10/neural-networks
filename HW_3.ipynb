{
 "cells": [
  {
   "cell_type": "code",
   "execution_count": 19,
   "id": "c3f88b3d",
   "metadata": {},
   "outputs": [
    {
     "name": "stdout",
     "output_type": "stream",
     "text": [
      "2.8.0\n"
     ]
    }
   ],
   "source": [
    "import numpy as np\n",
    "import pandas as pd\n",
    "import matplotlib.pyplot as plt\n",
    "import tensorflow as tf\n",
    "import tensorflow_addons as tfa\n",
    "import seaborn as sns\n",
    "\n",
    "from tensorflow.keras.layers import Input, Flatten, Dense, Dropout\n",
    "from tensorflow.keras.models import Model, Sequential\n",
    "from tensorflow_datasets.text import IMDBReviews\n",
    "\n",
    "from sklearn.datasets import load_boston\n",
    "from sklearn.model_selection import train_test_split\n",
    "from sklearn.pipeline import Pipeline, make_pipeline, FeatureUnion\n",
    "from sklearn.preprocessing import StandardScaler\n",
    "from sklearn.base import BaseEstimator, TransformerMixin\n",
    "\n",
    "import warnings\n",
    "warnings.simplefilter(action='ignore', category=FutureWarning)\n",
    "\n",
    "print(tf.__version__)"
   ]
  },
  {
   "cell_type": "markdown",
   "id": "2e18503f",
   "metadata": {},
   "source": [
    "Загрузим датасет с ценами на жилье в Бостоне"
   ]
  },
  {
   "cell_type": "code",
   "execution_count": 20,
   "id": "cbf1f192",
   "metadata": {},
   "outputs": [],
   "source": [
    "X, y = load_boston(return_X_y=True)\n",
    "\n",
    "X_train, X_test, y_train, y_test = train_test_split(X, y, test_size=0.3, \n",
    "                                                    shuffle=True, \n",
    "                                                    random_state=42)\n",
    "\n",
    "train_df = pd.DataFrame(X_train, columns=load_boston().feature_names)\n",
    "test_df = pd.DataFrame(X_test, columns=load_boston().feature_names)"
   ]
  },
  {
   "cell_type": "code",
   "execution_count": 21,
   "id": "36989c83",
   "metadata": {},
   "outputs": [
    {
     "name": "stdout",
     "output_type": "stream",
     "text": [
      "<class 'pandas.core.frame.DataFrame'>\n",
      "RangeIndex: 354 entries, 0 to 353\n",
      "Data columns (total 13 columns):\n",
      " #   Column   Non-Null Count  Dtype  \n",
      "---  ------   --------------  -----  \n",
      " 0   CRIM     354 non-null    float64\n",
      " 1   ZN       354 non-null    float64\n",
      " 2   INDUS    354 non-null    float64\n",
      " 3   CHAS     354 non-null    float64\n",
      " 4   NOX      354 non-null    float64\n",
      " 5   RM       354 non-null    float64\n",
      " 6   AGE      354 non-null    float64\n",
      " 7   DIS      354 non-null    float64\n",
      " 8   RAD      354 non-null    float64\n",
      " 9   TAX      354 non-null    float64\n",
      " 10  PTRATIO  354 non-null    float64\n",
      " 11  B        354 non-null    float64\n",
      " 12  LSTAT    354 non-null    float64\n",
      "dtypes: float64(13)\n",
      "memory usage: 36.1 KB\n"
     ]
    }
   ],
   "source": [
    "train_df.info()"
   ]
  },
  {
   "cell_type": "code",
   "execution_count": 22,
   "id": "c2f57493",
   "metadata": {},
   "outputs": [
    {
     "data": {
      "text/html": [
       "<div>\n",
       "<style scoped>\n",
       "    .dataframe tbody tr th:only-of-type {\n",
       "        vertical-align: middle;\n",
       "    }\n",
       "\n",
       "    .dataframe tbody tr th {\n",
       "        vertical-align: top;\n",
       "    }\n",
       "\n",
       "    .dataframe thead th {\n",
       "        text-align: right;\n",
       "    }\n",
       "</style>\n",
       "<table border=\"1\" class=\"dataframe\">\n",
       "  <thead>\n",
       "    <tr style=\"text-align: right;\">\n",
       "      <th></th>\n",
       "      <th>CRIM</th>\n",
       "      <th>ZN</th>\n",
       "      <th>INDUS</th>\n",
       "      <th>CHAS</th>\n",
       "      <th>NOX</th>\n",
       "      <th>RM</th>\n",
       "      <th>AGE</th>\n",
       "      <th>DIS</th>\n",
       "      <th>RAD</th>\n",
       "      <th>TAX</th>\n",
       "      <th>PTRATIO</th>\n",
       "      <th>B</th>\n",
       "      <th>LSTAT</th>\n",
       "    </tr>\n",
       "  </thead>\n",
       "  <tbody>\n",
       "    <tr>\n",
       "      <th>count</th>\n",
       "      <td>354.000000</td>\n",
       "      <td>354.000000</td>\n",
       "      <td>354.000000</td>\n",
       "      <td>354.000000</td>\n",
       "      <td>354.000000</td>\n",
       "      <td>354.000000</td>\n",
       "      <td>354.000000</td>\n",
       "      <td>354.000000</td>\n",
       "      <td>354.000000</td>\n",
       "      <td>354.000000</td>\n",
       "      <td>354.000000</td>\n",
       "      <td>354.000000</td>\n",
       "      <td>354.000000</td>\n",
       "    </tr>\n",
       "    <tr>\n",
       "      <th>mean</th>\n",
       "      <td>3.469887</td>\n",
       "      <td>11.403955</td>\n",
       "      <td>11.133051</td>\n",
       "      <td>0.073446</td>\n",
       "      <td>0.557259</td>\n",
       "      <td>6.325672</td>\n",
       "      <td>68.799718</td>\n",
       "      <td>3.765874</td>\n",
       "      <td>9.437853</td>\n",
       "      <td>407.042373</td>\n",
       "      <td>18.277966</td>\n",
       "      <td>359.701808</td>\n",
       "      <td>12.421130</td>\n",
       "    </tr>\n",
       "    <tr>\n",
       "      <th>std</th>\n",
       "      <td>8.315831</td>\n",
       "      <td>22.608457</td>\n",
       "      <td>6.938651</td>\n",
       "      <td>0.261237</td>\n",
       "      <td>0.116792</td>\n",
       "      <td>0.719211</td>\n",
       "      <td>27.665360</td>\n",
       "      <td>2.126032</td>\n",
       "      <td>8.639971</td>\n",
       "      <td>166.522237</td>\n",
       "      <td>2.256792</td>\n",
       "      <td>86.924779</td>\n",
       "      <td>7.112402</td>\n",
       "    </tr>\n",
       "    <tr>\n",
       "      <th>min</th>\n",
       "      <td>0.009060</td>\n",
       "      <td>0.000000</td>\n",
       "      <td>1.210000</td>\n",
       "      <td>0.000000</td>\n",
       "      <td>0.385000</td>\n",
       "      <td>3.863000</td>\n",
       "      <td>2.900000</td>\n",
       "      <td>1.129600</td>\n",
       "      <td>1.000000</td>\n",
       "      <td>187.000000</td>\n",
       "      <td>12.600000</td>\n",
       "      <td>0.320000</td>\n",
       "      <td>1.730000</td>\n",
       "    </tr>\n",
       "    <tr>\n",
       "      <th>25%</th>\n",
       "      <td>0.082320</td>\n",
       "      <td>0.000000</td>\n",
       "      <td>5.130000</td>\n",
       "      <td>0.000000</td>\n",
       "      <td>0.450000</td>\n",
       "      <td>5.889500</td>\n",
       "      <td>46.025000</td>\n",
       "      <td>2.073700</td>\n",
       "      <td>4.000000</td>\n",
       "      <td>279.000000</td>\n",
       "      <td>16.650000</td>\n",
       "      <td>376.782500</td>\n",
       "      <td>6.862500</td>\n",
       "    </tr>\n",
       "    <tr>\n",
       "      <th>50%</th>\n",
       "      <td>0.256510</td>\n",
       "      <td>0.000000</td>\n",
       "      <td>9.690000</td>\n",
       "      <td>0.000000</td>\n",
       "      <td>0.538000</td>\n",
       "      <td>6.227500</td>\n",
       "      <td>77.350000</td>\n",
       "      <td>3.107300</td>\n",
       "      <td>5.000000</td>\n",
       "      <td>330.000000</td>\n",
       "      <td>18.600000</td>\n",
       "      <td>391.600000</td>\n",
       "      <td>10.925000</td>\n",
       "    </tr>\n",
       "    <tr>\n",
       "      <th>75%</th>\n",
       "      <td>3.281688</td>\n",
       "      <td>20.000000</td>\n",
       "      <td>18.100000</td>\n",
       "      <td>0.000000</td>\n",
       "      <td>0.631000</td>\n",
       "      <td>6.681750</td>\n",
       "      <td>93.475000</td>\n",
       "      <td>5.400700</td>\n",
       "      <td>24.000000</td>\n",
       "      <td>666.000000</td>\n",
       "      <td>20.200000</td>\n",
       "      <td>396.172500</td>\n",
       "      <td>16.225000</td>\n",
       "    </tr>\n",
       "    <tr>\n",
       "      <th>max</th>\n",
       "      <td>88.976200</td>\n",
       "      <td>95.000000</td>\n",
       "      <td>27.740000</td>\n",
       "      <td>1.000000</td>\n",
       "      <td>0.871000</td>\n",
       "      <td>8.780000</td>\n",
       "      <td>100.000000</td>\n",
       "      <td>12.126500</td>\n",
       "      <td>24.000000</td>\n",
       "      <td>711.000000</td>\n",
       "      <td>22.000000</td>\n",
       "      <td>396.900000</td>\n",
       "      <td>37.970000</td>\n",
       "    </tr>\n",
       "  </tbody>\n",
       "</table>\n",
       "</div>"
      ],
      "text/plain": [
       "             CRIM          ZN       INDUS        CHAS         NOX          RM  \\\n",
       "count  354.000000  354.000000  354.000000  354.000000  354.000000  354.000000   \n",
       "mean     3.469887   11.403955   11.133051    0.073446    0.557259    6.325672   \n",
       "std      8.315831   22.608457    6.938651    0.261237    0.116792    0.719211   \n",
       "min      0.009060    0.000000    1.210000    0.000000    0.385000    3.863000   \n",
       "25%      0.082320    0.000000    5.130000    0.000000    0.450000    5.889500   \n",
       "50%      0.256510    0.000000    9.690000    0.000000    0.538000    6.227500   \n",
       "75%      3.281688   20.000000   18.100000    0.000000    0.631000    6.681750   \n",
       "max     88.976200   95.000000   27.740000    1.000000    0.871000    8.780000   \n",
       "\n",
       "              AGE         DIS         RAD         TAX     PTRATIO           B  \\\n",
       "count  354.000000  354.000000  354.000000  354.000000  354.000000  354.000000   \n",
       "mean    68.799718    3.765874    9.437853  407.042373   18.277966  359.701808   \n",
       "std     27.665360    2.126032    8.639971  166.522237    2.256792   86.924779   \n",
       "min      2.900000    1.129600    1.000000  187.000000   12.600000    0.320000   \n",
       "25%     46.025000    2.073700    4.000000  279.000000   16.650000  376.782500   \n",
       "50%     77.350000    3.107300    5.000000  330.000000   18.600000  391.600000   \n",
       "75%     93.475000    5.400700   24.000000  666.000000   20.200000  396.172500   \n",
       "max    100.000000   12.126500   24.000000  711.000000   22.000000  396.900000   \n",
       "\n",
       "            LSTAT  \n",
       "count  354.000000  \n",
       "mean    12.421130  \n",
       "std      7.112402  \n",
       "min      1.730000  \n",
       "25%      6.862500  \n",
       "50%     10.925000  \n",
       "75%     16.225000  \n",
       "max     37.970000  "
      ]
     },
     "execution_count": 22,
     "metadata": {},
     "output_type": "execute_result"
    }
   ],
   "source": [
    "train_df.describe()"
   ]
  },
  {
   "cell_type": "code",
   "execution_count": 23,
   "id": "889efcf7",
   "metadata": {},
   "outputs": [],
   "source": [
    "class NumberSelector(BaseEstimator, TransformerMixin):\n",
    "    def __init__(self, key):\n",
    "        self.key = key\n",
    "\n",
    "    def fit(self, X, y=None):\n",
    "        return self\n",
    "\n",
    "    def transform(self, X):\n",
    "        return X[[self.key]]"
   ]
  },
  {
   "cell_type": "code",
   "execution_count": 24,
   "id": "eccbfbd7",
   "metadata": {},
   "outputs": [],
   "source": [
    "cont_transformers = []\n",
    "cont_columns = ['CRIM', 'ZN', 'INDUS', 'NOX', 'RM', 'AGE', 'DIS', 'RAD', 'TAX',\n",
    "       'PTRATIO', 'B', 'LSTAT']\n",
    "\n",
    "cat_transformers = []\n",
    "cat_columns = ['CHAS']\n",
    "\n",
    "for col in cont_columns:\n",
    "    transfomer =  Pipeline([\n",
    "                ('selector', NumberSelector(key=col)),\n",
    "                ('standard', StandardScaler())\n",
    "            ])\n",
    "    cont_transformers.append((col, transfomer))\n",
    "\n",
    "for col in cat_columns:\n",
    "    transfomer =  Pipeline([\n",
    "                ('selector', NumberSelector(key=col)),\n",
    "            ])\n",
    "    cat_transformers.append((col, transfomer))\n",
    "\n",
    "feats = FeatureUnion(cont_transformers+cat_transformers)"
   ]
  },
  {
   "cell_type": "code",
   "execution_count": 25,
   "id": "f3cfe552",
   "metadata": {},
   "outputs": [],
   "source": [
    "X_train = feats.fit_transform(train_df)\n",
    "X_test = feats.transform(test_df)"
   ]
  },
  {
   "cell_type": "markdown",
   "id": "e7725235",
   "metadata": {},
   "source": [
    "В качестве baseline построим сеть с двумя внутренними слоями и линейной активацией."
   ]
  },
  {
   "cell_type": "code",
   "execution_count": 26,
   "id": "6af6fd89",
   "metadata": {},
   "outputs": [
    {
     "name": "stdout",
     "output_type": "stream",
     "text": [
      "Model: \"sequential_4\"\n",
      "_________________________________________________________________\n",
      " Layer (type)                Output Shape              Param #   \n",
      "=================================================================\n",
      " dense_12 (Dense)            (None, 32)                448       \n",
      "                                                                 \n",
      " dense_13 (Dense)            (None, 16)                528       \n",
      "                                                                 \n",
      " dense_14 (Dense)            (None, 1)                 17        \n",
      "                                                                 \n",
      "=================================================================\n",
      "Total params: 993\n",
      "Trainable params: 993\n",
      "Non-trainable params: 0\n",
      "_________________________________________________________________\n"
     ]
    }
   ],
   "source": [
    "model = Sequential([\n",
    "                    Dense(32, activation='linear', input_shape=(13,)),\n",
    "                    Dense(16, activation='linear'),\n",
    "                    Dense(1, activation='linear')\n",
    "                    ])\n",
    "\n",
    "model.summary()"
   ]
  },
  {
   "cell_type": "code",
   "execution_count": 27,
   "id": "34cdfd71",
   "metadata": {},
   "outputs": [],
   "source": [
    "model.compile(loss=tf.keras.losses.MeanSquaredError(),\n",
    "              metrics=tfa.metrics.RSquare(dtype=tf.float32, y_shape=(1,)))"
   ]
  },
  {
   "cell_type": "markdown",
   "id": "5b6e55e6",
   "metadata": {},
   "source": [
    "Оценим качество модели"
   ]
  },
  {
   "cell_type": "code",
   "execution_count": 28,
   "id": "d7cba42e",
   "metadata": {},
   "outputs": [
    {
     "name": "stdout",
     "output_type": "stream",
     "text": [
      "R2 на трейне - 0.639128;\n",
      "R2 на валидационном сете - 0.491716;\n",
      "R2 на тесте - 0.550215.\n"
     ]
    }
   ],
   "source": [
    "# if tf.config.experimental.list_physical_devices(\"GPU\"):\n",
    "#   with tf.device(\"GPU:0\"): \n",
    "h = model.fit(X_train, y_train, epochs=30, validation_split=0.15, verbose=0)\n",
    "test_loss, test_r2 = model.evaluate(X_test, y_test, verbose=0)\n",
    "print(f'R2 на трейне - {h.history.get(\"r_square\")[-1]:.6f};\\n'\n",
    "      f'R2 на валидационном сете - {h.history.get(\"val_r_square\")[-1]:.6f};\\n'\n",
    "      f'R2 на тесте - {test_r2:6f}.')"
   ]
  },
  {
   "cell_type": "markdown",
   "id": "586f61b3",
   "metadata": {},
   "source": [
    "Улучшим модель"
   ]
  },
  {
   "cell_type": "code",
   "execution_count": 29,
   "id": "14e5d48a",
   "metadata": {},
   "outputs": [],
   "source": [
    "def eval_model(X_train, y_train, epoch, val_split=0.15):\n",
    "  # if tf.config.experimental.list_physical_devices(\"GPU\"):\n",
    "      # with tf.device(\"GPU:0\"): \n",
    "        h = model.fit(X_train, y_train, epochs=epoch, validation_split=0.15, verbose=0)\n",
    "        test_loss, test_r2 = model.evaluate(X_test, y_test, verbose=0)\n",
    "        print(f'\\tR2 на трейне - {h.history.get(\"r_square\")[-1]:.6f};\\n'\n",
    "              f'\\tR2 на валидационном сете - {h.history.get(\"val_r_square\")[-1]:.6f};\\n'\n",
    "              f'\\tR2 на тесте - {test_r2:6f}.')"
   ]
  },
  {
   "cell_type": "code",
   "execution_count": 30,
   "id": "cb0e739d",
   "metadata": {},
   "outputs": [
    {
     "name": "stdout",
     "output_type": "stream",
     "text": [
      "Количество нейронов в первом внутреннем слое - 64, Количество эпох - 30:\n",
      "\tR2 на трейне - 0.744873;\n",
      "\tR2 на валидационном сете - 0.596119;\n",
      "\tR2 на тесте - 0.648429.\n",
      "Количество нейронов в первом внутреннем слое - 64, Количество эпох - 50:\n",
      "\tR2 на трейне - 0.745456;\n",
      "\tR2 на валидационном сете - 0.589604;\n",
      "\tR2 на тесте - 0.705260.\n",
      "Количество нейронов в первом внутреннем слое - 64, Количество эпох - 100:\n",
      "\tR2 на трейне - 0.749046;\n",
      "\tR2 на валидационном сете - 0.532783;\n",
      "\tR2 на тесте - 0.653038.\n",
      "Количество нейронов в первом внутреннем слое - 64, Количество эпох - 200:\n",
      "\tR2 на трейне - 0.744308;\n",
      "\tR2 на валидационном сете - 0.574423;\n",
      "\tR2 на тесте - 0.692978.\n",
      "Количество нейронов в первом внутреннем слое - 128, Количество эпох - 30:\n",
      "\tR2 на трейне - 0.738318;\n",
      "\tR2 на валидационном сете - 0.515714;\n",
      "\tR2 на тесте - 0.639355.\n",
      "Количество нейронов в первом внутреннем слое - 128, Количество эпох - 50:\n",
      "\tR2 на трейне - 0.730102;\n",
      "\tR2 на валидационном сете - 0.578153;\n",
      "\tR2 на тесте - 0.685682.\n",
      "Количество нейронов в первом внутреннем слое - 128, Количество эпох - 100:\n",
      "\tR2 на трейне - 0.729820;\n",
      "\tR2 на валидационном сете - 0.590611;\n",
      "\tR2 на тесте - 0.704535.\n",
      "Количество нейронов в первом внутреннем слое - 128, Количество эпох - 200:\n",
      "\tR2 на трейне - 0.750345;\n",
      "\tR2 на валидационном сете - 0.576644;\n",
      "\tR2 на тесте - 0.682383.\n",
      "Количество нейронов в первом внутреннем слое - 256, Количество эпох - 30:\n",
      "\tR2 на трейне - 0.728802;\n",
      "\tR2 на валидационном сете - 0.260103;\n",
      "\tR2 на тесте - 0.385699.\n",
      "Количество нейронов в первом внутреннем слое - 256, Количество эпох - 50:\n",
      "\tR2 на трейне - 0.728791;\n",
      "\tR2 на валидационном сете - 0.571272;\n",
      "\tR2 на тесте - 0.665244.\n",
      "Количество нейронов в первом внутреннем слое - 256, Количество эпох - 100:\n",
      "\tR2 на трейне - 0.724052;\n",
      "\tR2 на валидационном сете - 0.571255;\n",
      "\tR2 на тесте - 0.667711.\n",
      "Количество нейронов в первом внутреннем слое - 256, Количество эпох - 200:\n",
      "\tR2 на трейне - 0.729587;\n",
      "\tR2 на валидационном сете - 0.571943;\n",
      "\tR2 на тесте - 0.689376.\n",
      "Количество нейронов в первом внутреннем слое - 512, Количество эпох - 30:\n",
      "\tR2 на трейне - 0.678621;\n",
      "\tR2 на валидационном сете - 0.572718;\n",
      "\tR2 на тесте - 0.671352.\n",
      "Количество нейронов в первом внутреннем слое - 512, Количество эпох - 50:\n",
      "\tR2 на трейне - 0.697756;\n",
      "\tR2 на валидационном сете - 0.552510;\n",
      "\tR2 на тесте - 0.650753.\n",
      "Количество нейронов в первом внутреннем слое - 512, Количество эпох - 100:\n",
      "\tR2 на трейне - 0.729981;\n",
      "\tR2 на валидационном сете - 0.550009;\n",
      "\tR2 на тесте - 0.669904.\n",
      "Количество нейронов в первом внутреннем слое - 512, Количество эпох - 200:\n",
      "\tR2 на трейне - 0.719055;\n",
      "\tR2 на валидационном сете - 0.595584;\n",
      "\tR2 на тесте - 0.697900.\n"
     ]
    }
   ],
   "source": [
    "neurons  = [64, 128, 256, 512]\n",
    "epochs = [30, 50, 100, 200]\n",
    "\n",
    "for neuron in neurons:\n",
    "  for epoch in epochs:\n",
    "    model = Sequential([Dense(neuron, activation='linear', input_shape=(13,)),\n",
    "                        Dense(int(neuron/2), activation='linear'),\n",
    "                        Dense(1, activation='linear')])\n",
    "    \n",
    "    model.compile(loss=tf.keras.losses.MeanSquaredError(),\n",
    "                metrics=tfa.metrics.RSquare(dtype=tf.float32, y_shape=(1,)))\n",
    "    \n",
    "    print(f'Количество нейронов в первом внутреннем слое - {neuron}, '\n",
    "          f'Количество эпох - {epoch}:')\n",
    "\n",
    "    eval_model(X_train, y_train, epoch)"
   ]
  },
  {
   "cell_type": "markdown",
   "id": "3b67ad9d",
   "metadata": {},
   "source": [
    "Попробуем разные оптимизаторы"
   ]
  },
  {
   "cell_type": "code",
   "execution_count": 31,
   "id": "c5b588a1",
   "metadata": {},
   "outputs": [
    {
     "name": "stdout",
     "output_type": "stream",
     "text": [
      "Оптимайзер SGD:\n",
      "\tR2 на трейне - nan;\n",
      "\tR2 на валидационном сете - nan;\n",
      "\tR2 на тесте -    nan.\n",
      "Оптимайзер RMSProp:\n",
      "\tR2 на трейне - 0.718141;\n",
      "\tR2 на валидационном сете - 0.613700;\n",
      "\tR2 на тесте - 0.701798.\n",
      "Оптимайзер adam:\n",
      "\tR2 на трейне - 0.738798;\n",
      "\tR2 на валидационном сете - 0.557362;\n",
      "\tR2 на тесте - 0.693808.\n",
      "Оптимайзер NAdam:\n",
      "\tR2 на трейне - 0.746273;\n",
      "\tR2 на валидационном сете - 0.571805;\n",
      "\tR2 на тесте - 0.688487.\n"
     ]
    }
   ],
   "source": [
    "for optim in ['SGD', 'RMSProp','adam','NAdam']:\n",
    "    model = Sequential([Dense(256, activation='linear', input_shape=(13,)),\n",
    "                        Dense(128, activation='linear'),\n",
    "                        Dense(1, activation='linear')])\n",
    "    \n",
    "    model.compile(optimizer=optim,\n",
    "                  loss=tf.keras.losses.MeanSquaredError(),\n",
    "                  metrics=tfa.metrics.RSquare(dtype=tf.float32, y_shape=(1,)))\n",
    "\n",
    "    print(f'Оптимайзер {optim}:')\n",
    "\n",
    "    eval_model(X_train, y_train, epoch=100)"
   ]
  },
  {
   "cell_type": "markdown",
   "id": "685d59d5",
   "metadata": {},
   "source": [
    "Попробуем использовать другую функцию активации и уменьшить скорость обучения:"
   ]
  },
  {
   "cell_type": "code",
   "execution_count": 32,
   "id": "05092edf",
   "metadata": {},
   "outputs": [
    {
     "name": "stdout",
     "output_type": "stream",
     "text": [
      "Оптимайзер SGD:\n",
      "\tR2 на трейне - 0.937159;\n",
      "\tR2 на валидационном сете - 0.778601;\n",
      "\tR2 на тесте - 0.855621.\n",
      "Оптимайзер RMSprop:\n",
      "\tR2 на трейне - 0.961459;\n",
      "\tR2 на валидационном сете - 0.778355;\n",
      "\tR2 на тесте - 0.848614.\n",
      "Оптимайзер Adam:\n",
      "\tR2 на трейне - 0.949565;\n",
      "\tR2 на валидационном сете - 0.791297;\n",
      "\tR2 на тесте - 0.856570.\n",
      "Оптимайзер Nadam:\n",
      "\tR2 на трейне - 0.956556;\n",
      "\tR2 на валидационном сете - 0.800594;\n",
      "\tR2 на тесте - 0.856984.\n"
     ]
    }
   ],
   "source": [
    "tf.random.set_seed(42)\n",
    "\n",
    "lr = 1e-3\n",
    "\n",
    "for optim in [tf.keras.optimizers.SGD(learning_rate=lr),\n",
    "              tf.keras.optimizers.RMSprop(learning_rate=lr),\n",
    "              tf.keras.optimizers.Adam(learning_rate=lr),\n",
    "              tf.keras.optimizers.Nadam(learning_rate=lr)]:\n",
    "\n",
    "  model = Sequential([Dense(256, activation='relu', input_shape=(13,)),\n",
    "                      Dense(128, activation='relu'),\n",
    "                      Dense(1, activation='relu')])\n",
    "    \n",
    "  model.compile(optimizer=optim,\n",
    "                  loss=tf.keras.losses.MeanSquaredError(),\n",
    "                  metrics=tfa.metrics.RSquare(dtype=tf.float32, y_shape=(1,)))\n",
    "\n",
    "  print(f'Оптимайзер {type(optim).__name__}:')\n",
    "\n",
    "  eval_model(X_train, y_train, epoch=100)"
   ]
  },
  {
   "cell_type": "markdown",
   "id": "2b3d4edf",
   "metadata": {},
   "source": [
    "Метрики улучшились, но есть разрыв на трейне и валидации. Попробуем добавить слои в модель и поменять скорость обучения"
   ]
  },
  {
   "cell_type": "code",
   "execution_count": 33,
   "id": "711140f7",
   "metadata": {},
   "outputs": [
    {
     "name": "stdout",
     "output_type": "stream",
     "text": [
      "\tR2 на трейне - 0.949407;\n",
      "\tR2 на валидационном сете - 0.860456;\n",
      "\tR2 на тесте - 0.891092.\n"
     ]
    },
    {
     "data": {
      "image/png": "[encoded data removed]",
      "text/plain": [
       "<Figure size 864x576 with 1 Axes>"
      ]
     },
     "metadata": {
      "needs_background": "light"
     },
     "output_type": "display_data"
    }
   ],
   "source": [
    "tf.random.set_seed(42)\n",
    "\n",
    "lr = 3e-4\n",
    "\n",
    "def eval_model(X_train, y_train, epoch, val_split=0.15):\n",
    "  # if tf.config.experimental.list_physical_devices(\"GPU\"):\n",
    "      # with tf.device(\"GPU:0\"): \n",
    "        h = model.fit(X_train, y_train, epochs=epoch, validation_split=0.15, \n",
    "                      batch_size=10, verbose=0)\n",
    "        test_loss, test_r2 = model.evaluate(X_test, y_test, verbose=0)\n",
    "        print(f'\\tR2 на трейне - {h.history.get(\"r_square\")[-1]:.6f};\\n'\n",
    "              f'\\tR2 на валидационном сете - {h.history.get(\"val_r_square\")[-1]:.6f};\\n'\n",
    "              f'\\tR2 на тесте - {test_r2:6f}.')\n",
    "        return h\n",
    "        \n",
    "# Добавим в модель дропаут слои, чтобы уменьшить переобучение\n",
    "\n",
    "model = Sequential([Dense(256, activation='relu', input_shape=(13,)),\n",
    "                    Dropout(0.2),\n",
    "                    Dense(192, activation='relu'),\n",
    "                    Dropout(0.2),\n",
    "                    Dense(128, activation='linear'),\n",
    "                    Dropout(0.2),\n",
    "                    Dense(64, activation='relu'),\n",
    "                    Dropout(0.1),\n",
    "                    Dense(32, activation='linear'),\n",
    "                    Dense(1, activation='relu')])\n",
    "\n",
    "    \n",
    "model.compile(optimizer=tf.keras.optimizers.SGD(learning_rate=lr),\n",
    "              loss=tf.keras.losses.MeanSquaredError(),\n",
    "              metrics=tfa.metrics.RSquare(dtype=tf.float32, y_shape=(1,)))\n",
    "\n",
    "h = eval_model(X_train, y_train, epoch=300)\n",
    "\n",
    "\n",
    "plt.figure(figsize=(12, 8))\n",
    "plt.plot(h.history['loss'], label='train')\n",
    "plt.plot(h.history['val_loss'], label='val')\n",
    "plt.xlim([10, 300])\n",
    "plt.ylim([0, 25])\n",
    "plt.title('Ошибка на тренировочном и валидационном датасетах')\n",
    "plt.legend()\n",
    "plt.show()"
   ]
  },
  {
   "cell_type": "markdown",
   "id": "99d2cbc5",
   "metadata": {},
   "source": [
    "В результате донастройки удалось поднять метрику до 0.89. Помогло увеличение слоёв, количества нейронов и эпох обучения.Так же очень помогло изменение функции активации на relu"
   ]
  }
 ],
 "metadata": {
  "kernelspec": {
   "display_name": "Python 3 (ipykernel)",
   "language": "python",
   "name": "python3"
  },
  "language_info": {
   "codemirror_mode": {
    "name": "ipython",
    "version": 3
   },
   "file_extension": ".py",
   "mimetype": "text/x-python",
   "name": "python",
   "nbconvert_exporter": "python",
   "pygments_lexer": "ipython3",
   "version": "3.8.12"
  }
 },
 "nbformat": 4,
 "nbformat_minor": 5
}
